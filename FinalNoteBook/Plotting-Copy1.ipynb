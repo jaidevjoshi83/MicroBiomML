{
 "cells": [
  {
   "cell_type": "code",
   "execution_count": 2,
   "id": "94ab086b-7330-4f6c-8106-b14ac3ef375b",
   "metadata": {
    "tags": []
   },
   "outputs": [],
   "source": [
    "threshold = 0.05"
   ]
  },
  {
   "cell_type": "code",
   "execution_count": 3,
   "id": "502e6d8b",
   "metadata": {},
   "outputs": [],
   "source": [
    "def Analysis(values, thr=0.05):\n",
    "    # print(values)\n",
    "    better = []\n",
    "    comparable = []\n",
    "    thr = 0.05 \n",
    "\n",
    "    last_value = values[4]\n",
    "    \n",
    "    for v in values[0:4]:\n",
    "        # print(v)\n",
    "        better.append(round(last_value -v, 2) > thr)\n",
    "        comparable.append(abs(round(last_value -v, 2)) <= thr)\n",
    "\n",
    "    if all(better):\n",
    "        return (True, 'better_all' )\n",
    "    elif True in better:\n",
    "        return (True, 'better_one' )\n",
    "    elif all( comparable):\n",
    "        return (True, 'Comp_with_all' )\n",
    "    elif True in comparable:\n",
    "        return (True, 'Comp_with_one' )"
   ]
  },
  {
   "cell_type": "code",
   "execution_count": 7,
   "id": "8d20cf45",
   "metadata": {},
   "outputs": [
    {
     "data": {
      "text/plain": [
       "(True, 'Comp_with_one')"
      ]
     },
     "execution_count": 7,
     "metadata": {},
     "output_type": "execute_result"
    }
   ],
   "source": [
    "Analysis([0.84, 0.84, 0.85, 0.95, 0.89], thr=0.05)"
   ]
  },
  {
   "cell_type": "markdown",
   "id": "c9ccb34c",
   "metadata": {},
   "source": [
    "<!-- Blues\n",
    "BuGn\n",
    "BuPu\n",
    "GnBu\n",
    "Greens\n",
    "Greys\n",
    "Oranges\n",
    "OrRd\n",
    "PuBu\n",
    "PuBuGn\n",
    "PuRd\n",
    "Purples\n",
    "RdPu\n",
    "Reds\n",
    "YlGn\n",
    "YlGnBu\n",
    "YlOrBr\n",
    "YlOrRd -->\n"
   ]
  },
  {
   "cell_type": "code",
   "execution_count": 76,
   "id": "67856b0e",
   "metadata": {},
   "outputs": [],
   "source": [
    "import pandas as pd\n",
    "import plotly.graph_objects as go\n",
    "import os\n",
    "import glob\n",
    "import numpy as np\n",
    "import numpy as np\n",
    "import matplotlib.pyplot as plt\n",
    "import pandas as pd\n",
    "import matplotlib.pyplot as plt\n",
    "import numpy as np\n",
    "\n",
    "color_scale=[\n",
    "    [0, 'green'],    # Value -1 will be red\n",
    "    [0.5, 'red'], # Value 0 will be yellow\n",
    "    [1, 'yellow']    # Value 1 will be blue\n",
    "]\n",
    "\n",
    "# Define the color scale constant\n",
    "COLOR_SCALE = {\n",
    "    'Comp_with_all': 'blue',\n",
    "    'better_all': 'violet',\n",
    "    'Comp_with_one': 'black',\n",
    "    'better_one': 'red'\n",
    "}\n",
    "clm_list = [1, 6, 11, 16, 21]\n",
    "\n",
    "def ResultSummary(file):\n",
    "    # print(file)\n",
    "    new_DF = pd.read_csv(file, sep='\\t')\n",
    "    new_DF.set_index('name', inplace=True)\n",
    "\n",
    "    DF = new_DF.T\n",
    "    DF.columns = new_DF.index\n",
    "    DF.index = new_DF.columns\n",
    "    df = DF.iloc[clm_list]\n",
    "\n",
    "    column_anno_per = {}\n",
    "    comparable = {}\n",
    "\n",
    "    # print(df.columns)\n",
    "\n",
    "    for n in df.columns.to_list():\n",
    "        # print(n, df[n].values)\n",
    "        comparable[n] = Analysis(df[n].values, threshold)\n",
    "    return comparable\n",
    "\n",
    "def Plot(number, width=300, height=400, saveSVG=False, file_type=None, color_labels='Greens'):\n",
    "    input_file = fs[number]\n",
    "    # print(input_file)\n",
    "    threshold = 0.05\n",
    "\n",
    "    result_1 = ResultSummary(input_file)\n",
    "\n",
    "    true_columns = []\n",
    "    true_column_comp = []\n",
    "\n",
    "    for i, k in enumerate(result_1.keys()):\n",
    "        if result_1[k]:\n",
    "            true_column_comp.append((i, result_1[k], k))\n",
    "\n",
    "    plotting_columns = {\n",
    "        'Comp_with_all': [],\n",
    "        'better_all': [],\n",
    "        'Comp_with_one': [],\n",
    "        'better_one': [],\n",
    "        'None': [],\n",
    "    }\n",
    "\n",
    "    colors = COLOR_SCALE\n",
    "    arranged_columns = []\n",
    "    counter = 0\n",
    "\n",
    "    for c in colors.keys():\n",
    "        for i, a in enumerate(true_column_comp):\n",
    "            if c == a[1][1]:\n",
    "                counter += 1\n",
    "                plotting_columns[c].append((a[2], counter - 1))\n",
    "                arranged_columns.append(a[2])\n",
    "\n",
    "    # DF = pd.read_csv(input_file, sep='\\t')\n",
    "    # DF.set_index('name', inplace=True)\n",
    "\n",
    "    new_DF = pd.read_csv(input_file, sep='\\t')\n",
    "    new_DF.set_index('name', inplace=True)\n",
    "\n",
    "\n",
    "    # Assuming you have your heatmap data\n",
    "\n",
    "\n",
    "    DF = new_DF.T\n",
    "    DF.columns = new_DF.index\n",
    "    DF.index = new_DF.columns\n",
    "    df = DF.iloc[clm_list]  # Acc\n",
    "    df = df[arranged_columns]\n",
    "\n",
    "    df.index.name = 'name'\n",
    "\n",
    "\n",
    "\n",
    "    print(height, width)\n",
    "\n",
    "    heatmap = go.Heatmap(\n",
    "        z=df.values,\n",
    "        x=df.columns,\n",
    "        zmin=0,\n",
    "        zmax=1,\n",
    "        y=['LRC', 'DTC', 'SVC', 'RFC', 'HDC'],\n",
    "        # colorbar=dict(title='Value'),\n",
    "        text=df.values,  # Display values in each cell\n",
    "        texttemplate=\"%{text}\",  # Format for text\n",
    "        textfont=dict(color='white'),  # Ensure text is visible on darker colors\n",
    "        # colorscale='Greens'  \n",
    "        colorscale=color_labels \n",
    "    )\n",
    "\n",
    "    shapes = []\n",
    "\n",
    "    for i in range(5, len(df), 5):\n",
    "        shapes.append(\n",
    "            go.layout.Shape(\n",
    "                type='line',\n",
    "                x0=-0.5,\n",
    "                x1=len(df.columns) - 0.5,\n",
    "                y0=i - 0.5,\n",
    "                y1=i - 0.5,\n",
    "                line=dict(color='white', width=1),\n",
    "            )\n",
    "        )\n",
    "\n",
    "    ind = 0\n",
    "    for t in plotting_columns.keys():\n",
    "        if t != 'None' and len(plotting_columns[t]) > 0:\n",
    "            col_idx = plotting_columns[t][0][1]\n",
    "            row_idx = 4\n",
    "            shape1 = go.layout.Shape(\n",
    "                type='rect',\n",
    "                x0=col_idx - 0.48,\n",
    "                x1=plotting_columns[t][-1][1] + 0.48,\n",
    "                y0=row_idx - 4.5,\n",
    "                y1=row_idx + 0.5,\n",
    "                line=dict(color=colors[t], width=2.5),  # Use color from the color scale constant\n",
    "                fillcolor='rgba(255, 255, 255, 0)',  # Transparent fill\n",
    "            )\n",
    "            shapes.append(shape1)\n",
    "\n",
    "    fig = go.Figure(data=[heatmap])\n",
    "\n",
    "    # rows = df.shape[0]\n",
    "    # cols = df.shape[1]\n",
    "    \n",
    "    # # Calculate the desired aspect ratio\n",
    "    # cell_size = 200  # You can adjust this value for larger or smaller squares\n",
    "    # height = rows * cell_size\n",
    "    # width = cols * cell_size\n",
    "    # print(height, width)\n",
    "\n",
    "    fig.update_layout(\n",
    "        width=width,\n",
    "        height=height,\n",
    "        shapes=shapes,\n",
    "        title=input_file.split('/')[5].split('.')[0],\n",
    "        xaxis=dict(title='Study'),\n",
    "        yaxis=dict(title='Classifier'),\n",
    "        yaxis_autorange='reversed',\n",
    "        # colorscale=[[1, 'blue'], [-1, 'red']],\n",
    "        autosize=False,\n",
    "    )\n",
    "    out_svg_file_path = '../../ResultsSelectedMin200Samples/CombinedResults100/Splitted/resultsSVG' \n",
    "\n",
    "\n",
    "    if saveSVG:\n",
    "        print(os.path.join(out_svg_file_path, input_file.split('/')[5].split('.')[0]+'_F1.'+file_type))\n",
    "        fig.write_image(os.path.join(out_svg_file_path, input_file.split('/')[5].split('.')[0]+'_F1.'+file_type),  scale=2, format=file_type)\n",
    "        fig.write_image(os.path.join(out_svg_file_path, input_file.split('/')[5].split('.')[0]+'_F1.'+'png'),  scale=2, format='png')\n",
    "    \n",
    "    fig.show()"
   ]
  },
  {
   "cell_type": "code",
   "execution_count": 38,
   "id": "87a32836",
   "metadata": {},
   "outputs": [
    {
     "name": "stdout",
     "output_type": "stream",
     "text": [
      "0 born_method\n",
      "1 history_of_periodontiti\n",
      "2 disease_subtype\n",
      "3 udy_condition\n",
      "4 ORR\n",
      "5 ever_smoker\n",
      "6 PFS12\n",
      "7 birth_order\n",
      "8 country\n",
      "9 feeding_practice\n",
      "10 non_westernized\n",
      "11 age_category\n",
      "12 family_role\n",
      "13 location\n",
      "14 uncurated_metadata\n",
      "15 gender\n",
      "16 body_site\n",
      "17 birth_control_pil\n",
      "18 moker\n",
      "19 dental_sample_type\n"
     ]
    }
   ],
   "source": [
    "\n",
    "fs = glob.glob('../../ResultsSelectedMin200Samples/CombinedResults100/Splitted/*.tsv')\n",
    "\n",
    "category_list = []\n",
    "for i, f in enumerate(fs):\n",
    "    category_list.append(f.split('/')[5].strip('.tsv'))\n",
    "    print(i, f.split('/')[5].strip('.tsv'))\n",
    "\n",
    "# Error fix\n",
    "\n",
    "\n",
    "# Data Stats\n",
    "# Color blind"
   ]
  },
  {
   "cell_type": "code",
   "execution_count": 39,
   "id": "0d105c6b",
   "metadata": {},
   "outputs": [
    {
     "data": {
      "text/plain": [
       "'/Users/joshij/Desktop/Classification_5_06_24/Splitted/Fixed'"
      ]
     },
     "execution_count": 39,
     "metadata": {},
     "output_type": "execute_result"
    }
   ],
   "source": [
    "pwd"
   ]
  },
  {
   "cell_type": "code",
   "execution_count": 78,
   "id": "950899aa",
   "metadata": {},
   "outputs": [
    {
     "name": "stdout",
     "output_type": "stream",
     "text": [
      "200 100\n",
      "../../ResultsSelectedMin200Samples/CombinedResults100/Splitted/resultsSVG/dental_sample_type_F1.svg\n"
     ]
    },
    {
     "data": {
      "application/vnd.plotly.v1+json": {
       "config": {
        "plotlyServerURL": "https://plot.ly"
       },
       "data": [
        {
         "colorscale": [
          [
           0,
           "rgb(211, 242, 163)"
          ],
          [
           0.16666666666666666,
           "rgb(151, 225, 150)"
          ],
          [
           0.3333333333333333,
           "rgb(108, 192, 139)"
          ],
          [
           0.5,
           "rgb(76, 155, 130)"
          ],
          [
           0.6666666666666666,
           "rgb(33, 122, 121)"
          ],
          [
           0.8333333333333334,
           "rgb(16, 89, 101)"
          ],
          [
           1,
           "rgb(7, 64, 80)"
          ]
         ],
         "text": [
          [
           0.66
          ],
          [
           0.57
          ],
          [
           0.74
          ],
          [
           0.71
          ],
          [
           0.75
          ]
         ],
         "textfont": {
          "color": "white"
         },
         "texttemplate": "%{text}",
         "type": "heatmap",
         "x": [
          "GhensiP_2019"
         ],
         "y": [
          "LRC",
          "DTC",
          "SVC",
          "RFC",
          "HDC"
         ],
         "z": [
          [
           0.66
          ],
          [
           0.57
          ],
          [
           0.74
          ],
          [
           0.71
          ],
          [
           0.75
          ]
         ],
         "zmax": 1,
         "zmin": 0
        }
       ],
       "layout": {
        "autosize": false,
        "height": 200,
        "shapes": [
         {
          "fillcolor": "rgba(255, 255, 255, 0)",
          "line": {
           "color": "red",
           "width": 2.5
          },
          "type": "rect",
          "x0": -0.48,
          "x1": 0.48,
          "y0": -0.5,
          "y1": 4.5
         }
        ],
        "template": {
         "data": {
          "bar": [
           {
            "error_x": {
             "color": "#2a3f5f"
            },
            "error_y": {
             "color": "#2a3f5f"
            },
            "marker": {
             "line": {
              "color": "#E5ECF6",
              "width": 0.5
             },
             "pattern": {
              "fillmode": "overlay",
              "size": 10,
              "solidity": 0.2
             }
            },
            "type": "bar"
           }
          ],
          "barpolar": [
           {
            "marker": {
             "line": {
              "color": "#E5ECF6",
              "width": 0.5
             },
             "pattern": {
              "fillmode": "overlay",
              "size": 10,
              "solidity": 0.2
             }
            },
            "type": "barpolar"
           }
          ],
          "carpet": [
           {
            "aaxis": {
             "endlinecolor": "#2a3f5f",
             "gridcolor": "white",
             "linecolor": "white",
             "minorgridcolor": "white",
             "startlinecolor": "#2a3f5f"
            },
            "baxis": {
             "endlinecolor": "#2a3f5f",
             "gridcolor": "white",
             "linecolor": "white",
             "minorgridcolor": "white",
             "startlinecolor": "#2a3f5f"
            },
            "type": "carpet"
           }
          ],
          "choropleth": [
           {
            "colorbar": {
             "outlinewidth": 0,
             "ticks": ""
            },
            "type": "choropleth"
           }
          ],
          "contour": [
           {
            "colorbar": {
             "outlinewidth": 0,
             "ticks": ""
            },
            "colorscale": [
             [
              0,
              "#0d0887"
             ],
             [
              0.1111111111111111,
              "#46039f"
             ],
             [
              0.2222222222222222,
              "#7201a8"
             ],
             [
              0.3333333333333333,
              "#9c179e"
             ],
             [
              0.4444444444444444,
              "#bd3786"
             ],
             [
              0.5555555555555556,
              "#d8576b"
             ],
             [
              0.6666666666666666,
              "#ed7953"
             ],
             [
              0.7777777777777778,
              "#fb9f3a"
             ],
             [
              0.8888888888888888,
              "#fdca26"
             ],
             [
              1,
              "#f0f921"
             ]
            ],
            "type": "contour"
           }
          ],
          "contourcarpet": [
           {
            "colorbar": {
             "outlinewidth": 0,
             "ticks": ""
            },
            "type": "contourcarpet"
           }
          ],
          "heatmap": [
           {
            "colorbar": {
             "outlinewidth": 0,
             "ticks": ""
            },
            "colorscale": [
             [
              0,
              "#0d0887"
             ],
             [
              0.1111111111111111,
              "#46039f"
             ],
             [
              0.2222222222222222,
              "#7201a8"
             ],
             [
              0.3333333333333333,
              "#9c179e"
             ],
             [
              0.4444444444444444,
              "#bd3786"
             ],
             [
              0.5555555555555556,
              "#d8576b"
             ],
             [
              0.6666666666666666,
              "#ed7953"
             ],
             [
              0.7777777777777778,
              "#fb9f3a"
             ],
             [
              0.8888888888888888,
              "#fdca26"
             ],
             [
              1,
              "#f0f921"
             ]
            ],
            "type": "heatmap"
           }
          ],
          "heatmapgl": [
           {
            "colorbar": {
             "outlinewidth": 0,
             "ticks": ""
            },
            "colorscale": [
             [
              0,
              "#0d0887"
             ],
             [
              0.1111111111111111,
              "#46039f"
             ],
             [
              0.2222222222222222,
              "#7201a8"
             ],
             [
              0.3333333333333333,
              "#9c179e"
             ],
             [
              0.4444444444444444,
              "#bd3786"
             ],
             [
              0.5555555555555556,
              "#d8576b"
             ],
             [
              0.6666666666666666,
              "#ed7953"
             ],
             [
              0.7777777777777778,
              "#fb9f3a"
             ],
             [
              0.8888888888888888,
              "#fdca26"
             ],
             [
              1,
              "#f0f921"
             ]
            ],
            "type": "heatmapgl"
           }
          ],
          "histogram": [
           {
            "marker": {
             "pattern": {
              "fillmode": "overlay",
              "size": 10,
              "solidity": 0.2
             }
            },
            "type": "histogram"
           }
          ],
          "histogram2d": [
           {
            "colorbar": {
             "outlinewidth": 0,
             "ticks": ""
            },
            "colorscale": [
             [
              0,
              "#0d0887"
             ],
             [
              0.1111111111111111,
              "#46039f"
             ],
             [
              0.2222222222222222,
              "#7201a8"
             ],
             [
              0.3333333333333333,
              "#9c179e"
             ],
             [
              0.4444444444444444,
              "#bd3786"
             ],
             [
              0.5555555555555556,
              "#d8576b"
             ],
             [
              0.6666666666666666,
              "#ed7953"
             ],
             [
              0.7777777777777778,
              "#fb9f3a"
             ],
             [
              0.8888888888888888,
              "#fdca26"
             ],
             [
              1,
              "#f0f921"
             ]
            ],
            "type": "histogram2d"
           }
          ],
          "histogram2dcontour": [
           {
            "colorbar": {
             "outlinewidth": 0,
             "ticks": ""
            },
            "colorscale": [
             [
              0,
              "#0d0887"
             ],
             [
              0.1111111111111111,
              "#46039f"
             ],
             [
              0.2222222222222222,
              "#7201a8"
             ],
             [
              0.3333333333333333,
              "#9c179e"
             ],
             [
              0.4444444444444444,
              "#bd3786"
             ],
             [
              0.5555555555555556,
              "#d8576b"
             ],
             [
              0.6666666666666666,
              "#ed7953"
             ],
             [
              0.7777777777777778,
              "#fb9f3a"
             ],
             [
              0.8888888888888888,
              "#fdca26"
             ],
             [
              1,
              "#f0f921"
             ]
            ],
            "type": "histogram2dcontour"
           }
          ],
          "mesh3d": [
           {
            "colorbar": {
             "outlinewidth": 0,
             "ticks": ""
            },
            "type": "mesh3d"
           }
          ],
          "parcoords": [
           {
            "line": {
             "colorbar": {
              "outlinewidth": 0,
              "ticks": ""
             }
            },
            "type": "parcoords"
           }
          ],
          "pie": [
           {
            "automargin": true,
            "type": "pie"
           }
          ],
          "scatter": [
           {
            "fillpattern": {
             "fillmode": "overlay",
             "size": 10,
             "solidity": 0.2
            },
            "type": "scatter"
           }
          ],
          "scatter3d": [
           {
            "line": {
             "colorbar": {
              "outlinewidth": 0,
              "ticks": ""
             }
            },
            "marker": {
             "colorbar": {
              "outlinewidth": 0,
              "ticks": ""
             }
            },
            "type": "scatter3d"
           }
          ],
          "scattercarpet": [
           {
            "marker": {
             "colorbar": {
              "outlinewidth": 0,
              "ticks": ""
             }
            },
            "type": "scattercarpet"
           }
          ],
          "scattergeo": [
           {
            "marker": {
             "colorbar": {
              "outlinewidth": 0,
              "ticks": ""
             }
            },
            "type": "scattergeo"
           }
          ],
          "scattergl": [
           {
            "marker": {
             "colorbar": {
              "outlinewidth": 0,
              "ticks": ""
             }
            },
            "type": "scattergl"
           }
          ],
          "scattermapbox": [
           {
            "marker": {
             "colorbar": {
              "outlinewidth": 0,
              "ticks": ""
             }
            },
            "type": "scattermapbox"
           }
          ],
          "scatterpolar": [
           {
            "marker": {
             "colorbar": {
              "outlinewidth": 0,
              "ticks": ""
             }
            },
            "type": "scatterpolar"
           }
          ],
          "scatterpolargl": [
           {
            "marker": {
             "colorbar": {
              "outlinewidth": 0,
              "ticks": ""
             }
            },
            "type": "scatterpolargl"
           }
          ],
          "scatterternary": [
           {
            "marker": {
             "colorbar": {
              "outlinewidth": 0,
              "ticks": ""
             }
            },
            "type": "scatterternary"
           }
          ],
          "surface": [
           {
            "colorbar": {
             "outlinewidth": 0,
             "ticks": ""
            },
            "colorscale": [
             [
              0,
              "#0d0887"
             ],
             [
              0.1111111111111111,
              "#46039f"
             ],
             [
              0.2222222222222222,
              "#7201a8"
             ],
             [
              0.3333333333333333,
              "#9c179e"
             ],
             [
              0.4444444444444444,
              "#bd3786"
             ],
             [
              0.5555555555555556,
              "#d8576b"
             ],
             [
              0.6666666666666666,
              "#ed7953"
             ],
             [
              0.7777777777777778,
              "#fb9f3a"
             ],
             [
              0.8888888888888888,
              "#fdca26"
             ],
             [
              1,
              "#f0f921"
             ]
            ],
            "type": "surface"
           }
          ],
          "table": [
           {
            "cells": {
             "fill": {
              "color": "#EBF0F8"
             },
             "line": {
              "color": "white"
             }
            },
            "header": {
             "fill": {
              "color": "#C8D4E3"
             },
             "line": {
              "color": "white"
             }
            },
            "type": "table"
           }
          ]
         },
         "layout": {
          "annotationdefaults": {
           "arrowcolor": "#2a3f5f",
           "arrowhead": 0,
           "arrowwidth": 1
          },
          "autotypenumbers": "strict",
          "coloraxis": {
           "colorbar": {
            "outlinewidth": 0,
            "ticks": ""
           }
          },
          "colorscale": {
           "diverging": [
            [
             0,
             "#8e0152"
            ],
            [
             0.1,
             "#c51b7d"
            ],
            [
             0.2,
             "#de77ae"
            ],
            [
             0.3,
             "#f1b6da"
            ],
            [
             0.4,
             "#fde0ef"
            ],
            [
             0.5,
             "#f7f7f7"
            ],
            [
             0.6,
             "#e6f5d0"
            ],
            [
             0.7,
             "#b8e186"
            ],
            [
             0.8,
             "#7fbc41"
            ],
            [
             0.9,
             "#4d9221"
            ],
            [
             1,
             "#276419"
            ]
           ],
           "sequential": [
            [
             0,
             "#0d0887"
            ],
            [
             0.1111111111111111,
             "#46039f"
            ],
            [
             0.2222222222222222,
             "#7201a8"
            ],
            [
             0.3333333333333333,
             "#9c179e"
            ],
            [
             0.4444444444444444,
             "#bd3786"
            ],
            [
             0.5555555555555556,
             "#d8576b"
            ],
            [
             0.6666666666666666,
             "#ed7953"
            ],
            [
             0.7777777777777778,
             "#fb9f3a"
            ],
            [
             0.8888888888888888,
             "#fdca26"
            ],
            [
             1,
             "#f0f921"
            ]
           ],
           "sequentialminus": [
            [
             0,
             "#0d0887"
            ],
            [
             0.1111111111111111,
             "#46039f"
            ],
            [
             0.2222222222222222,
             "#7201a8"
            ],
            [
             0.3333333333333333,
             "#9c179e"
            ],
            [
             0.4444444444444444,
             "#bd3786"
            ],
            [
             0.5555555555555556,
             "#d8576b"
            ],
            [
             0.6666666666666666,
             "#ed7953"
            ],
            [
             0.7777777777777778,
             "#fb9f3a"
            ],
            [
             0.8888888888888888,
             "#fdca26"
            ],
            [
             1,
             "#f0f921"
            ]
           ]
          },
          "colorway": [
           "#636efa",
           "#EF553B",
           "#00cc96",
           "#ab63fa",
           "#FFA15A",
           "#19d3f3",
           "#FF6692",
           "#B6E880",
           "#FF97FF",
           "#FECB52"
          ],
          "font": {
           "color": "#2a3f5f"
          },
          "geo": {
           "bgcolor": "white",
           "lakecolor": "white",
           "landcolor": "#E5ECF6",
           "showlakes": true,
           "showland": true,
           "subunitcolor": "white"
          },
          "hoverlabel": {
           "align": "left"
          },
          "hovermode": "closest",
          "mapbox": {
           "style": "light"
          },
          "paper_bgcolor": "white",
          "plot_bgcolor": "#E5ECF6",
          "polar": {
           "angularaxis": {
            "gridcolor": "white",
            "linecolor": "white",
            "ticks": ""
           },
           "bgcolor": "#E5ECF6",
           "radialaxis": {
            "gridcolor": "white",
            "linecolor": "white",
            "ticks": ""
           }
          },
          "scene": {
           "xaxis": {
            "backgroundcolor": "#E5ECF6",
            "gridcolor": "white",
            "gridwidth": 2,
            "linecolor": "white",
            "showbackground": true,
            "ticks": "",
            "zerolinecolor": "white"
           },
           "yaxis": {
            "backgroundcolor": "#E5ECF6",
            "gridcolor": "white",
            "gridwidth": 2,
            "linecolor": "white",
            "showbackground": true,
            "ticks": "",
            "zerolinecolor": "white"
           },
           "zaxis": {
            "backgroundcolor": "#E5ECF6",
            "gridcolor": "white",
            "gridwidth": 2,
            "linecolor": "white",
            "showbackground": true,
            "ticks": "",
            "zerolinecolor": "white"
           }
          },
          "shapedefaults": {
           "line": {
            "color": "#2a3f5f"
           }
          },
          "ternary": {
           "aaxis": {
            "gridcolor": "white",
            "linecolor": "white",
            "ticks": ""
           },
           "baxis": {
            "gridcolor": "white",
            "linecolor": "white",
            "ticks": ""
           },
           "bgcolor": "#E5ECF6",
           "caxis": {
            "gridcolor": "white",
            "linecolor": "white",
            "ticks": ""
           }
          },
          "title": {
           "x": 0.05
          },
          "xaxis": {
           "automargin": true,
           "gridcolor": "white",
           "linecolor": "white",
           "ticks": "",
           "title": {
            "standoff": 15
           },
           "zerolinecolor": "white",
           "zerolinewidth": 2
          },
          "yaxis": {
           "automargin": true,
           "gridcolor": "white",
           "linecolor": "white",
           "ticks": "",
           "title": {
            "standoff": 15
           },
           "zerolinecolor": "white",
           "zerolinewidth": 2
          }
         }
        },
        "title": {
         "text": "dental_sample_type"
        },
        "width": 100,
        "xaxis": {
         "title": {
          "text": "Study"
         }
        },
        "yaxis": {
         "autorange": "reversed",
         "title": {
          "text": "Classifier"
         }
        }
       }
      }
     },
     "metadata": {},
     "output_type": "display_data"
    }
   ],
   "source": [
    "\n",
    "\n",
    "# ['aggrnyl', 'agsunset', 'algae', 'amp', 'armyrose', 'balance',  'blackbody', 'bluered', 'blues', 'blugrn',\n",
    "# 'bluyl', 'brbg', 'brwnyl', 'bugn', 'bupu', 'burg', 'burgyl', 'cividis', 'curl',    'darkmint', 'deep', 'delta',\n",
    "# 'dense', 'earth', 'edge', 'electric',  'emrld', 'fall', 'geyser', 'gnbu', 'gray', 'greens', 'greys',   'haline',\n",
    "#  'hot', 'hsv', 'ice', 'icefire', 'inferno', 'jet',   'magenta', 'magma', 'matter', 'mint', 'mrybm', 'mygbm', 'oranges', \n",
    "#  'orrd', 'oryel', 'oxy', 'peach', 'phase', 'picnic', 'pinkyl', 'piyg', 'plasma', 'plotly3', 'portland', 'prgn', 'pubu',\n",
    "#  'pubugn',       'puor', 'purd', 'purp', 'purples', 'purpor', 'rainbow', 'rdbu', 'rdgy', 'rdpu', 'rdylbu', 'rdylgn', \n",
    "# 'redor', 'reds', 'solar','spectral', 'speed', 'sunset', 'sunsetdark', 'teal', 'tealgrn', 'tealrose', 'tempo', 'temps',\n",
    "#  'thermal', 'tropic', 'turbid', 'turbo', 'twilight', 'viridis', 'ylgn', 'ylgnbu', 'ylorbr', 'ylorrd']\"\n",
    "\n",
    "Plot(19,  100, 400, saveSVG=True, file_type='svg', color_labels='emrld')\n",
    "\n",
    "#curl, inferno, emrld, blues, blugrn, sunsetdark, plasma, oryel, speed, tealgrn,  deep, phase, aggrnyl, agsunset, algae, amp, bluyl, cividis, darkmint, deep, delta, gnbu, greens, haline, hsv, matter, oranges, orrd, portland, rdpu\n",
    "#reds  solar speed sunset sunsetdark  thermal twilight  viridis ylgnbu ylorbr ylorrd"
   ]
  },
  {
   "cell_type": "code",
   "execution_count": null,
   "id": "5e3a54de",
   "metadata": {},
   "outputs": [],
   "source": []
  },
  {
   "cell_type": "code",
   "execution_count": 21,
   "id": "fb207145-dc0b-45ee-a174-9440da62ebf0",
   "metadata": {
    "tags": []
   },
   "outputs": [
    {
     "name": "stdout",
     "output_type": "stream",
     "text": [
      "ORR_ACC.svg                      ever_smoker_ACC.svg\n",
      "PFS12_ACC.svg                    family_role_ACC.svg\n",
      "age_category_ACC.svg             feeding_practice_ACC.svg\n",
      "birth_control_pil_ACC.svg        gender_ACC.svg\n",
      "birth_order_ACC.svg              history_of_periodontitis_ACC.svg\n",
      "body_site_ACC.svg                location_ACC.svg\n",
      "born_method_ACC.svg              non_westernized_ACC.svg\n",
      "country_ACC.svg                  smoker_ACC.svg\n",
      "dental_sample_type_ACC.svg       study_condition_ACC.svg\n",
      "disease_subtype_ACC.svg          uncurated_metadata_ACC.svg\n"
     ]
    }
   ],
   "source": [
    "!ls ../../ResultsSelectedMin200Samples/CombinedResults100/Splitted/resultsSVG \n",
    "# fig.write_image(input_file.split('.')[0]+'_ACC.svg', format=\"svg\")\n",
    "# input_file"
   ]
  },
  {
   "cell_type": "code",
   "execution_count": 22,
   "id": "bb645597",
   "metadata": {},
   "outputs": [],
   "source": [
    "\n",
    "def Analysis(values, threshold=0.05):\n",
    "    better = []\n",
    "    comparable = []\n",
    "    thr = 0.05 \n",
    "\n",
    "    last_value = values[4]\n",
    "\n",
    "    for v in values[0:4]:\n",
    "        better.append(round(last_value -v, 2) > threshold)\n",
    "        comparable.append(abs(round(last_value -v, 2)) <= threshold)\n",
    "\n",
    "    if all(better):\n",
    "        return (True, 'better_all' )\n",
    "    elif True in better:\n",
    "        return (True, 'better_one' )\n",
    "    elif all( comparable):\n",
    "        return (True, 'Comp_with_all' )\n",
    "    elif True in comparable:\n",
    "        return (True, 'Comp_with_one' )"
   ]
  },
  {
   "cell_type": "code",
   "execution_count": 23,
   "id": "1d9beb54",
   "metadata": {},
   "outputs": [
    {
     "data": {
      "text/plain": [
       "set()"
      ]
     },
     "execution_count": 23,
     "metadata": {},
     "output_type": "execute_result"
    }
   ],
   "source": [
    "# !ls ../../MicroBiomML/datasets-ra/\n",
    "\n",
    "data_file = glob.glob('../../MicroBiomML/datasets-ra/*.tsv')\n",
    "\n",
    "cut_off = 200\n",
    "\n",
    "refined_catogories = []\n",
    "\n",
    "f = open('../../ResultsSelectedMin200Samples/selected_data_'+str(cut_off)+'_Samples_or_more.txt', 'w')\n",
    "\n",
    "for d in data_file:\n",
    "    df = pd.read_csv(d, sep=\"\\t\")\n",
    "    label_counts = df['label'].value_counts()\n",
    "    count_values = label_counts.values\n",
    "    if df.shape[0] >= cut_off:\n",
    "    # print(d.split('/')[4].split('.')[1],df.shape[0], count_values[0], df.shape[0]/count_values[0])\n",
    "    # print(d.split('/')[4].split('.')[1],df.shape[0], count_values[1], df.shape[0]/count_values[1])\n",
    "        # print(d.split('/')[4], np.array([df.shape[0]/count_values[0], df.shape[0]/count_values[1]]).max(), df.shape[0], count_values[0], count_values[1] )\n",
    "        refined_catogories.append(d.split('/')[4].split('.')[3])\n",
    "        f.write(d.split('/')[4]+'\\n')\n",
    "    # print(d.split('/')[4].split('.')[1],df.shape[0], count_values[0], count_values[1], (count_values[0]+count_values[1])/2, (df.shape[0])/(count_values[0])+(df.shape[0])/(count_values[1])/2 )\n",
    "\n",
    "f.close()\n",
    "set(refined_catogories)"
   ]
  },
  {
   "cell_type": "code",
   "execution_count": 24,
   "id": "7e530a7f",
   "metadata": {},
   "outputs": [],
   "source": [
    "cut_off  = 200\n",
    "f = open('../../ResultsSelectedMin200Samples/selected_data_'+str(cut_off)+'_Samples_or_more.txt')\n",
    "selected_lines = f.readlines()"
   ]
  },
  {
   "cell_type": "code",
   "execution_count": 25,
   "id": "5abacc3a",
   "metadata": {},
   "outputs": [],
   "source": [
    "out_file = open('../../ResultsSelectedMin200Samples/merged_results_'+str(cut_off)+'.tsv', 'w')\n",
    "\n",
    "header = ['Acc_LRC','F1_LRC','Prec_LRC','Recall_LRC','MCC_LRC', 'Acc_DTC','F1_DTC','Prec_DTC','Recall_DTC','MCC_DTC', 'Acc_SVC','F1_SVC','Prec_SVC','Recall_SVC','MCC_SVC', 'Acc_RFC','F1_RFC','Prec_RFC','Recall_RFC','MCC_RFC','Acc_HDC','F1_HDC','Prec_HDC','Recall_HDC','MCC_HDC']\n",
    "header = '\\t'.join(header)\n",
    "\n",
    "out_file.write('name'+'\\t'+header+'\\n')\n",
    "\n",
    "def return_hdc_data(file_name):\n",
    "    f = open('../../MicroBiomML/hdlib-ra-levels1000-retrain20-cv5-feature-selection/HDC_result_files/'+file_name+'.txt')\n",
    "    lines = f.readlines()\n",
    "    for i, line in enumerate(lines):\n",
    "        if 'Total elapsed time:' in line:\n",
    "            result = [f\"{float(lines[i-5].split(' ')[1]):.2f}\",  f\"{float(lines[i-4].split(' ')[1]):.2f}\", f\"{float(lines[i-3].split(' ')[1]):.2f}\", f\"{float(lines[i-2].split(' ')[1]):.2f}\", f\"{float(lines[i-1].split(' ')[3]):.2f}\"]\n",
    "    return result\n",
    "\n",
    "fs = glob.glob('./datasets-ra/*.tsv')\n",
    "\n",
    "algs = ['LRC', 'DTC', 'SVC', 'RFC']\n",
    "\n",
    "for d in selected_lines:\n",
    "    d = d.strip('\\n')\n",
    "\n",
    "    result_list = []\n",
    "    print(\"#######################\")\n",
    "    for alg in algs:\n",
    "        data =  open(os.path.join('../../', alg+\"_results\", 'result.tsv'))\n",
    "        lines = data.readlines()\n",
    "        print(alg)\n",
    "        for i in lines:\n",
    "            if d in i:\n",
    "                result_list = result_list + i.rstrip('\\n').split(',')[1:]\n",
    "    result_list =  [f\"{float(v):.2f}\" for v in result_list]\n",
    "    \n",
    "    result = return_hdc_data(d)\n",
    "    out_file.write(d+'\\t'+'\\t'.join(result_list+result)+'\\n')\n",
    "out_file.close()\n"
   ]
  },
  {
   "cell_type": "code",
   "execution_count": 26,
   "id": "88a3c24a",
   "metadata": {},
   "outputs": [
    {
     "name": "stdout",
     "output_type": "stream",
     "text": [
      "/Users/joshij/Desktop/Classification_5_06_24/Splitted/Fixed\n",
      "Analysis_with_mean.ipynb     dental_sample_type.tsv\n",
      "Analysis_without_mean.ipynb  disease_subtype.tsv\n",
      "\u001b[34mFixed\u001b[m\u001b[m                        ever_smoker.tsv\n",
      "MeanEx.py                    family_role.tsv\n",
      "ORR.tsv                      feeding_practice.tsv\n",
      "PFS12.tsv                    gender.tsv\n",
      "Untitled.ipynb               history_of_periodontitis.tsv\n",
      "Untitled1.ipynb              location.tsv\n",
      "Untitled2.ipynb              non_westernized.tsv\n",
      "age_category.tsv             plot.py\n",
      "alcohol.tsv                  remission.tsv\n",
      "anti_PD_1.tsv                scatter_plot.svg\n",
      "birth_control_pil.tsv        shigatoxin_2_elisa.tsv\n",
      "birth_order.tsv              smoker.tsv\n",
      "body_site.tsv                split_results.py\n",
      "body_subsite.tsv             study_condition.tsv\n",
      "born_method.tsv              treatment.tsv\n",
      "country.tsv                  uncurated_metadata.tsv\n"
     ]
    }
   ],
   "source": [
    "!pwd\n",
    "!ls ../"
   ]
  },
  {
   "cell_type": "code",
   "execution_count": 28,
   "id": "6eb55f97",
   "metadata": {},
   "outputs": [],
   "source": [
    "f = open('../../ResultsSelectedMin200Samples/CombinedResults200/merged_results_200.tsv')\n",
    "\n",
    "lines = f.readlines()\n",
    "category =  list(set([ line.split('\\t')[0].split('.')[3] for line in lines[1:] ]))\n",
    "\n",
    "'LRC', 'DTC', 'LRC', 'RFC'\n",
    "\n",
    "header = ['Acc_LRC','F1_LRC','Prec_LRC','Recall_LRC','MCC_LRC', 'Acc_DTC','F1_DTC','Prec_DTC','Recall_DTC','MCC_DTC', 'Acc_SVC','F1_SVC','Prec_SVC','Recall_SVC','MCC_SVC', 'Acc_RFC','F1_RFC','Prec_RFC','Recall_RFC','MCC_RFC','Acc_HDC','F1_HDC','Prec_HDC','Recall_HDC','MCC_HDC']\n",
    "header = '\\t'.join(header)\n",
    "\n",
    "\n",
    "for c in category:\n",
    "    out = open('../../ResultsSelectedMin200Samples/CombinedResults200/Splitted/'+c+'.tsv', 'w')\n",
    "    out.write('name'+'\\t'+header+'\\n')\n",
    "\n",
    "    for l in lines:\n",
    "        if c in l:\n",
    "            rename_list = [l.split('\\t')[0].split('.')[1]] + l.split('\\t')[1:]\n",
    "            # print(\"\\t\".join(rename_list))\n",
    "            out.write(\"\\t\".join(rename_list))\n",
    "            # print(l)\n",
    "out.close()\n",
    "f.close()\n",
    "   "
   ]
  },
  {
   "cell_type": "code",
   "execution_count": 1,
   "id": "78726159",
   "metadata": {},
   "outputs": [],
   "source": [
    "# import matplotlib.pyplot as plt\n",
    "# import numpy as np\n",
    "# import pandas as pd\n",
    "# # Sample data\n",
    "# import pandas as pd\n",
    "\n",
    "# # Sample data\n",
    "# data = {\n",
    "#     'Category': ['A', 'B', 'C', 'D', 'E', 'F', 'G', 'H', 'I'],\n",
    "#     'Positive': [150, 300, 200, 250, 150, 100, 50, 30, 20],\n",
    "#     'Negative': [200, 400, 300, 350, 250, 150, 100, 60, 40]\n",
    "# }\n",
    "\n",
    "# import matplotlib.pyplot as plt\n",
    "# import numpy as np\n",
    "\n",
    "# # Set the positions and width for the bars\n",
    "# positions = np.arange(len(df['Category']))\n",
    "# width = 0.4\n",
    "\n",
    "# # Plot the data\n",
    "# fig, ax = plt.subplots(figsize=(12, 8))\n",
    "\n",
    "# # Plot Positive data on the left\n",
    "# ax.barh(positions - width/2, df['Positive'], width, label='Positive', color='green')\n",
    "\n",
    "# # Plot Negative data on the right\n",
    "# ax.barh(positions + width/2, -df['Negative'], width, label='Negative', color='red')\n",
    "\n",
    "# # Customize the plot\n",
    "# ax.set(yticks=positions, yticklabels=df['Category'], xlabel='Sample Size', ylabel='Category')\n",
    "# ax.axvline(0, color='black', linewidth=0.8)\n",
    "# ax.legend()\n",
    "\n",
    "# # Set custom x-ticks\n",
    "# ticks = np.arange(-max(df['Negative']), max(df['Positive']) + 1, 50)\n",
    "# ax.set_xticks(ticks)\n",
    "# ax.set_xticklabels([abs(int(tick)) for tick in ticks])\n",
    "\n",
    "# # Add labels to bars\n",
    "# for index, value in enumerate(df['Positive']):\n",
    "#     ax.text(value + 10, index - width/2, str(value), va='center', ha='left', color='green')\n",
    "\n",
    "# for index, value in enumerate(df['Negative']):\n",
    "#     ax.text(-value - 10, index + width/2, str(value), va='center', ha='right', color='red')\n",
    "\n",
    "# plt.title('Sample Size Distribution by Category and Class')\n",
    "# plt.show()\n",
    "\n"
   ]
  },
  {
   "cell_type": "code",
   "execution_count": 29,
   "id": "f31f21ac",
   "metadata": {},
   "outputs": [
    {
     "data": {
      "text/plain": [
       "array([0.        , 0.33333333, 0.6969697 , 1.        , 0.60606061,\n",
       "       0.27272727, 0.84848485, 0.09090909])"
      ]
     },
     "execution_count": 29,
     "metadata": {},
     "output_type": "execute_result"
    }
   ],
   "source": [
    "# Define the values\n",
    "values = np.array([1.2, 2.3, 3.5, 4.5, 3.2, 2.1, 4.0, 1.5])\n",
    "\n",
    "# Calculate the min and max values\n",
    "min_value = values.min()\n",
    "max_value = values.max()\n",
    "\n",
    "# Apply min-max normalization\n",
    "normalized_values = (values - min_value) / (max_value - min_value)\n",
    "\n",
    "# Print the normalized values\n",
    "normalized_values"
   ]
  },
  {
   "cell_type": "code",
   "execution_count": 30,
   "id": "a269e33b",
   "metadata": {},
   "outputs": [
    {
     "data": {
      "text/plain": [
       "array([0.06666667, 0.        , 0.16666667, 0.33333333, 0.06666667,\n",
       "       0.66666667, 1.        , 0.26666667, 0.16666667])"
      ]
     },
     "execution_count": 30,
     "metadata": {},
     "output_type": "execute_result"
    }
   ],
   "source": [
    "# Define the unbalance scores\n",
    "unbalance_scores = np.array([1.8, 2, 2.5, 3, 2.2, 4, 5, 2.8, 1.5])\n",
    "\n",
    "def normalize_unbalance_scores(scores):\n",
    "    min_score = 2\n",
    "    max_score = scores.max()\n",
    "    normalized_scores = abs((scores - min_score) / (max_score - min_score))\n",
    "    return normalized_scores\n",
    "\n",
    "# Apply the normalization\n",
    "normalized_unbalance_scores = normalize_unbalance_scores(unbalance_scores)\n",
    "\n",
    "# Print the normalized unbalance scores\n",
    "normalized_unbalance_scores"
   ]
  },
  {
   "cell_type": "code",
   "execution_count": 31,
   "id": "23cd395a",
   "metadata": {},
   "outputs": [],
   "source": [
    "dataset = open('../../ResultsSelectedMin200Samples/CombinedResults100/merged_results_100.tsv')\n",
    "lines = dataset.readlines()\n",
    "catagories = list(set([l.split('\\t')[0].split('.')[3] for l in lines[1:]]))\n",
    "\n",
    "cat_dict = {}\n",
    "class_labels = []\n",
    "\n",
    "for d in catagories:\n",
    "    data_list = []\n",
    "    for line in lines[1:]:\n",
    "        if d in line:\n",
    "            df = pd.read_csv('../../MicroBiomML_NonGit/datasets-ra/'+line.split('\\t')[0], sep=\"\\t\")\n",
    "            label_counts = df['label'].value_counts().to_list()\n",
    "            # print(line.split('\\t')[0])\n",
    "            data_list.append({line.split('\\t')[0]:label_counts, 'class_labels':list(set(df['label'].to_list()))})\n",
    "\n",
    "    cat_dict[d] =  data_list"
   ]
  },
  {
   "cell_type": "code",
   "execution_count": 146,
   "id": "c2f0aefe",
   "metadata": {},
   "outputs": [
    {
     "ename": "IndexError",
     "evalue": "list index out of range",
     "output_type": "error",
     "traceback": [
      "\u001b[0;31m---------------------------------------------------------------------------\u001b[0m",
      "\u001b[0;31mIndexError\u001b[0m                                Traceback (most recent call last)",
      "Cell \u001b[0;32mIn[146], line 7\u001b[0m\n\u001b[1;32m      3\u001b[0m negatives \u001b[38;5;241m=\u001b[39m []\n\u001b[1;32m      5\u001b[0m cat_index \u001b[38;5;241m=\u001b[39m \u001b[38;5;241m20\u001b[39m\n\u001b[0;32m----> 7\u001b[0m \u001b[38;5;28;01mfor\u001b[39;00m cat \u001b[38;5;129;01min\u001b[39;00m [\u001b[43mcatagories\u001b[49m\u001b[43m[\u001b[49m\u001b[43mcat_index\u001b[49m\u001b[43m]\u001b[49m]:\n\u001b[1;32m      8\u001b[0m     \u001b[38;5;28;01mfor\u001b[39;00m c \u001b[38;5;129;01min\u001b[39;00m cat_dict[cat]:\n\u001b[1;32m      9\u001b[0m         unique_labels\u001b[38;5;241m.\u001b[39mappend(\u001b[38;5;28mlist\u001b[39m(c\u001b[38;5;241m.\u001b[39mkeys())[\u001b[38;5;241m0\u001b[39m]\u001b[38;5;241m.\u001b[39msplit(\u001b[38;5;124m'\u001b[39m\u001b[38;5;124m.\u001b[39m\u001b[38;5;124m'\u001b[39m)[\u001b[38;5;241m3\u001b[39m]\u001b[38;5;241m+\u001b[39m\u001b[38;5;124m\"\u001b[39m\u001b[38;5;124m_\u001b[39m\u001b[38;5;124m\"\u001b[39m\u001b[38;5;241m+\u001b[39m\u001b[38;5;28mlist\u001b[39m(c\u001b[38;5;241m.\u001b[39mkeys())[\u001b[38;5;241m0\u001b[39m]\u001b[38;5;241m.\u001b[39msplit(\u001b[38;5;124m'\u001b[39m\u001b[38;5;124m.\u001b[39m\u001b[38;5;124m'\u001b[39m)[\u001b[38;5;241m0\u001b[39m]\u001b[38;5;241m+\u001b[39m\u001b[38;5;124m\"\u001b[39m\u001b[38;5;124m_\u001b[39m\u001b[38;5;124m\"\u001b[39m\u001b[38;5;241m+\u001b[39m\u001b[38;5;28mlist\u001b[39m(c\u001b[38;5;241m.\u001b[39mkeys())[\u001b[38;5;241m0\u001b[39m]\u001b[38;5;241m.\u001b[39msplit(\u001b[38;5;124m'\u001b[39m\u001b[38;5;124m.\u001b[39m\u001b[38;5;124m'\u001b[39m)[\u001b[38;5;241m1\u001b[39m])\n",
      "\u001b[0;31mIndexError\u001b[0m: list index out of range"
     ]
    }
   ],
   "source": [
    "unique_labels = []\n",
    "positives = []\n",
    "negatives = []\n",
    "\n",
    "cat_index = 20\n",
    "\n",
    "for cat in [catagories[cat_index]]:\n",
    "    for c in cat_dict[cat]:\n",
    "        unique_labels.append(list(c.keys())[0].split('.')[3]+\"_\"+list(c.keys())[0].split('.')[0]+\"_\"+list(c.keys())[0].split('.')[1])\n",
    "        positives.append(c[list(c.keys())[0]][0])\n",
    "        negatives.append(c[list(c.keys())[0]][1])\n",
    "\n",
    "# print(unique_labels)\n",
    "#     print(positives)\n",
    "#     print(negatives)\n",
    "# print(catagories)\n",
    "# Sample data\n",
    "\n",
    "data = {\n",
    "    'Category': unique_labels,\n",
    "    'Class 1': positives,\n",
    "    'Class 2': negatives\n",
    "}\n",
    "\n",
    "df = pd.DataFrame(data)\n",
    "\n",
    "# Set the positions and width for the bars\n",
    "positions = np.arange(len(df['Category']))\n",
    "width = 0.4\n",
    "\n",
    "# Plot the data\n",
    "fig, ax = plt.subplots(figsize=(22, 2))\n",
    "fig.subplots_adjust(left=0.35, right=0.95, top=0.8, bottom=0.3)\n",
    "\n",
    "# Plot Positive data on the left\n",
    "ax.barh(positions - width/2, df['Class 1'], width, label='Class 1', color='green')\n",
    "\n",
    "# Plot Negative data on the right\n",
    "ax.barh(positions + width/2, -df['Class 2'], width, label='Class 2', color='red')\n",
    "\n",
    "# Customize the plot\n",
    "ax.set(yticks=positions, yticklabels=df['Category'], xlabel='Sample Size')\n",
    "# ax.set(yticks=positions, yticklabels=df['Category'], xlabel='Sample Size', ylabel='Category')\n",
    "\n",
    "ax.axvline(0, color='black', linewidth=0.8)\n",
    "ax.legend()\n",
    "\n",
    "# Set custom x-ticks\n",
    "ticks = np.arange(-max(df['Class 2']), max(df['Class 1']) + 1, 50)\n",
    "ax.set_xticks(ticks)\n",
    "ax.set_xticklabels([abs(int(tick)) for tick in ticks])\n",
    "\n",
    "plt.tick_params(axis='both', which='major', labelsize=16)\n",
    "plt.xlabel('Sample Size', fontsize=14)\n",
    "\n",
    "# Add labels to bars\n",
    "for index, value in enumerate(df['Class 1']):\n",
    "    ax.text(value + 0.5, index - width/2, str(value), va='center', ha='left', color='green', fontsize=14)\n",
    "\n",
    "for index, value in enumerate(df['Class 2']):\n",
    "    ax.text(-value - 0.5, index + width/2, str(value), va='center', ha='right', color='red', fontsize=14)\n",
    "\n",
    "plt.title('Sample Size Distribution: '+catagories[cat_index])\n",
    "plt.savefig(os.path.join('../../DataDistributionPlot/',catagories[cat_index]+'.png'), dpi=600)\n",
    "plt.show()"
   ]
  },
  {
   "cell_type": "code",
   "execution_count": 8,
   "id": "776aaf5d",
   "metadata": {},
   "outputs": [],
   "source": [
    "!ls ../../DataDistributionPlot/"
   ]
  },
  {
   "cell_type": "code",
   "execution_count": 78,
   "id": "934d1eeb",
   "metadata": {},
   "outputs": [
    {
     "name": "stdout",
     "output_type": "stream",
     "text": [
      "##############################\n",
      "born_method\n",
      "ShaoY_2019\n",
      "c_section    695\n",
      "vaginal      638\n",
      "Name: label, dtype: int64\n",
      "BrooksB_2017\n",
      "c_section    278\n",
      "vaginal      125\n",
      "Name: label, dtype: int64\n",
      "BrooksB_2017\n",
      "c_section    278\n",
      "vaginal      125\n",
      "Name: label, dtype: int64\n",
      "Total Samples 2139\n",
      "##############################\n",
      "history_of_periodontiti\n",
      "GhensiP_2019\n",
      "no     62\n",
      "yes    43\n",
      "Name: label, dtype: int64\n",
      "Total Samples 105\n",
      "##############################\n",
      "disease_subtype\n",
      "LiJ_2014\n",
      "CD    76\n",
      "UC    64\n",
      "Name: label, dtype: int64\n",
      "HMP_2019_ibdmdb\n",
      "CD    625\n",
      "UC    426\n",
      "Name: label, dtype: int64\n",
      "HallAB_2017\n",
      "UC    97\n",
      "CD    88\n",
      "Name: label, dtype: int64\n",
      "HallAB_2017\n",
      "UC    97\n",
      "CD    88\n",
      "Name: label, dtype: int64\n",
      "HMP_2019_ibdmdb\n",
      "CD    625\n",
      "UC    426\n",
      "Name: label, dtype: int64\n",
      "Total Samples 2612\n",
      "##############################\n",
      "udy_condition\n",
      "NielsenHB_2014\n",
      "control    248\n",
      "IBD        148\n",
      "Name: label, dtype: int64\n",
      "ZhuF_2020\n",
      "schizophrenia    90\n",
      "control          81\n",
      "Name: label, dtype: int64\n",
      "VogtmannE_2016\n",
      "control    52\n",
      "CRC        52\n",
      "Name: label, dtype: int64\n",
      "QinJ_2012\n",
      "control    174\n",
      "T2D        170\n",
      "Name: label, dtype: int64\n",
      "JieZ_2017\n",
      "ACVD       214\n",
      "control    171\n",
      "Name: label, dtype: int64\n",
      "YuJ_2015\n",
      "CRC        74\n",
      "control    54\n",
      "Name: label, dtype: int64\n",
      "QinN_2014\n",
      "cirrhosis    123\n",
      "control      114\n",
      "Name: label, dtype: int64\n",
      "RubelMA_2020\n",
      "STH        89\n",
      "control    86\n",
      "Name: label, dtype: int64\n",
      "JieZ_2017\n",
      "ACVD       214\n",
      "control    171\n",
      "Name: label, dtype: int64\n",
      "WirbelJ_2018\n",
      "control    65\n",
      "CRC        60\n",
      "Name: label, dtype: int64\n",
      "RubelMA_2020\n",
      "STH        89\n",
      "control    86\n",
      "Name: label, dtype: int64\n",
      "NagySzakalD_2017\n",
      "ME/CFS     50\n",
      "control    50\n",
      "Name: label, dtype: int64\n",
      "NagySzakalD_2017\n",
      "ME/CFS     50\n",
      "control    50\n",
      "Name: label, dtype: int64\n",
      "QinJ_2012\n",
      "control    174\n",
      "T2D        170\n",
      "Name: label, dtype: int64\n",
      "Total Samples 3169\n",
      "##############################\n",
      "ORR\n",
      "LeeKA_2022\n",
      "yes    82\n",
      "no     57\n",
      "Name: label, dtype: int64\n",
      "Total Samples 139\n",
      "##############################\n",
      "ever_smoker\n",
      "GhensiP_2019\n",
      "no     75\n",
      "yes    34\n",
      "Name: label, dtype: int64\n",
      "XieH_2016\n",
      "no     153\n",
      "yes     96\n",
      "Name: label, dtype: int64\n",
      "KeohaneDM_2020\n",
      "yes    61\n",
      "no     56\n",
      "Name: label, dtype: int64\n",
      "Total Samples 475\n",
      "##############################\n",
      "PFS12\n",
      "LeeKA_2022\n",
      "no     70\n",
      "yes    67\n",
      "Name: label, dtype: int64\n",
      "Total Samples 137\n",
      "##############################\n",
      "birth_order\n",
      "XieH_2016\n",
      "2.0    112\n",
      "1.0    110\n",
      "Name: label, dtype: int64\n",
      "Total Samples 222\n",
      "##############################\n",
      "country\n",
      "CosteaPI_2017\n",
      "KAZ    172\n",
      "DEU    107\n",
      "Name: label, dtype: int64\n",
      "NielsenHB_2014\n",
      "ESP    219\n",
      "DNK    177\n",
      "Name: label, dtype: int64\n",
      "CosteaPI_2017\n",
      "KAZ    172\n",
      "DEU    107\n",
      "Name: label, dtype: int64\n",
      "PehrssonE_2016\n",
      "SLV    114\n",
      "PER     77\n",
      "Name: label, dtype: int64\n",
      "PehrssonE_2016\n",
      "SLV    114\n",
      "PER     77\n",
      "Name: label, dtype: int64\n",
      "Total Samples 1336\n",
      "##############################\n",
      "feeding_practice\n",
      "YassourM_2018\n",
      "exclusively_breastfeeding    80\n",
      "mixed_feeding                71\n",
      "Name: label, dtype: int64\n",
      "Total Samples 151\n",
      "##############################\n",
      "non_westernized\n",
      "LiuW_2016\n",
      "yes    65\n",
      "no     45\n",
      "Name: label, dtype: int64\n",
      "LiuW_2016\n",
      "yes    65\n",
      "no     45\n",
      "Name: label, dtype: int64\n",
      "Total Samples 220\n",
      "##############################\n",
      "age_category\n",
      "WirbelJ_2018\n",
      "adult     86\n",
      "senior    39\n",
      "Name: label, dtype: int64\n",
      "VatanenT_2016\n",
      "child      373\n",
      "newborn    235\n",
      "Name: label, dtype: int64\n",
      "FerrettiP_2018\n",
      "newborn    133\n",
      "adult       81\n",
      "Name: label, dtype: int64\n",
      "YuJ_2015\n",
      "adult     80\n",
      "senior    48\n",
      "Name: label, dtype: int64\n",
      "ZellerG_2014\n",
      "adult     91\n",
      "senior    65\n",
      "Name: label, dtype: int64\n",
      "VogtmannE_2016\n",
      "adult     69\n",
      "senior    41\n",
      "Name: label, dtype: int64\n",
      "LeeKA_2022\n",
      "adult     75\n",
      "senior    64\n",
      "Name: label, dtype: int64\n",
      "YachidaS_2019\n",
      "adult     347\n",
      "senior    269\n",
      "Name: label, dtype: int64\n",
      "FengQ_2015\n",
      "senior    94\n",
      "adult     60\n",
      "Name: label, dtype: int64\n",
      "YassourM_2018\n",
      "newborn    155\n",
      "adult      116\n",
      "Name: label, dtype: int64\n",
      "YachidaS_2019\n",
      "adult     347\n",
      "senior    269\n",
      "Name: label, dtype: int64\n",
      "Total Samples 3137\n",
      "##############################\n",
      "family_role\n",
      "FerrettiP_2018\n",
      "child     134\n",
      "mother     80\n",
      "Name: label, dtype: int64\n",
      "YassourM_2018\n",
      "child     155\n",
      "mother    116\n",
      "Name: label, dtype: int64\n",
      "Total Samples 485\n",
      "##############################\n",
      "location\n",
      "HallAB_2017\n",
      "Boston     170\n",
      "Atlanta     89\n",
      "Name: label, dtype: int64\n",
      "PehrssonE_2016\n",
      "rural_village                114\n",
      "Lima_periurban_shantytown     77\n",
      "Name: label, dtype: int64\n",
      "HallAB_2017\n",
      "Boston     170\n",
      "Atlanta     89\n",
      "Name: label, dtype: int64\n",
      "DhakanDB_2019\n",
      "Kerala    57\n",
      "Bhopal    53\n",
      "Name: label, dtype: int64\n",
      "PehrssonE_2016\n",
      "rural_village                114\n",
      "Lima_periurban_shantytown     77\n",
      "Name: label, dtype: int64\n",
      "Total Samples 1010\n",
      "##############################\n",
      "uncurated_metadata\n",
      "HansenLBS_2018\n",
      "low_gluten_diet     104\n",
      "high_gluten_diet    103\n",
      "Name: label, dtype: int64\n",
      "HansenLBS_2018\n",
      "low_gluten_diet     104\n",
      "high_gluten_diet    103\n",
      "Name: label, dtype: int64\n",
      "Total Samples 414\n",
      "##############################\n",
      "gender\n",
      "JieZ_2017\n",
      "male      226\n",
      "female    154\n",
      "Name: label, dtype: int64\n",
      "CosteaPI_2017\n",
      "female    131\n",
      "male       99\n",
      "Name: label, dtype: int64\n",
      "VatanenT_2016\n",
      "male      344\n",
      "female    264\n",
      "Name: label, dtype: int64\n",
      "RubelMA_2020\n",
      "female    98\n",
      "male      77\n",
      "Name: label, dtype: int64\n",
      "BritoIL_2016\n",
      "female    169\n",
      "male      143\n",
      "Name: label, dtype: int64\n",
      "FengQ_2015\n",
      "male      87\n",
      "female    67\n",
      "Name: label, dtype: int64\n",
      "ShaoY_2019\n",
      "female    641\n",
      "male      604\n",
      "Name: label, dtype: int64\n",
      "YachidaS_2019\n",
      "male      358\n",
      "female    258\n",
      "Name: label, dtype: int64\n",
      "OhJ_2014\n",
      "male      165\n",
      "female    122\n",
      "Name: label, dtype: int64\n",
      "ZellerG_2014\n",
      "male      87\n",
      "female    69\n",
      "Name: label, dtype: int64\n",
      "QinJ_2012\n",
      "male      190\n",
      "female    154\n",
      "Name: label, dtype: int64\n",
      "LifeLinesDeep_2016\n",
      "female    661\n",
      "male      474\n",
      "Name: label, dtype: int64\n",
      "BrooksB_2017\n",
      "male      241\n",
      "female    162\n",
      "Name: label, dtype: int64\n",
      "QinJ_2012\n",
      "male      190\n",
      "female    154\n",
      "Name: label, dtype: int64\n",
      "NielsenHB_2014\n",
      "female    223\n",
      "male      173\n",
      "Name: label, dtype: int64\n",
      "HansenLBS_2018\n",
      "female    116\n",
      "male       91\n",
      "Name: label, dtype: int64\n",
      "JieZ_2017\n",
      "male      226\n",
      "female    154\n",
      "Name: label, dtype: int64\n",
      "DhakanDB_2019\n",
      "female    57\n",
      "male      53\n",
      "Name: label, dtype: int64\n",
      "BackhedF_2015\n",
      "female    236\n",
      "male       99\n",
      "Name: label, dtype: int64\n",
      "HMP_2019_t2d\n",
      "male      176\n",
      "female    118\n",
      "Name: label, dtype: int64\n",
      "HMP_2012\n",
      "male      396\n",
      "female    352\n",
      "Name: label, dtype: int64\n",
      "BrooksB_2017\n",
      "male      241\n",
      "female    162\n",
      "Name: label, dtype: int64\n",
      "YuJ_2015\n",
      "male      81\n",
      "female    47\n",
      "Name: label, dtype: int64\n",
      "BackhedF_2015\n",
      "female    236\n",
      "male       99\n",
      "Name: label, dtype: int64\n",
      "KosticAD_2015\n",
      "female    67\n",
      "male      53\n",
      "Name: label, dtype: int64\n",
      "LeChatelierE_2013\n",
      "female    90\n",
      "male      73\n",
      "Name: label, dtype: int64\n",
      "SchirmerM_2016\n",
      "female    265\n",
      "male      200\n",
      "Name: label, dtype: int64\n",
      "LiJ_2014\n",
      "female    129\n",
      "male      119\n",
      "Name: label, dtype: int64\n",
      "WirbelJ_2018\n",
      "male      73\n",
      "female    52\n",
      "Name: label, dtype: int64\n",
      "HMP_2019_ibdmdb\n",
      "female    732\n",
      "male      730\n",
      "Name: label, dtype: int64\n",
      "ZhuF_2020\n",
      "male      87\n",
      "female    84\n",
      "Name: label, dtype: int64\n",
      "VilaAV_2018\n",
      "female    227\n",
      "male      128\n",
      "Name: label, dtype: int64\n",
      "KeohaneDM_2020\n",
      "female    65\n",
      "male      52\n",
      "Name: label, dtype: int64\n",
      "RubelMA_2020\n",
      "female    98\n",
      "male      77\n",
      "Name: label, dtype: int64\n",
      "CosteaPI_2017\n",
      "female    131\n",
      "male       99\n",
      "Name: label, dtype: int64\n",
      "HMP_2019_ibdmdb\n",
      "female    732\n",
      "male      730\n",
      "Name: label, dtype: int64\n",
      "OhJ_2014\n",
      "male      165\n",
      "female    122\n",
      "Name: label, dtype: int64\n",
      "QinN_2014\n",
      "male      156\n",
      "female     81\n",
      "Name: label, dtype: int64\n",
      "PehrssonE_2016\n",
      "female    96\n",
      "male      92\n",
      "Name: label, dtype: int64\n",
      "PehrssonE_2016\n",
      "female    96\n",
      "male      92\n",
      "Name: label, dtype: int64\n",
      "YachidaS_2019\n",
      "male      358\n",
      "female    258\n",
      "Name: label, dtype: int64\n",
      "ZeeviD_2015\n",
      "female    547\n",
      "male      353\n",
      "Name: label, dtype: int64\n",
      "PasolliE_2019\n",
      "male      58\n",
      "female    54\n",
      "Name: label, dtype: int64\n",
      "LeeKA_2022\n",
      "male      83\n",
      "female    56\n",
      "Name: label, dtype: int64\n",
      "HansenLBS_2018\n",
      "female    116\n",
      "male       91\n",
      "Name: label, dtype: int64\n",
      "Total Samples 17692\n",
      "##############################\n",
      "body_site\n",
      "BritoIL_2016\n",
      "stool         172\n",
      "oralcavity    140\n",
      "Name: label, dtype: int64\n",
      "Total Samples 312\n",
      "##############################\n",
      "birth_control_pil\n",
      "SchirmerM_2016\n",
      "yes    143\n",
      "no     143\n",
      "Name: label, dtype: int64\n",
      "Total Samples 286\n",
      "##############################\n",
      "moker\n",
      "GhensiP_2019\n",
      "no     75\n",
      "yes    34\n",
      "Name: label, dtype: int64\n",
      "XieH_2016\n",
      "no     153\n",
      "yes     96\n",
      "Name: label, dtype: int64\n",
      "KeohaneDM_2020\n",
      "yes    61\n",
      "no     56\n",
      "Name: label, dtype: int64\n",
      "KeohaneDM_2020\n",
      "no     60\n",
      "yes    57\n",
      "Name: label, dtype: int64\n",
      "Total Samples 592\n",
      "##############################\n",
      "dental_sample_type\n",
      "GhensiP_2019\n",
      "implant    78\n",
      "teeth      35\n",
      "Name: label, dtype: int64\n",
      "Total Samples 113\n"
     ]
    }
   ],
   "source": [
    "\n",
    "fs = glob.glob('/Users/joshij/Desktop/Classification_5_06_24/datasets-ra/*.tsv')\n",
    "\n",
    "for c in category_list:\n",
    "    counter = 0\n",
    "    class_labels = None\n",
    "    print(\"##############################\")\n",
    "    print(c)\n",
    "    for f in fs: \n",
    "        if c in f:\n",
    "            NewDf = pd.read_csv(f, sep='\\t')\n",
    "            if NewDf.shape[0] >= 100:\n",
    "                counter = counter + NewDf.shape[0]\n",
    "                class_labels = NewDf['label'].value_counts()\n",
    "                # print(c , f)\n",
    "                print(f.split('/')[6].split('.')[1])\n",
    "                print(class_labels)\n",
    "\n",
    "    print(\"Total Samples\", counter)"
   ]
  },
  {
   "cell_type": "code",
   "execution_count": 57,
   "id": "c9c87554",
   "metadata": {},
   "outputs": [
    {
     "ename": "NameError",
     "evalue": "name 'born_method' is not defined",
     "output_type": "error",
     "traceback": [
      "\u001b[0;31m---------------------------------------------------------------------------\u001b[0m",
      "\u001b[0;31mNameError\u001b[0m                                 Traceback (most recent call last)",
      "Cell \u001b[0;32mIn[57], line 1\u001b[0m\n\u001b[0;32m----> 1\u001b[0m \u001b[43mborn_method\u001b[49m\n\u001b[1;32m      2\u001b[0m history_of_periodontiti\n\u001b[1;32m      3\u001b[0m disease_subtype\n",
      "\u001b[0;31mNameError\u001b[0m: name 'born_method' is not defined"
     ]
    }
   ],
   "source": [
    "born_method\n",
    "history_of_periodontiti\n",
    "disease_subtype\n",
    "study_condition\n",
    "ever_smoker\n",
    "birth_order\n",
    "country\n",
    "feeding_practice\n",
    "non_westernized\n",
    "age_category\n",
    "family_role\n",
    "location\n",
    "uncurated_metadata\n",
    "gender\n",
    "body_site\n",
    "birth_control_pil\n",
    "smoker\n",
    "dental_sample_type"
   ]
  },
  {
   "cell_type": "code",
   "execution_count": 145,
   "id": "d01c9afa",
   "metadata": {},
   "outputs": [
    {
     "name": "stdout",
     "output_type": "stream",
     "text": [
      "[0.479, 0.31, 0.31, 0.41, 0.457, 0.405, 0.476, 0.476, 0.405, 0.374, 0.474, 0.5, 0.494, 0.444, 0.422, 0.481, 0.491, 0.444, 0.48, 0.491, 0.5, 0.5, 0.494, 0.41, 0.312, 0.386, 0.479, 0.489, 0.495, 0.384, 0.447, 0.384, 0.403, 0.403, 0.47, 0.409, 0.409, 0.312, 0.387, 0.379, 0.375, 0.417, 0.373, 0.46, 0.437, 0.39, 0.428, 0.437, 0.374, 0.428, 0.344, 0.403, 0.344, 0.482, 0.403, 0.498, 0.498, 0.405, 0.43, 0.434, 0.44, 0.458, 0.435, 0.485, 0.419, 0.425, 0.442, 0.448, 0.418, 0.402, 0.448, 0.437, 0.44, 0.405, 0.482, 0.296, 0.401, 0.471, 0.402, 0.367, 0.296, 0.442, 0.448, 0.43, 0.48, 0.416, 0.499, 0.491, 0.361, 0.444, 0.44, 0.43, 0.499, 0.425, 0.342, 0.489, 0.489, 0.419, 0.392, 0.482, 0.403, 0.44, 0.449, 0.5, 0.312, 0.386, 0.479, 0.487, 0.31]\n"
     ]
    },
    {
     "data": {
      "application/vnd.plotly.v1+json": {
       "config": {
        "plotlyServerURL": "https://plot.ly"
       },
       "data": [
        {
         "boxpoints": "all",
         "marker": {
          "color": "blue",
          "size": 5
         },
         "name": "Sample Data",
         "notched": true,
         "type": "box",
         "y": [
          0.8970588235294117,
          0.06862745098039222,
          0.06862745098039222,
          0.5588235294117646,
          0.7892156862745099,
          0.5343137254901963,
          0.8823529411764705,
          0.8823529411764705,
          0.5343137254901963,
          0.3823529411764706,
          0.872549019607843,
          1,
          0.9705882352941176,
          0.7254901960784315,
          0.6176470588235293,
          0.9068627450980391,
          0.9558823529411764,
          0.7254901960784315,
          0.9019607843137254,
          0.9558823529411764,
          1,
          1,
          0.9705882352941176,
          0.5588235294117646,
          0.07843137254901968,
          0.4411764705882354,
          0.8970588235294117,
          0.946078431372549,
          0.9754901960784313,
          0.4313725490196079,
          0.7401960784313726,
          0.4313725490196079,
          0.5245098039215688,
          0.5245098039215688,
          0.8529411764705881,
          0.5539215686274509,
          0.5539215686274509,
          0.07843137254901968,
          0.4460784313725491,
          0.40686274509803927,
          0.3872549019607844,
          0.5931372549019607,
          0.3774509803921569,
          0.8039215686274511,
          0.6911764705882353,
          0.4607843137254903,
          0.6470588235294118,
          0.6911764705882353,
          0.3823529411764706,
          0.6470588235294118,
          0.23529411764705874,
          0.5245098039215688,
          0.23529411764705874,
          0.9117647058823529,
          0.5245098039215688,
          0.9901960784313726,
          0.9901960784313726,
          0.5343137254901963,
          0.6568627450980392,
          0.6764705882352942,
          0.7058823529411765,
          0.7941176470588236,
          0.6813725490196079,
          0.926470588235294,
          0.6029411764705882,
          0.6323529411764706,
          0.7156862745098039,
          0.7450980392156863,
          0.5980392156862745,
          0.519607843137255,
          0.7450980392156863,
          0.6911764705882353,
          0.7058823529411765,
          0.5343137254901963,
          0.9117647058823529,
          0,
          0.5147058823529413,
          0.8578431372549018,
          0.519607843137255,
          0.3480392156862745,
          0,
          0.7156862745098039,
          0.7450980392156863,
          0.6568627450980392,
          0.9019607843137254,
          0.588235294117647,
          0.9950980392156863,
          0.9558823529411764,
          0.31862745098039214,
          0.7254901960784315,
          0.7058823529411765,
          0.6568627450980392,
          0.9950980392156863,
          0.6323529411764706,
          0.22549019607843154,
          0.946078431372549,
          0.946078431372549,
          0.6029411764705882,
          0.47058823529411775,
          0.9117647058823529,
          0.5245098039215688,
          0.7058823529411765,
          0.7500000000000001,
          1,
          0.07843137254901968,
          0.4411764705882354,
          0.8970588235294117,
          0.9362745098039215,
          0.06862745098039222
         ]
        }
       ],
       "layout": {
        "height": 600,
        "template": {
         "data": {
          "bar": [
           {
            "error_x": {
             "color": "#2a3f5f"
            },
            "error_y": {
             "color": "#2a3f5f"
            },
            "marker": {
             "line": {
              "color": "#E5ECF6",
              "width": 0.5
             },
             "pattern": {
              "fillmode": "overlay",
              "size": 10,
              "solidity": 0.2
             }
            },
            "type": "bar"
           }
          ],
          "barpolar": [
           {
            "marker": {
             "line": {
              "color": "#E5ECF6",
              "width": 0.5
             },
             "pattern": {
              "fillmode": "overlay",
              "size": 10,
              "solidity": 0.2
             }
            },
            "type": "barpolar"
           }
          ],
          "carpet": [
           {
            "aaxis": {
             "endlinecolor": "#2a3f5f",
             "gridcolor": "white",
             "linecolor": "white",
             "minorgridcolor": "white",
             "startlinecolor": "#2a3f5f"
            },
            "baxis": {
             "endlinecolor": "#2a3f5f",
             "gridcolor": "white",
             "linecolor": "white",
             "minorgridcolor": "white",
             "startlinecolor": "#2a3f5f"
            },
            "type": "carpet"
           }
          ],
          "choropleth": [
           {
            "colorbar": {
             "outlinewidth": 0,
             "ticks": ""
            },
            "type": "choropleth"
           }
          ],
          "contour": [
           {
            "colorbar": {
             "outlinewidth": 0,
             "ticks": ""
            },
            "colorscale": [
             [
              0,
              "#0d0887"
             ],
             [
              0.1111111111111111,
              "#46039f"
             ],
             [
              0.2222222222222222,
              "#7201a8"
             ],
             [
              0.3333333333333333,
              "#9c179e"
             ],
             [
              0.4444444444444444,
              "#bd3786"
             ],
             [
              0.5555555555555556,
              "#d8576b"
             ],
             [
              0.6666666666666666,
              "#ed7953"
             ],
             [
              0.7777777777777778,
              "#fb9f3a"
             ],
             [
              0.8888888888888888,
              "#fdca26"
             ],
             [
              1,
              "#f0f921"
             ]
            ],
            "type": "contour"
           }
          ],
          "contourcarpet": [
           {
            "colorbar": {
             "outlinewidth": 0,
             "ticks": ""
            },
            "type": "contourcarpet"
           }
          ],
          "heatmap": [
           {
            "colorbar": {
             "outlinewidth": 0,
             "ticks": ""
            },
            "colorscale": [
             [
              0,
              "#0d0887"
             ],
             [
              0.1111111111111111,
              "#46039f"
             ],
             [
              0.2222222222222222,
              "#7201a8"
             ],
             [
              0.3333333333333333,
              "#9c179e"
             ],
             [
              0.4444444444444444,
              "#bd3786"
             ],
             [
              0.5555555555555556,
              "#d8576b"
             ],
             [
              0.6666666666666666,
              "#ed7953"
             ],
             [
              0.7777777777777778,
              "#fb9f3a"
             ],
             [
              0.8888888888888888,
              "#fdca26"
             ],
             [
              1,
              "#f0f921"
             ]
            ],
            "type": "heatmap"
           }
          ],
          "heatmapgl": [
           {
            "colorbar": {
             "outlinewidth": 0,
             "ticks": ""
            },
            "colorscale": [
             [
              0,
              "#0d0887"
             ],
             [
              0.1111111111111111,
              "#46039f"
             ],
             [
              0.2222222222222222,
              "#7201a8"
             ],
             [
              0.3333333333333333,
              "#9c179e"
             ],
             [
              0.4444444444444444,
              "#bd3786"
             ],
             [
              0.5555555555555556,
              "#d8576b"
             ],
             [
              0.6666666666666666,
              "#ed7953"
             ],
             [
              0.7777777777777778,
              "#fb9f3a"
             ],
             [
              0.8888888888888888,
              "#fdca26"
             ],
             [
              1,
              "#f0f921"
             ]
            ],
            "type": "heatmapgl"
           }
          ],
          "histogram": [
           {
            "marker": {
             "pattern": {
              "fillmode": "overlay",
              "size": 10,
              "solidity": 0.2
             }
            },
            "type": "histogram"
           }
          ],
          "histogram2d": [
           {
            "colorbar": {
             "outlinewidth": 0,
             "ticks": ""
            },
            "colorscale": [
             [
              0,
              "#0d0887"
             ],
             [
              0.1111111111111111,
              "#46039f"
             ],
             [
              0.2222222222222222,
              "#7201a8"
             ],
             [
              0.3333333333333333,
              "#9c179e"
             ],
             [
              0.4444444444444444,
              "#bd3786"
             ],
             [
              0.5555555555555556,
              "#d8576b"
             ],
             [
              0.6666666666666666,
              "#ed7953"
             ],
             [
              0.7777777777777778,
              "#fb9f3a"
             ],
             [
              0.8888888888888888,
              "#fdca26"
             ],
             [
              1,
              "#f0f921"
             ]
            ],
            "type": "histogram2d"
           }
          ],
          "histogram2dcontour": [
           {
            "colorbar": {
             "outlinewidth": 0,
             "ticks": ""
            },
            "colorscale": [
             [
              0,
              "#0d0887"
             ],
             [
              0.1111111111111111,
              "#46039f"
             ],
             [
              0.2222222222222222,
              "#7201a8"
             ],
             [
              0.3333333333333333,
              "#9c179e"
             ],
             [
              0.4444444444444444,
              "#bd3786"
             ],
             [
              0.5555555555555556,
              "#d8576b"
             ],
             [
              0.6666666666666666,
              "#ed7953"
             ],
             [
              0.7777777777777778,
              "#fb9f3a"
             ],
             [
              0.8888888888888888,
              "#fdca26"
             ],
             [
              1,
              "#f0f921"
             ]
            ],
            "type": "histogram2dcontour"
           }
          ],
          "mesh3d": [
           {
            "colorbar": {
             "outlinewidth": 0,
             "ticks": ""
            },
            "type": "mesh3d"
           }
          ],
          "parcoords": [
           {
            "line": {
             "colorbar": {
              "outlinewidth": 0,
              "ticks": ""
             }
            },
            "type": "parcoords"
           }
          ],
          "pie": [
           {
            "automargin": true,
            "type": "pie"
           }
          ],
          "scatter": [
           {
            "fillpattern": {
             "fillmode": "overlay",
             "size": 10,
             "solidity": 0.2
            },
            "type": "scatter"
           }
          ],
          "scatter3d": [
           {
            "line": {
             "colorbar": {
              "outlinewidth": 0,
              "ticks": ""
             }
            },
            "marker": {
             "colorbar": {
              "outlinewidth": 0,
              "ticks": ""
             }
            },
            "type": "scatter3d"
           }
          ],
          "scattercarpet": [
           {
            "marker": {
             "colorbar": {
              "outlinewidth": 0,
              "ticks": ""
             }
            },
            "type": "scattercarpet"
           }
          ],
          "scattergeo": [
           {
            "marker": {
             "colorbar": {
              "outlinewidth": 0,
              "ticks": ""
             }
            },
            "type": "scattergeo"
           }
          ],
          "scattergl": [
           {
            "marker": {
             "colorbar": {
              "outlinewidth": 0,
              "ticks": ""
             }
            },
            "type": "scattergl"
           }
          ],
          "scattermapbox": [
           {
            "marker": {
             "colorbar": {
              "outlinewidth": 0,
              "ticks": ""
             }
            },
            "type": "scattermapbox"
           }
          ],
          "scatterpolar": [
           {
            "marker": {
             "colorbar": {
              "outlinewidth": 0,
              "ticks": ""
             }
            },
            "type": "scatterpolar"
           }
          ],
          "scatterpolargl": [
           {
            "marker": {
             "colorbar": {
              "outlinewidth": 0,
              "ticks": ""
             }
            },
            "type": "scatterpolargl"
           }
          ],
          "scatterternary": [
           {
            "marker": {
             "colorbar": {
              "outlinewidth": 0,
              "ticks": ""
             }
            },
            "type": "scatterternary"
           }
          ],
          "surface": [
           {
            "colorbar": {
             "outlinewidth": 0,
             "ticks": ""
            },
            "colorscale": [
             [
              0,
              "#0d0887"
             ],
             [
              0.1111111111111111,
              "#46039f"
             ],
             [
              0.2222222222222222,
              "#7201a8"
             ],
             [
              0.3333333333333333,
              "#9c179e"
             ],
             [
              0.4444444444444444,
              "#bd3786"
             ],
             [
              0.5555555555555556,
              "#d8576b"
             ],
             [
              0.6666666666666666,
              "#ed7953"
             ],
             [
              0.7777777777777778,
              "#fb9f3a"
             ],
             [
              0.8888888888888888,
              "#fdca26"
             ],
             [
              1,
              "#f0f921"
             ]
            ],
            "type": "surface"
           }
          ],
          "table": [
           {
            "cells": {
             "fill": {
              "color": "#EBF0F8"
             },
             "line": {
              "color": "white"
             }
            },
            "header": {
             "fill": {
              "color": "#C8D4E3"
             },
             "line": {
              "color": "white"
             }
            },
            "type": "table"
           }
          ]
         },
         "layout": {
          "annotationdefaults": {
           "arrowcolor": "#2a3f5f",
           "arrowhead": 0,
           "arrowwidth": 1
          },
          "autotypenumbers": "strict",
          "coloraxis": {
           "colorbar": {
            "outlinewidth": 0,
            "ticks": ""
           }
          },
          "colorscale": {
           "diverging": [
            [
             0,
             "#8e0152"
            ],
            [
             0.1,
             "#c51b7d"
            ],
            [
             0.2,
             "#de77ae"
            ],
            [
             0.3,
             "#f1b6da"
            ],
            [
             0.4,
             "#fde0ef"
            ],
            [
             0.5,
             "#f7f7f7"
            ],
            [
             0.6,
             "#e6f5d0"
            ],
            [
             0.7,
             "#b8e186"
            ],
            [
             0.8,
             "#7fbc41"
            ],
            [
             0.9,
             "#4d9221"
            ],
            [
             1,
             "#276419"
            ]
           ],
           "sequential": [
            [
             0,
             "#0d0887"
            ],
            [
             0.1111111111111111,
             "#46039f"
            ],
            [
             0.2222222222222222,
             "#7201a8"
            ],
            [
             0.3333333333333333,
             "#9c179e"
            ],
            [
             0.4444444444444444,
             "#bd3786"
            ],
            [
             0.5555555555555556,
             "#d8576b"
            ],
            [
             0.6666666666666666,
             "#ed7953"
            ],
            [
             0.7777777777777778,
             "#fb9f3a"
            ],
            [
             0.8888888888888888,
             "#fdca26"
            ],
            [
             1,
             "#f0f921"
            ]
           ],
           "sequentialminus": [
            [
             0,
             "#0d0887"
            ],
            [
             0.1111111111111111,
             "#46039f"
            ],
            [
             0.2222222222222222,
             "#7201a8"
            ],
            [
             0.3333333333333333,
             "#9c179e"
            ],
            [
             0.4444444444444444,
             "#bd3786"
            ],
            [
             0.5555555555555556,
             "#d8576b"
            ],
            [
             0.6666666666666666,
             "#ed7953"
            ],
            [
             0.7777777777777778,
             "#fb9f3a"
            ],
            [
             0.8888888888888888,
             "#fdca26"
            ],
            [
             1,
             "#f0f921"
            ]
           ]
          },
          "colorway": [
           "#636efa",
           "#EF553B",
           "#00cc96",
           "#ab63fa",
           "#FFA15A",
           "#19d3f3",
           "#FF6692",
           "#B6E880",
           "#FF97FF",
           "#FECB52"
          ],
          "font": {
           "color": "#2a3f5f"
          },
          "geo": {
           "bgcolor": "white",
           "lakecolor": "white",
           "landcolor": "#E5ECF6",
           "showlakes": true,
           "showland": true,
           "subunitcolor": "white"
          },
          "hoverlabel": {
           "align": "left"
          },
          "hovermode": "closest",
          "mapbox": {
           "style": "light"
          },
          "paper_bgcolor": "white",
          "plot_bgcolor": "#E5ECF6",
          "polar": {
           "angularaxis": {
            "gridcolor": "white",
            "linecolor": "white",
            "ticks": ""
           },
           "bgcolor": "#E5ECF6",
           "radialaxis": {
            "gridcolor": "white",
            "linecolor": "white",
            "ticks": ""
           }
          },
          "scene": {
           "xaxis": {
            "backgroundcolor": "#E5ECF6",
            "gridcolor": "white",
            "gridwidth": 2,
            "linecolor": "white",
            "showbackground": true,
            "ticks": "",
            "zerolinecolor": "white"
           },
           "yaxis": {
            "backgroundcolor": "#E5ECF6",
            "gridcolor": "white",
            "gridwidth": 2,
            "linecolor": "white",
            "showbackground": true,
            "ticks": "",
            "zerolinecolor": "white"
           },
           "zaxis": {
            "backgroundcolor": "#E5ECF6",
            "gridcolor": "white",
            "gridwidth": 2,
            "linecolor": "white",
            "showbackground": true,
            "ticks": "",
            "zerolinecolor": "white"
           }
          },
          "shapedefaults": {
           "line": {
            "color": "#2a3f5f"
           }
          },
          "ternary": {
           "aaxis": {
            "gridcolor": "white",
            "linecolor": "white",
            "ticks": ""
           },
           "baxis": {
            "gridcolor": "white",
            "linecolor": "white",
            "ticks": ""
           },
           "bgcolor": "#E5ECF6",
           "caxis": {
            "gridcolor": "white",
            "linecolor": "white",
            "ticks": ""
           }
          },
          "title": {
           "x": 0.05
          },
          "xaxis": {
           "automargin": true,
           "gridcolor": "white",
           "linecolor": "white",
           "ticks": "",
           "title": {
            "standoff": 15
           },
           "zerolinecolor": "white",
           "zerolinewidth": 2
          },
          "yaxis": {
           "automargin": true,
           "gridcolor": "white",
           "linecolor": "white",
           "ticks": "",
           "title": {
            "standoff": 15
           },
           "zerolinecolor": "white",
           "zerolinewidth": 2
          }
         }
        },
        "title": {
         "text": "Box Plot Example"
        },
        "width": 400,
        "yaxis": {
         "title": {
          "text": "Values"
         }
        }
       }
      }
     },
     "metadata": {},
     "output_type": "display_data"
    }
   ],
   "source": [
    "#box plot for data summary\n",
    "#read DataSummary.txt file\n",
    "data_summary = open('../../ResultsSelectedMin200Samples/CombinedResults100/Splitted/resultsSVG/DataSummary.txt')\n",
    "lines = data_summary.readlines()\n",
    "\n",
    "dataBalance = []\n",
    "\n",
    "for i, line in enumerate(lines):\n",
    "\n",
    "    values = []\n",
    "    if 'Name:' in line:\n",
    "        values.append(int(lines[i-1].strip('\\n').split(' ')[-1]))\n",
    "        values.append(int(lines[i-2].strip('\\n').split(' ')[-1]))\n",
    "        # print(lines[i-1].strip('\\n').split(' ')[0], lines[i-1].strip('\\n').split(' ')[-1])\n",
    "        # print(lines[i-1].strip('\\n').split(' ')[0], lines[i-2].strip('\\n').split(' ')[-1])\n",
    "        # print(values)\n",
    "        #Extract min and max values from values\n",
    "        min_value = min(values)\n",
    "        max_value = max(values)\n",
    "        #Apply min-max normalization\n",
    "        normalized_values = round((min_value / sum(values)), 3)\n",
    "        dataBalance.append(normalized_values )\n",
    "        # print(normalized_values)\n",
    "print(dataBalance)\n",
    "#plot box plot from dataBalance\n",
    "normalized_data = [(x - min(dataBalance)) / (max(dataBalance) - min(dataBalance)) for x in dataBalance]\n",
    "\n",
    "fig = go.Figure()\n",
    "fig.add_trace(go.Box(y=normalized_data, \n",
    "                     name='Sample Data', \n",
    "                     boxpoints='all',\n",
    "                     notched=True,\n",
    "                     marker=dict(size=5,\n",
    "                                 color='blue',)\n",
    "                     ))\n",
    "\n",
    "# Add title and labels\n",
    "fig.update_layout(\n",
    "    width=400,\n",
    "    height=600,\n",
    "    title='Box Plot Example',\n",
    "    yaxis_title='Values',\n",
    ")\n",
    "\n",
    "# Display the plot\n",
    "fig.show()\n",
    "fig.write_image('./SampleDestribution_1.svg',  scale=2, format='svg')"
   ]
  },
  {
   "cell_type": "code",
   "execution_count": 84,
   "id": "fb7ba790",
   "metadata": {},
   "outputs": [
    {
     "name": "stdout",
     "output_type": "stream",
     "text": [
      "../../ResultsSelectedMin200Samples/CombinedResults100/Splitted/resultsSVG/DataSummary.txt\n"
     ]
    }
   ],
   "source": [
    "# !ls ../../ResultsSelectedMin200Samples/CombinedResults100/Splitted/resultsSVG/DataSummary.txt"
   ]
  },
  {
   "cell_type": "code",
   "execution_count": 115,
   "id": "6317919d",
   "metadata": {},
   "outputs": [
    {
     "data": {
      "application/vnd.plotly.v1+json": {
       "config": {
        "plotlyServerURL": "https://plot.ly"
       },
       "data": [
        {
         "boxpoints": "all",
         "name": "Sample Data",
         "type": "box",
         "y": [
          10,
          20,
          15,
          30,
          25,
          40,
          35,
          45,
          50,
          55,
          60,
          65,
          70
         ]
        }
       ],
       "layout": {
        "template": {
         "data": {
          "bar": [
           {
            "error_x": {
             "color": "#2a3f5f"
            },
            "error_y": {
             "color": "#2a3f5f"
            },
            "marker": {
             "line": {
              "color": "#E5ECF6",
              "width": 0.5
             },
             "pattern": {
              "fillmode": "overlay",
              "size": 10,
              "solidity": 0.2
             }
            },
            "type": "bar"
           }
          ],
          "barpolar": [
           {
            "marker": {
             "line": {
              "color": "#E5ECF6",
              "width": 0.5
             },
             "pattern": {
              "fillmode": "overlay",
              "size": 10,
              "solidity": 0.2
             }
            },
            "type": "barpolar"
           }
          ],
          "carpet": [
           {
            "aaxis": {
             "endlinecolor": "#2a3f5f",
             "gridcolor": "white",
             "linecolor": "white",
             "minorgridcolor": "white",
             "startlinecolor": "#2a3f5f"
            },
            "baxis": {
             "endlinecolor": "#2a3f5f",
             "gridcolor": "white",
             "linecolor": "white",
             "minorgridcolor": "white",
             "startlinecolor": "#2a3f5f"
            },
            "type": "carpet"
           }
          ],
          "choropleth": [
           {
            "colorbar": {
             "outlinewidth": 0,
             "ticks": ""
            },
            "type": "choropleth"
           }
          ],
          "contour": [
           {
            "colorbar": {
             "outlinewidth": 0,
             "ticks": ""
            },
            "colorscale": [
             [
              0,
              "#0d0887"
             ],
             [
              0.1111111111111111,
              "#46039f"
             ],
             [
              0.2222222222222222,
              "#7201a8"
             ],
             [
              0.3333333333333333,
              "#9c179e"
             ],
             [
              0.4444444444444444,
              "#bd3786"
             ],
             [
              0.5555555555555556,
              "#d8576b"
             ],
             [
              0.6666666666666666,
              "#ed7953"
             ],
             [
              0.7777777777777778,
              "#fb9f3a"
             ],
             [
              0.8888888888888888,
              "#fdca26"
             ],
             [
              1,
              "#f0f921"
             ]
            ],
            "type": "contour"
           }
          ],
          "contourcarpet": [
           {
            "colorbar": {
             "outlinewidth": 0,
             "ticks": ""
            },
            "type": "contourcarpet"
           }
          ],
          "heatmap": [
           {
            "colorbar": {
             "outlinewidth": 0,
             "ticks": ""
            },
            "colorscale": [
             [
              0,
              "#0d0887"
             ],
             [
              0.1111111111111111,
              "#46039f"
             ],
             [
              0.2222222222222222,
              "#7201a8"
             ],
             [
              0.3333333333333333,
              "#9c179e"
             ],
             [
              0.4444444444444444,
              "#bd3786"
             ],
             [
              0.5555555555555556,
              "#d8576b"
             ],
             [
              0.6666666666666666,
              "#ed7953"
             ],
             [
              0.7777777777777778,
              "#fb9f3a"
             ],
             [
              0.8888888888888888,
              "#fdca26"
             ],
             [
              1,
              "#f0f921"
             ]
            ],
            "type": "heatmap"
           }
          ],
          "heatmapgl": [
           {
            "colorbar": {
             "outlinewidth": 0,
             "ticks": ""
            },
            "colorscale": [
             [
              0,
              "#0d0887"
             ],
             [
              0.1111111111111111,
              "#46039f"
             ],
             [
              0.2222222222222222,
              "#7201a8"
             ],
             [
              0.3333333333333333,
              "#9c179e"
             ],
             [
              0.4444444444444444,
              "#bd3786"
             ],
             [
              0.5555555555555556,
              "#d8576b"
             ],
             [
              0.6666666666666666,
              "#ed7953"
             ],
             [
              0.7777777777777778,
              "#fb9f3a"
             ],
             [
              0.8888888888888888,
              "#fdca26"
             ],
             [
              1,
              "#f0f921"
             ]
            ],
            "type": "heatmapgl"
           }
          ],
          "histogram": [
           {
            "marker": {
             "pattern": {
              "fillmode": "overlay",
              "size": 10,
              "solidity": 0.2
             }
            },
            "type": "histogram"
           }
          ],
          "histogram2d": [
           {
            "colorbar": {
             "outlinewidth": 0,
             "ticks": ""
            },
            "colorscale": [
             [
              0,
              "#0d0887"
             ],
             [
              0.1111111111111111,
              "#46039f"
             ],
             [
              0.2222222222222222,
              "#7201a8"
             ],
             [
              0.3333333333333333,
              "#9c179e"
             ],
             [
              0.4444444444444444,
              "#bd3786"
             ],
             [
              0.5555555555555556,
              "#d8576b"
             ],
             [
              0.6666666666666666,
              "#ed7953"
             ],
             [
              0.7777777777777778,
              "#fb9f3a"
             ],
             [
              0.8888888888888888,
              "#fdca26"
             ],
             [
              1,
              "#f0f921"
             ]
            ],
            "type": "histogram2d"
           }
          ],
          "histogram2dcontour": [
           {
            "colorbar": {
             "outlinewidth": 0,
             "ticks": ""
            },
            "colorscale": [
             [
              0,
              "#0d0887"
             ],
             [
              0.1111111111111111,
              "#46039f"
             ],
             [
              0.2222222222222222,
              "#7201a8"
             ],
             [
              0.3333333333333333,
              "#9c179e"
             ],
             [
              0.4444444444444444,
              "#bd3786"
             ],
             [
              0.5555555555555556,
              "#d8576b"
             ],
             [
              0.6666666666666666,
              "#ed7953"
             ],
             [
              0.7777777777777778,
              "#fb9f3a"
             ],
             [
              0.8888888888888888,
              "#fdca26"
             ],
             [
              1,
              "#f0f921"
             ]
            ],
            "type": "histogram2dcontour"
           }
          ],
          "mesh3d": [
           {
            "colorbar": {
             "outlinewidth": 0,
             "ticks": ""
            },
            "type": "mesh3d"
           }
          ],
          "parcoords": [
           {
            "line": {
             "colorbar": {
              "outlinewidth": 0,
              "ticks": ""
             }
            },
            "type": "parcoords"
           }
          ],
          "pie": [
           {
            "automargin": true,
            "type": "pie"
           }
          ],
          "scatter": [
           {
            "fillpattern": {
             "fillmode": "overlay",
             "size": 10,
             "solidity": 0.2
            },
            "type": "scatter"
           }
          ],
          "scatter3d": [
           {
            "line": {
             "colorbar": {
              "outlinewidth": 0,
              "ticks": ""
             }
            },
            "marker": {
             "colorbar": {
              "outlinewidth": 0,
              "ticks": ""
             }
            },
            "type": "scatter3d"
           }
          ],
          "scattercarpet": [
           {
            "marker": {
             "colorbar": {
              "outlinewidth": 0,
              "ticks": ""
             }
            },
            "type": "scattercarpet"
           }
          ],
          "scattergeo": [
           {
            "marker": {
             "colorbar": {
              "outlinewidth": 0,
              "ticks": ""
             }
            },
            "type": "scattergeo"
           }
          ],
          "scattergl": [
           {
            "marker": {
             "colorbar": {
              "outlinewidth": 0,
              "ticks": ""
             }
            },
            "type": "scattergl"
           }
          ],
          "scattermapbox": [
           {
            "marker": {
             "colorbar": {
              "outlinewidth": 0,
              "ticks": ""
             }
            },
            "type": "scattermapbox"
           }
          ],
          "scatterpolar": [
           {
            "marker": {
             "colorbar": {
              "outlinewidth": 0,
              "ticks": ""
             }
            },
            "type": "scatterpolar"
           }
          ],
          "scatterpolargl": [
           {
            "marker": {
             "colorbar": {
              "outlinewidth": 0,
              "ticks": ""
             }
            },
            "type": "scatterpolargl"
           }
          ],
          "scatterternary": [
           {
            "marker": {
             "colorbar": {
              "outlinewidth": 0,
              "ticks": ""
             }
            },
            "type": "scatterternary"
           }
          ],
          "surface": [
           {
            "colorbar": {
             "outlinewidth": 0,
             "ticks": ""
            },
            "colorscale": [
             [
              0,
              "#0d0887"
             ],
             [
              0.1111111111111111,
              "#46039f"
             ],
             [
              0.2222222222222222,
              "#7201a8"
             ],
             [
              0.3333333333333333,
              "#9c179e"
             ],
             [
              0.4444444444444444,
              "#bd3786"
             ],
             [
              0.5555555555555556,
              "#d8576b"
             ],
             [
              0.6666666666666666,
              "#ed7953"
             ],
             [
              0.7777777777777778,
              "#fb9f3a"
             ],
             [
              0.8888888888888888,
              "#fdca26"
             ],
             [
              1,
              "#f0f921"
             ]
            ],
            "type": "surface"
           }
          ],
          "table": [
           {
            "cells": {
             "fill": {
              "color": "#EBF0F8"
             },
             "line": {
              "color": "white"
             }
            },
            "header": {
             "fill": {
              "color": "#C8D4E3"
             },
             "line": {
              "color": "white"
             }
            },
            "type": "table"
           }
          ]
         },
         "layout": {
          "annotationdefaults": {
           "arrowcolor": "#2a3f5f",
           "arrowhead": 0,
           "arrowwidth": 1
          },
          "autotypenumbers": "strict",
          "coloraxis": {
           "colorbar": {
            "outlinewidth": 0,
            "ticks": ""
           }
          },
          "colorscale": {
           "diverging": [
            [
             0,
             "#8e0152"
            ],
            [
             0.1,
             "#c51b7d"
            ],
            [
             0.2,
             "#de77ae"
            ],
            [
             0.3,
             "#f1b6da"
            ],
            [
             0.4,
             "#fde0ef"
            ],
            [
             0.5,
             "#f7f7f7"
            ],
            [
             0.6,
             "#e6f5d0"
            ],
            [
             0.7,
             "#b8e186"
            ],
            [
             0.8,
             "#7fbc41"
            ],
            [
             0.9,
             "#4d9221"
            ],
            [
             1,
             "#276419"
            ]
           ],
           "sequential": [
            [
             0,
             "#0d0887"
            ],
            [
             0.1111111111111111,
             "#46039f"
            ],
            [
             0.2222222222222222,
             "#7201a8"
            ],
            [
             0.3333333333333333,
             "#9c179e"
            ],
            [
             0.4444444444444444,
             "#bd3786"
            ],
            [
             0.5555555555555556,
             "#d8576b"
            ],
            [
             0.6666666666666666,
             "#ed7953"
            ],
            [
             0.7777777777777778,
             "#fb9f3a"
            ],
            [
             0.8888888888888888,
             "#fdca26"
            ],
            [
             1,
             "#f0f921"
            ]
           ],
           "sequentialminus": [
            [
             0,
             "#0d0887"
            ],
            [
             0.1111111111111111,
             "#46039f"
            ],
            [
             0.2222222222222222,
             "#7201a8"
            ],
            [
             0.3333333333333333,
             "#9c179e"
            ],
            [
             0.4444444444444444,
             "#bd3786"
            ],
            [
             0.5555555555555556,
             "#d8576b"
            ],
            [
             0.6666666666666666,
             "#ed7953"
            ],
            [
             0.7777777777777778,
             "#fb9f3a"
            ],
            [
             0.8888888888888888,
             "#fdca26"
            ],
            [
             1,
             "#f0f921"
            ]
           ]
          },
          "colorway": [
           "#636efa",
           "#EF553B",
           "#00cc96",
           "#ab63fa",
           "#FFA15A",
           "#19d3f3",
           "#FF6692",
           "#B6E880",
           "#FF97FF",
           "#FECB52"
          ],
          "font": {
           "color": "#2a3f5f"
          },
          "geo": {
           "bgcolor": "white",
           "lakecolor": "white",
           "landcolor": "#E5ECF6",
           "showlakes": true,
           "showland": true,
           "subunitcolor": "white"
          },
          "hoverlabel": {
           "align": "left"
          },
          "hovermode": "closest",
          "mapbox": {
           "style": "light"
          },
          "paper_bgcolor": "white",
          "plot_bgcolor": "#E5ECF6",
          "polar": {
           "angularaxis": {
            "gridcolor": "white",
            "linecolor": "white",
            "ticks": ""
           },
           "bgcolor": "#E5ECF6",
           "radialaxis": {
            "gridcolor": "white",
            "linecolor": "white",
            "ticks": ""
           }
          },
          "scene": {
           "xaxis": {
            "backgroundcolor": "#E5ECF6",
            "gridcolor": "white",
            "gridwidth": 2,
            "linecolor": "white",
            "showbackground": true,
            "ticks": "",
            "zerolinecolor": "white"
           },
           "yaxis": {
            "backgroundcolor": "#E5ECF6",
            "gridcolor": "white",
            "gridwidth": 2,
            "linecolor": "white",
            "showbackground": true,
            "ticks": "",
            "zerolinecolor": "white"
           },
           "zaxis": {
            "backgroundcolor": "#E5ECF6",
            "gridcolor": "white",
            "gridwidth": 2,
            "linecolor": "white",
            "showbackground": true,
            "ticks": "",
            "zerolinecolor": "white"
           }
          },
          "shapedefaults": {
           "line": {
            "color": "#2a3f5f"
           }
          },
          "ternary": {
           "aaxis": {
            "gridcolor": "white",
            "linecolor": "white",
            "ticks": ""
           },
           "baxis": {
            "gridcolor": "white",
            "linecolor": "white",
            "ticks": ""
           },
           "bgcolor": "#E5ECF6",
           "caxis": {
            "gridcolor": "white",
            "linecolor": "white",
            "ticks": ""
           }
          },
          "title": {
           "x": 0.05
          },
          "xaxis": {
           "automargin": true,
           "gridcolor": "white",
           "linecolor": "white",
           "ticks": "",
           "title": {
            "standoff": 15
           },
           "zerolinecolor": "white",
           "zerolinewidth": 2
          },
          "yaxis": {
           "automargin": true,
           "gridcolor": "white",
           "linecolor": "white",
           "ticks": "",
           "title": {
            "standoff": 15
           },
           "zerolinecolor": "white",
           "zerolinewidth": 2
          }
         }
        },
        "title": {
         "text": "Box Plot Example"
        },
        "yaxis": {
         "title": {
          "text": "Values"
         }
        }
       }
      }
     },
     "metadata": {},
     "output_type": "display_data"
    }
   ],
   "source": [
    "\n",
    "import plotly.graph_objects as go\n",
    "\n",
    "# Sample data\n",
    "data = [10, 20, 15, 30, 25, 40, 35, 45, 50, 55, 60, 65, 70]\n",
    "\n",
    "# Create the box plot\n",
    "fig = go.Figure()\n",
    "\n",
    "fig.add_trace(go.Box(y=data, name='Sample Data', boxpoints='all'))\n",
    "\n",
    "# Add title and labels\n",
    "fig.update_layout(\n",
    "    title='Box Plot Example',\n",
    "    yaxis_title='Values',\n",
    ")\n",
    "\n",
    "# Display the plot\n",
    "fig.show()"
   ]
  },
  {
   "cell_type": "code",
   "execution_count": 117,
   "id": "f15bb079",
   "metadata": {},
   "outputs": [
    {
     "data": {
      "application/vnd.plotly.v1+json": {
       "config": {
        "plotlyServerURL": "https://plot.ly"
       },
       "data": [
        {
         "alignmentgroup": "True",
         "hovertemplate": "time=%{x}<extra></extra>",
         "legendgroup": "",
         "marker": {
          "color": "#636efa"
         },
         "name": "",
         "notched": false,
         "offsetgroup": "",
         "orientation": "h",
         "showlegend": false,
         "type": "box",
         "x": [
          "Dinner",
          "Dinner",
          "Dinner",
          "Dinner",
          "Dinner",
          "Dinner",
          "Dinner",
          "Dinner",
          "Dinner",
          "Dinner",
          "Dinner",
          "Dinner",
          "Dinner",
          "Dinner",
          "Dinner",
          "Dinner",
          "Dinner",
          "Dinner",
          "Dinner",
          "Dinner",
          "Dinner",
          "Dinner",
          "Dinner",
          "Dinner",
          "Dinner",
          "Dinner",
          "Dinner",
          "Dinner",
          "Dinner",
          "Dinner",
          "Dinner",
          "Dinner",
          "Dinner",
          "Dinner",
          "Dinner",
          "Dinner",
          "Dinner",
          "Dinner",
          "Dinner",
          "Dinner",
          "Dinner",
          "Dinner",
          "Dinner",
          "Dinner",
          "Dinner",
          "Dinner",
          "Dinner",
          "Dinner",
          "Dinner",
          "Dinner",
          "Dinner",
          "Dinner",
          "Dinner",
          "Dinner",
          "Dinner",
          "Dinner",
          "Dinner",
          "Dinner",
          "Dinner",
          "Dinner",
          "Dinner",
          "Dinner",
          "Dinner",
          "Dinner",
          "Dinner",
          "Dinner",
          "Dinner",
          "Dinner",
          "Dinner",
          "Dinner",
          "Dinner",
          "Dinner",
          "Dinner",
          "Dinner",
          "Dinner",
          "Dinner",
          "Dinner",
          "Lunch",
          "Lunch",
          "Lunch",
          "Lunch",
          "Lunch",
          "Lunch",
          "Lunch",
          "Lunch",
          "Lunch",
          "Lunch",
          "Lunch",
          "Lunch",
          "Lunch",
          "Dinner",
          "Dinner",
          "Dinner",
          "Dinner",
          "Dinner",
          "Dinner",
          "Dinner",
          "Dinner",
          "Dinner",
          "Dinner",
          "Dinner",
          "Dinner",
          "Dinner",
          "Dinner",
          "Dinner",
          "Dinner",
          "Dinner",
          "Dinner",
          "Dinner",
          "Dinner",
          "Dinner",
          "Dinner",
          "Dinner",
          "Dinner",
          "Dinner",
          "Dinner",
          "Dinner",
          "Lunch",
          "Lunch",
          "Lunch",
          "Lunch",
          "Lunch",
          "Lunch",
          "Lunch",
          "Lunch",
          "Lunch",
          "Lunch",
          "Lunch",
          "Lunch",
          "Lunch",
          "Lunch",
          "Lunch",
          "Lunch",
          "Lunch",
          "Lunch",
          "Lunch",
          "Lunch",
          "Lunch",
          "Lunch",
          "Lunch",
          "Lunch",
          "Lunch",
          "Lunch",
          "Lunch",
          "Lunch",
          "Lunch",
          "Lunch",
          "Lunch",
          "Lunch",
          "Lunch",
          "Dinner",
          "Dinner",
          "Dinner",
          "Dinner",
          "Dinner",
          "Dinner",
          "Dinner",
          "Dinner",
          "Dinner",
          "Dinner",
          "Dinner",
          "Dinner",
          "Dinner",
          "Dinner",
          "Dinner",
          "Dinner",
          "Dinner",
          "Dinner",
          "Dinner",
          "Dinner",
          "Dinner",
          "Dinner",
          "Dinner",
          "Dinner",
          "Dinner",
          "Dinner",
          "Dinner",
          "Dinner",
          "Dinner",
          "Dinner",
          "Dinner",
          "Dinner",
          "Dinner",
          "Dinner",
          "Dinner",
          "Dinner",
          "Dinner",
          "Dinner",
          "Dinner",
          "Dinner",
          "Dinner",
          "Lunch",
          "Lunch",
          "Lunch",
          "Lunch",
          "Lunch",
          "Lunch",
          "Lunch",
          "Lunch",
          "Lunch",
          "Lunch",
          "Lunch",
          "Lunch",
          "Lunch",
          "Lunch",
          "Lunch",
          "Dinner",
          "Dinner",
          "Dinner",
          "Dinner",
          "Dinner",
          "Dinner",
          "Dinner",
          "Dinner",
          "Dinner",
          "Dinner",
          "Dinner",
          "Dinner",
          "Dinner",
          "Dinner",
          "Lunch",
          "Lunch",
          "Lunch",
          "Lunch",
          "Lunch",
          "Lunch",
          "Lunch",
          "Dinner",
          "Dinner",
          "Dinner",
          "Dinner",
          "Dinner",
          "Dinner",
          "Dinner",
          "Dinner",
          "Dinner",
          "Dinner",
          "Dinner",
          "Dinner",
          "Dinner",
          "Dinner",
          "Dinner",
          "Dinner",
          "Dinner"
         ],
         "x0": " ",
         "xaxis": "x",
         "y0": " ",
         "yaxis": "y"
        }
       ],
       "layout": {
        "boxmode": "group",
        "legend": {
         "tracegroupgap": 0
        },
        "margin": {
         "t": 60
        },
        "template": {
         "data": {
          "bar": [
           {
            "error_x": {
             "color": "#2a3f5f"
            },
            "error_y": {
             "color": "#2a3f5f"
            },
            "marker": {
             "line": {
              "color": "#E5ECF6",
              "width": 0.5
             },
             "pattern": {
              "fillmode": "overlay",
              "size": 10,
              "solidity": 0.2
             }
            },
            "type": "bar"
           }
          ],
          "barpolar": [
           {
            "marker": {
             "line": {
              "color": "#E5ECF6",
              "width": 0.5
             },
             "pattern": {
              "fillmode": "overlay",
              "size": 10,
              "solidity": 0.2
             }
            },
            "type": "barpolar"
           }
          ],
          "carpet": [
           {
            "aaxis": {
             "endlinecolor": "#2a3f5f",
             "gridcolor": "white",
             "linecolor": "white",
             "minorgridcolor": "white",
             "startlinecolor": "#2a3f5f"
            },
            "baxis": {
             "endlinecolor": "#2a3f5f",
             "gridcolor": "white",
             "linecolor": "white",
             "minorgridcolor": "white",
             "startlinecolor": "#2a3f5f"
            },
            "type": "carpet"
           }
          ],
          "choropleth": [
           {
            "colorbar": {
             "outlinewidth": 0,
             "ticks": ""
            },
            "type": "choropleth"
           }
          ],
          "contour": [
           {
            "colorbar": {
             "outlinewidth": 0,
             "ticks": ""
            },
            "colorscale": [
             [
              0,
              "#0d0887"
             ],
             [
              0.1111111111111111,
              "#46039f"
             ],
             [
              0.2222222222222222,
              "#7201a8"
             ],
             [
              0.3333333333333333,
              "#9c179e"
             ],
             [
              0.4444444444444444,
              "#bd3786"
             ],
             [
              0.5555555555555556,
              "#d8576b"
             ],
             [
              0.6666666666666666,
              "#ed7953"
             ],
             [
              0.7777777777777778,
              "#fb9f3a"
             ],
             [
              0.8888888888888888,
              "#fdca26"
             ],
             [
              1,
              "#f0f921"
             ]
            ],
            "type": "contour"
           }
          ],
          "contourcarpet": [
           {
            "colorbar": {
             "outlinewidth": 0,
             "ticks": ""
            },
            "type": "contourcarpet"
           }
          ],
          "heatmap": [
           {
            "colorbar": {
             "outlinewidth": 0,
             "ticks": ""
            },
            "colorscale": [
             [
              0,
              "#0d0887"
             ],
             [
              0.1111111111111111,
              "#46039f"
             ],
             [
              0.2222222222222222,
              "#7201a8"
             ],
             [
              0.3333333333333333,
              "#9c179e"
             ],
             [
              0.4444444444444444,
              "#bd3786"
             ],
             [
              0.5555555555555556,
              "#d8576b"
             ],
             [
              0.6666666666666666,
              "#ed7953"
             ],
             [
              0.7777777777777778,
              "#fb9f3a"
             ],
             [
              0.8888888888888888,
              "#fdca26"
             ],
             [
              1,
              "#f0f921"
             ]
            ],
            "type": "heatmap"
           }
          ],
          "heatmapgl": [
           {
            "colorbar": {
             "outlinewidth": 0,
             "ticks": ""
            },
            "colorscale": [
             [
              0,
              "#0d0887"
             ],
             [
              0.1111111111111111,
              "#46039f"
             ],
             [
              0.2222222222222222,
              "#7201a8"
             ],
             [
              0.3333333333333333,
              "#9c179e"
             ],
             [
              0.4444444444444444,
              "#bd3786"
             ],
             [
              0.5555555555555556,
              "#d8576b"
             ],
             [
              0.6666666666666666,
              "#ed7953"
             ],
             [
              0.7777777777777778,
              "#fb9f3a"
             ],
             [
              0.8888888888888888,
              "#fdca26"
             ],
             [
              1,
              "#f0f921"
             ]
            ],
            "type": "heatmapgl"
           }
          ],
          "histogram": [
           {
            "marker": {
             "pattern": {
              "fillmode": "overlay",
              "size": 10,
              "solidity": 0.2
             }
            },
            "type": "histogram"
           }
          ],
          "histogram2d": [
           {
            "colorbar": {
             "outlinewidth": 0,
             "ticks": ""
            },
            "colorscale": [
             [
              0,
              "#0d0887"
             ],
             [
              0.1111111111111111,
              "#46039f"
             ],
             [
              0.2222222222222222,
              "#7201a8"
             ],
             [
              0.3333333333333333,
              "#9c179e"
             ],
             [
              0.4444444444444444,
              "#bd3786"
             ],
             [
              0.5555555555555556,
              "#d8576b"
             ],
             [
              0.6666666666666666,
              "#ed7953"
             ],
             [
              0.7777777777777778,
              "#fb9f3a"
             ],
             [
              0.8888888888888888,
              "#fdca26"
             ],
             [
              1,
              "#f0f921"
             ]
            ],
            "type": "histogram2d"
           }
          ],
          "histogram2dcontour": [
           {
            "colorbar": {
             "outlinewidth": 0,
             "ticks": ""
            },
            "colorscale": [
             [
              0,
              "#0d0887"
             ],
             [
              0.1111111111111111,
              "#46039f"
             ],
             [
              0.2222222222222222,
              "#7201a8"
             ],
             [
              0.3333333333333333,
              "#9c179e"
             ],
             [
              0.4444444444444444,
              "#bd3786"
             ],
             [
              0.5555555555555556,
              "#d8576b"
             ],
             [
              0.6666666666666666,
              "#ed7953"
             ],
             [
              0.7777777777777778,
              "#fb9f3a"
             ],
             [
              0.8888888888888888,
              "#fdca26"
             ],
             [
              1,
              "#f0f921"
             ]
            ],
            "type": "histogram2dcontour"
           }
          ],
          "mesh3d": [
           {
            "colorbar": {
             "outlinewidth": 0,
             "ticks": ""
            },
            "type": "mesh3d"
           }
          ],
          "parcoords": [
           {
            "line": {
             "colorbar": {
              "outlinewidth": 0,
              "ticks": ""
             }
            },
            "type": "parcoords"
           }
          ],
          "pie": [
           {
            "automargin": true,
            "type": "pie"
           }
          ],
          "scatter": [
           {
            "fillpattern": {
             "fillmode": "overlay",
             "size": 10,
             "solidity": 0.2
            },
            "type": "scatter"
           }
          ],
          "scatter3d": [
           {
            "line": {
             "colorbar": {
              "outlinewidth": 0,
              "ticks": ""
             }
            },
            "marker": {
             "colorbar": {
              "outlinewidth": 0,
              "ticks": ""
             }
            },
            "type": "scatter3d"
           }
          ],
          "scattercarpet": [
           {
            "marker": {
             "colorbar": {
              "outlinewidth": 0,
              "ticks": ""
             }
            },
            "type": "scattercarpet"
           }
          ],
          "scattergeo": [
           {
            "marker": {
             "colorbar": {
              "outlinewidth": 0,
              "ticks": ""
             }
            },
            "type": "scattergeo"
           }
          ],
          "scattergl": [
           {
            "marker": {
             "colorbar": {
              "outlinewidth": 0,
              "ticks": ""
             }
            },
            "type": "scattergl"
           }
          ],
          "scattermapbox": [
           {
            "marker": {
             "colorbar": {
              "outlinewidth": 0,
              "ticks": ""
             }
            },
            "type": "scattermapbox"
           }
          ],
          "scatterpolar": [
           {
            "marker": {
             "colorbar": {
              "outlinewidth": 0,
              "ticks": ""
             }
            },
            "type": "scatterpolar"
           }
          ],
          "scatterpolargl": [
           {
            "marker": {
             "colorbar": {
              "outlinewidth": 0,
              "ticks": ""
             }
            },
            "type": "scatterpolargl"
           }
          ],
          "scatterternary": [
           {
            "marker": {
             "colorbar": {
              "outlinewidth": 0,
              "ticks": ""
             }
            },
            "type": "scatterternary"
           }
          ],
          "surface": [
           {
            "colorbar": {
             "outlinewidth": 0,
             "ticks": ""
            },
            "colorscale": [
             [
              0,
              "#0d0887"
             ],
             [
              0.1111111111111111,
              "#46039f"
             ],
             [
              0.2222222222222222,
              "#7201a8"
             ],
             [
              0.3333333333333333,
              "#9c179e"
             ],
             [
              0.4444444444444444,
              "#bd3786"
             ],
             [
              0.5555555555555556,
              "#d8576b"
             ],
             [
              0.6666666666666666,
              "#ed7953"
             ],
             [
              0.7777777777777778,
              "#fb9f3a"
             ],
             [
              0.8888888888888888,
              "#fdca26"
             ],
             [
              1,
              "#f0f921"
             ]
            ],
            "type": "surface"
           }
          ],
          "table": [
           {
            "cells": {
             "fill": {
              "color": "#EBF0F8"
             },
             "line": {
              "color": "white"
             }
            },
            "header": {
             "fill": {
              "color": "#C8D4E3"
             },
             "line": {
              "color": "white"
             }
            },
            "type": "table"
           }
          ]
         },
         "layout": {
          "annotationdefaults": {
           "arrowcolor": "#2a3f5f",
           "arrowhead": 0,
           "arrowwidth": 1
          },
          "autotypenumbers": "strict",
          "coloraxis": {
           "colorbar": {
            "outlinewidth": 0,
            "ticks": ""
           }
          },
          "colorscale": {
           "diverging": [
            [
             0,
             "#8e0152"
            ],
            [
             0.1,
             "#c51b7d"
            ],
            [
             0.2,
             "#de77ae"
            ],
            [
             0.3,
             "#f1b6da"
            ],
            [
             0.4,
             "#fde0ef"
            ],
            [
             0.5,
             "#f7f7f7"
            ],
            [
             0.6,
             "#e6f5d0"
            ],
            [
             0.7,
             "#b8e186"
            ],
            [
             0.8,
             "#7fbc41"
            ],
            [
             0.9,
             "#4d9221"
            ],
            [
             1,
             "#276419"
            ]
           ],
           "sequential": [
            [
             0,
             "#0d0887"
            ],
            [
             0.1111111111111111,
             "#46039f"
            ],
            [
             0.2222222222222222,
             "#7201a8"
            ],
            [
             0.3333333333333333,
             "#9c179e"
            ],
            [
             0.4444444444444444,
             "#bd3786"
            ],
            [
             0.5555555555555556,
             "#d8576b"
            ],
            [
             0.6666666666666666,
             "#ed7953"
            ],
            [
             0.7777777777777778,
             "#fb9f3a"
            ],
            [
             0.8888888888888888,
             "#fdca26"
            ],
            [
             1,
             "#f0f921"
            ]
           ],
           "sequentialminus": [
            [
             0,
             "#0d0887"
            ],
            [
             0.1111111111111111,
             "#46039f"
            ],
            [
             0.2222222222222222,
             "#7201a8"
            ],
            [
             0.3333333333333333,
             "#9c179e"
            ],
            [
             0.4444444444444444,
             "#bd3786"
            ],
            [
             0.5555555555555556,
             "#d8576b"
            ],
            [
             0.6666666666666666,
             "#ed7953"
            ],
            [
             0.7777777777777778,
             "#fb9f3a"
            ],
            [
             0.8888888888888888,
             "#fdca26"
            ],
            [
             1,
             "#f0f921"
            ]
           ]
          },
          "colorway": [
           "#636efa",
           "#EF553B",
           "#00cc96",
           "#ab63fa",
           "#FFA15A",
           "#19d3f3",
           "#FF6692",
           "#B6E880",
           "#FF97FF",
           "#FECB52"
          ],
          "font": {
           "color": "#2a3f5f"
          },
          "geo": {
           "bgcolor": "white",
           "lakecolor": "white",
           "landcolor": "#E5ECF6",
           "showlakes": true,
           "showland": true,
           "subunitcolor": "white"
          },
          "hoverlabel": {
           "align": "left"
          },
          "hovermode": "closest",
          "mapbox": {
           "style": "light"
          },
          "paper_bgcolor": "white",
          "plot_bgcolor": "#E5ECF6",
          "polar": {
           "angularaxis": {
            "gridcolor": "white",
            "linecolor": "white",
            "ticks": ""
           },
           "bgcolor": "#E5ECF6",
           "radialaxis": {
            "gridcolor": "white",
            "linecolor": "white",
            "ticks": ""
           }
          },
          "scene": {
           "xaxis": {
            "backgroundcolor": "#E5ECF6",
            "gridcolor": "white",
            "gridwidth": 2,
            "linecolor": "white",
            "showbackground": true,
            "ticks": "",
            "zerolinecolor": "white"
           },
           "yaxis": {
            "backgroundcolor": "#E5ECF6",
            "gridcolor": "white",
            "gridwidth": 2,
            "linecolor": "white",
            "showbackground": true,
            "ticks": "",
            "zerolinecolor": "white"
           },
           "zaxis": {
            "backgroundcolor": "#E5ECF6",
            "gridcolor": "white",
            "gridwidth": 2,
            "linecolor": "white",
            "showbackground": true,
            "ticks": "",
            "zerolinecolor": "white"
           }
          },
          "shapedefaults": {
           "line": {
            "color": "#2a3f5f"
           }
          },
          "ternary": {
           "aaxis": {
            "gridcolor": "white",
            "linecolor": "white",
            "ticks": ""
           },
           "baxis": {
            "gridcolor": "white",
            "linecolor": "white",
            "ticks": ""
           },
           "bgcolor": "#E5ECF6",
           "caxis": {
            "gridcolor": "white",
            "linecolor": "white",
            "ticks": ""
           }
          },
          "title": {
           "x": 0.05
          },
          "xaxis": {
           "automargin": true,
           "gridcolor": "white",
           "linecolor": "white",
           "ticks": "",
           "title": {
            "standoff": 15
           },
           "zerolinecolor": "white",
           "zerolinewidth": 2
          },
          "yaxis": {
           "automargin": true,
           "gridcolor": "white",
           "linecolor": "white",
           "ticks": "",
           "title": {
            "standoff": 15
           },
           "zerolinecolor": "white",
           "zerolinewidth": 2
          }
         }
        },
        "xaxis": {
         "anchor": "y",
         "domain": [
          0,
          1
         ],
         "title": {
          "text": "time"
         }
        },
        "yaxis": {
         "anchor": "x",
         "domain": [
          0,
          1
         ]
        }
       }
      }
     },
     "metadata": {},
     "output_type": "display_data"
    }
   ],
   "source": [
    "import plotly.express as px\n",
    "df = px.data.tips()\n",
    "fig = px.box(df, x=\"time\", y=\"total_bill\")\n",
    "fig.show()"
   ]
  },
  {
   "cell_type": "code",
   "execution_count": null,
   "id": "02c4c4e8",
   "metadata": {},
   "outputs": [],
   "source": [
    "\n",
    "\n",
    "# min_val = min(data)\n",
    "# max_val = max(data)\n",
    "\n",
    "# normalized_data = [(x - min_val) / (max_val - min_val) for x in data]\n",
    "\n",
    "# print(normalized_data)"
   ]
  },
  {
   "cell_type": "code",
   "execution_count": 43,
   "id": "00144cc3",
   "metadata": {},
   "outputs": [
    {
     "name": "stdout",
     "output_type": "stream",
     "text": [
      "Error in the file: ../../../../Desktop/Selected_features/SelectedFeatures/LRC/2021-03-31.WirbelJ_2018.relative_abundance.age_category.tsv\n",
      "105\n",
      "106\n",
      "Error in the file: ../../../../Desktop/Selected_features/SelectedFeatures/SVC/2021-03-31.OhJ_2014.relative_abundance.gender.tsv\n",
      "105\n",
      "106\n",
      "{'LRC': [74, 615, 376, 336, 73, 196, 464, 3, 552, 284, 510, 642, 512, 356, 795, 678, 1103, 144, 94, 524, 608, 573, 547, 209, 554, 572, 38, 105, 346, 505, 83, 97, 108, 123, 545, 70, 301, 536, 63, 60, 42, 531, 166, 164, 569, 220, 100, 709, 36, 255, 119, 36, 15, 116, 287, 94, 179, 308, 88, 179, 165, 12, 231, 163, 139, 322, 288, 79, 461, 383, 152, 107, 577, 41, 32, 140, 415, 236, 306, 527, 51, 233, 339, 821, 80, 260, 563, 40, 341, 1072, 390, 194, 190, 362, 340, 51, 194, 673, 663, 54, 555, 136, 700, 105, 68], 'DTC': [312, 681, 604, 538, 543, 605, 475, 1, 617, 364, 539, 729, 535, 618, 605, 829, 713, 1111, 451, 650, 647, 644, 642, 612, 222, 648, 680, 662, 600, 504, 584, 570, 600, 574, 443, 644, 651, 369, 600, 310, 517, 504, 679, 538, 309, 644, 3, 370, 736, 506, 587, 681, 218, 310, 513, 585, 506, 536, 583, 541, 599, 717, 570, 645, 327, 3, 3, 3, 523, 492, 619, 535, 310, 579, 361, 666, 605, 492, 478, 434, 583, 2, 378, 380, 829, 366, 539, 580, 429, 451, 1109, 644, 378, 222, 380, 376, 2, 223, 716, 672, 445, 644, 517, 716, 599, 510], 'SVC': [7, 142, 124, 142, 45, 306, 186, 15, 337, 213, 347, 297, 191, 171, 145, 339, 238, 28, 96, 174, 423, 403, 320, 192, 45, 134, 173, 58, 184, 189, 414, 73, 65, 215, 155, 316, 44, 181, 240, 86, 53, 22, 135, 14, 35, 210, 139, 106, 296, 78, 255, 119, 37, 15, 222, 287, 94, 178, 308, 88, 179, 165, 13, 182, 173, 150, 21, 21, 246, 173, 327, 19, 21, 351, 139, 29, 96, 158, 298, 117, 16, 50, 70, 73, 407, 8, 58, 396, 190, 98, 261, 164, 74, 69, 136, 53, 116, 168, 359, 106, 187, 290, 280, 122, 131], 'RFC': [310, 681, 605, 541, 541, 604, 478, 67, 615, 365, 539, 729, 536, 619, 605, 828, 716, 1112, 452, 650, 648, 644, 649, 617, 222, 649, 678, 663, 600, 505, 582, 572, 600, 574, 450, 639, 651, 369, 604, 308, 515, 506, 678, 538, 310, 643, 380, 371, 738, 506, 586, 682, 222, 307, 513, 584, 503, 536, 584, 541, 600, 717, 572, 643, 327, 380, 377, 379, 525, 493, 619, 529, 312, 584, 365, 665, 605, 492, 477, 436, 583, 427, 380, 380, 829, 368, 541, 584, 432, 448, 1109, 644, 380, 220, 378, 376, 440, 220, 717, 672, 445, 647, 517, 716, 600, 513]}\n"
     ]
    }
   ],
   "source": [
    "\n",
    "file  = open('../../ResultsSelectedMin200Samples/CombinedResults100/merged_results_100.tsv')\n",
    "lines = file.readlines()\n",
    "\n",
    "selected_data_files  = [line.split('\\t')[0] for line in lines[1:]]\n",
    "\n",
    "\n",
    "import glob\n",
    "import pandas as pd\n",
    "import plotly.graph_objects as go\n",
    "\n",
    "algs = ['LRC', 'DTC', 'SVC', 'RFC']\n",
    "\n",
    "\n",
    "features = {}\n",
    "\n",
    "for a  in algs:\n",
    "    num_of_features = []\n",
    "    fs = glob.glob('../../../../Desktop/Selected_features/SelectedFeatures/'+a+'/*.tsv')\n",
    "    for f in fs:\n",
    "\n",
    "        if f.split('/')[8] in selected_data_files:\n",
    "            try:\n",
    "                df = pd.read_csv(f, sep='\\t')\n",
    "                num_of_features.append(df.shape[1])\n",
    "                # print(df.shape[1])\n",
    "            except:\n",
    "                print(\"Error in the file:\", f)\n",
    "                pass\n",
    "    print(len(num_of_features))\n",
    "    features[a] = num_of_features\n",
    "    \n",
    "print(features)\n",
    "# # Create the box plot\n",
    "# fig = go.Figure()\n",
    "# fig.add_trace(go.Box(y=num_of_features, name='Sample Data', boxpoints='all'))\n",
    "# # Add title and labels\n",
    "# fig.update_layout(\n",
    "#     width=400,\n",
    "#     height=600,\n",
    "#     title='Box Plot Example',\n",
    "#     yaxis_title='Values',\n",
    "# )\n",
    "# # Display the plot\n",
    "# fig.show()\n",
    "\n",
    "hd_selected_features = []\n",
    "for s in  selected_data_files:\n",
    "    f = open('../../MicroBiomML_NonGit/hdlib-ra-levels1000-retrain20-cv5-feature-selection/HDC_result_files/'+s.replace('.tsv', '.tsv.txt'))\n",
    "    for l in f.readlines():\n",
    "        if 'Selected features:' in l:\n",
    "            hd_selected_features.append(int(l.split(' ')[2]))\n",
    "\n",
    "features['HDC'] = hd_selected_features\n"
   ]
  },
  {
   "cell_type": "code",
   "execution_count": 46,
   "id": "1e30426e",
   "metadata": {},
   "outputs": [
    {
     "data": {
      "application/vnd.plotly.v1+json": {
       "config": {
        "plotlyServerURL": "https://plot.ly"
       },
       "data": [
        {
         "boxpoints": "all",
         "name": "LRC",
         "type": "box",
         "width": 0.5,
         "y": [
          74,
          615,
          376,
          336,
          73,
          196,
          464,
          3,
          552,
          284,
          510,
          642,
          512,
          356,
          795,
          678,
          1103,
          144,
          94,
          524,
          608,
          573,
          547,
          209,
          554,
          572,
          38,
          105,
          346,
          505,
          83,
          97,
          108,
          123,
          545,
          70,
          301,
          536,
          63,
          60,
          42,
          531,
          166,
          164,
          569,
          220,
          100,
          709,
          36,
          255,
          119,
          36,
          15,
          116,
          287,
          94,
          179,
          308,
          88,
          179,
          165,
          12,
          231,
          163,
          139,
          322,
          288,
          79,
          461,
          383,
          152,
          107,
          577,
          41,
          32,
          140,
          415,
          236,
          306,
          527,
          51,
          233,
          339,
          821,
          80,
          260,
          563,
          40,
          341,
          1072,
          390,
          194,
          190,
          362,
          340,
          51,
          194,
          673,
          663,
          54,
          555,
          136,
          700,
          105,
          68
         ]
        },
        {
         "boxpoints": "all",
         "name": "DTC",
         "type": "box",
         "width": 0.5,
         "y": [
          312,
          681,
          604,
          538,
          543,
          605,
          475,
          1,
          617,
          364,
          539,
          729,
          535,
          618,
          605,
          829,
          713,
          1111,
          451,
          650,
          647,
          644,
          642,
          612,
          222,
          648,
          680,
          662,
          600,
          504,
          584,
          570,
          600,
          574,
          443,
          644,
          651,
          369,
          600,
          310,
          517,
          504,
          679,
          538,
          309,
          644,
          3,
          370,
          736,
          506,
          587,
          681,
          218,
          310,
          513,
          585,
          506,
          536,
          583,
          541,
          599,
          717,
          570,
          645,
          327,
          3,
          3,
          3,
          523,
          492,
          619,
          535,
          310,
          579,
          361,
          666,
          605,
          492,
          478,
          434,
          583,
          2,
          378,
          380,
          829,
          366,
          539,
          580,
          429,
          451,
          1109,
          644,
          378,
          222,
          380,
          376,
          2,
          223,
          716,
          672,
          445,
          644,
          517,
          716,
          599,
          510
         ]
        },
        {
         "boxpoints": "all",
         "name": "SVC",
         "type": "box",
         "width": 0.5,
         "y": [
          7,
          142,
          124,
          142,
          45,
          306,
          186,
          15,
          337,
          213,
          347,
          297,
          191,
          171,
          145,
          339,
          238,
          28,
          96,
          174,
          423,
          403,
          320,
          192,
          45,
          134,
          173,
          58,
          184,
          189,
          414,
          73,
          65,
          215,
          155,
          316,
          44,
          181,
          240,
          86,
          53,
          22,
          135,
          14,
          35,
          210,
          139,
          106,
          296,
          78,
          255,
          119,
          37,
          15,
          222,
          287,
          94,
          178,
          308,
          88,
          179,
          165,
          13,
          182,
          173,
          150,
          21,
          21,
          246,
          173,
          327,
          19,
          21,
          351,
          139,
          29,
          96,
          158,
          298,
          117,
          16,
          50,
          70,
          73,
          407,
          8,
          58,
          396,
          190,
          98,
          261,
          164,
          74,
          69,
          136,
          53,
          116,
          168,
          359,
          106,
          187,
          290,
          280,
          122,
          131
         ]
        },
        {
         "boxpoints": "all",
         "name": "RFC",
         "type": "box",
         "width": 0.5,
         "y": [
          310,
          681,
          605,
          541,
          541,
          604,
          478,
          67,
          615,
          365,
          539,
          729,
          536,
          619,
          605,
          828,
          716,
          1112,
          452,
          650,
          648,
          644,
          649,
          617,
          222,
          649,
          678,
          663,
          600,
          505,
          582,
          572,
          600,
          574,
          450,
          639,
          651,
          369,
          604,
          308,
          515,
          506,
          678,
          538,
          310,
          643,
          380,
          371,
          738,
          506,
          586,
          682,
          222,
          307,
          513,
          584,
          503,
          536,
          584,
          541,
          600,
          717,
          572,
          643,
          327,
          380,
          377,
          379,
          525,
          493,
          619,
          529,
          312,
          584,
          365,
          665,
          605,
          492,
          477,
          436,
          583,
          427,
          380,
          380,
          829,
          368,
          541,
          584,
          432,
          448,
          1109,
          644,
          380,
          220,
          378,
          376,
          440,
          220,
          717,
          672,
          445,
          647,
          517,
          716,
          600,
          513
         ]
        },
        {
         "boxpoints": "all",
         "name": "HDC",
         "type": "box",
         "width": 0.5,
         "y": [
          17,
          302,
          241,
          183,
          158,
          278,
          103,
          730,
          355,
          245,
          137,
          329,
          112,
          190,
          222,
          596,
          86,
          217,
          354,
          304,
          29,
          343,
          348,
          107,
          125,
          406,
          428,
          228,
          11,
          150,
          237,
          268,
          43,
          151,
          60,
          242,
          180,
          56,
          242,
          23,
          114,
          378,
          182,
          165,
          168,
          326,
          337,
          113,
          193,
          112,
          30,
          163,
          116,
          5,
          79,
          172,
          154,
          119,
          463,
          314,
          333,
          144,
          95,
          599,
          101,
          215,
          21,
          151,
          151,
          467,
          167,
          101,
          29,
          531,
          135,
          246,
          203,
          72,
          16,
          151,
          2,
          451,
          169,
          107,
          820,
          80,
          193,
          248,
          75,
          409,
          320,
          606,
          253,
          74,
          15,
          114,
          451,
          75,
          221,
          474,
          192,
          603,
          19,
          237,
          107,
          244
         ]
        }
       ],
       "layout": {
        "boxmode": "group",
        "height": 600,
        "template": {
         "data": {
          "bar": [
           {
            "error_x": {
             "color": "#2a3f5f"
            },
            "error_y": {
             "color": "#2a3f5f"
            },
            "marker": {
             "line": {
              "color": "#E5ECF6",
              "width": 0.5
             },
             "pattern": {
              "fillmode": "overlay",
              "size": 10,
              "solidity": 0.2
             }
            },
            "type": "bar"
           }
          ],
          "barpolar": [
           {
            "marker": {
             "line": {
              "color": "#E5ECF6",
              "width": 0.5
             },
             "pattern": {
              "fillmode": "overlay",
              "size": 10,
              "solidity": 0.2
             }
            },
            "type": "barpolar"
           }
          ],
          "carpet": [
           {
            "aaxis": {
             "endlinecolor": "#2a3f5f",
             "gridcolor": "white",
             "linecolor": "white",
             "minorgridcolor": "white",
             "startlinecolor": "#2a3f5f"
            },
            "baxis": {
             "endlinecolor": "#2a3f5f",
             "gridcolor": "white",
             "linecolor": "white",
             "minorgridcolor": "white",
             "startlinecolor": "#2a3f5f"
            },
            "type": "carpet"
           }
          ],
          "choropleth": [
           {
            "colorbar": {
             "outlinewidth": 0,
             "ticks": ""
            },
            "type": "choropleth"
           }
          ],
          "contour": [
           {
            "colorbar": {
             "outlinewidth": 0,
             "ticks": ""
            },
            "colorscale": [
             [
              0,
              "#0d0887"
             ],
             [
              0.1111111111111111,
              "#46039f"
             ],
             [
              0.2222222222222222,
              "#7201a8"
             ],
             [
              0.3333333333333333,
              "#9c179e"
             ],
             [
              0.4444444444444444,
              "#bd3786"
             ],
             [
              0.5555555555555556,
              "#d8576b"
             ],
             [
              0.6666666666666666,
              "#ed7953"
             ],
             [
              0.7777777777777778,
              "#fb9f3a"
             ],
             [
              0.8888888888888888,
              "#fdca26"
             ],
             [
              1,
              "#f0f921"
             ]
            ],
            "type": "contour"
           }
          ],
          "contourcarpet": [
           {
            "colorbar": {
             "outlinewidth": 0,
             "ticks": ""
            },
            "type": "contourcarpet"
           }
          ],
          "heatmap": [
           {
            "colorbar": {
             "outlinewidth": 0,
             "ticks": ""
            },
            "colorscale": [
             [
              0,
              "#0d0887"
             ],
             [
              0.1111111111111111,
              "#46039f"
             ],
             [
              0.2222222222222222,
              "#7201a8"
             ],
             [
              0.3333333333333333,
              "#9c179e"
             ],
             [
              0.4444444444444444,
              "#bd3786"
             ],
             [
              0.5555555555555556,
              "#d8576b"
             ],
             [
              0.6666666666666666,
              "#ed7953"
             ],
             [
              0.7777777777777778,
              "#fb9f3a"
             ],
             [
              0.8888888888888888,
              "#fdca26"
             ],
             [
              1,
              "#f0f921"
             ]
            ],
            "type": "heatmap"
           }
          ],
          "heatmapgl": [
           {
            "colorbar": {
             "outlinewidth": 0,
             "ticks": ""
            },
            "colorscale": [
             [
              0,
              "#0d0887"
             ],
             [
              0.1111111111111111,
              "#46039f"
             ],
             [
              0.2222222222222222,
              "#7201a8"
             ],
             [
              0.3333333333333333,
              "#9c179e"
             ],
             [
              0.4444444444444444,
              "#bd3786"
             ],
             [
              0.5555555555555556,
              "#d8576b"
             ],
             [
              0.6666666666666666,
              "#ed7953"
             ],
             [
              0.7777777777777778,
              "#fb9f3a"
             ],
             [
              0.8888888888888888,
              "#fdca26"
             ],
             [
              1,
              "#f0f921"
             ]
            ],
            "type": "heatmapgl"
           }
          ],
          "histogram": [
           {
            "marker": {
             "pattern": {
              "fillmode": "overlay",
              "size": 10,
              "solidity": 0.2
             }
            },
            "type": "histogram"
           }
          ],
          "histogram2d": [
           {
            "colorbar": {
             "outlinewidth": 0,
             "ticks": ""
            },
            "colorscale": [
             [
              0,
              "#0d0887"
             ],
             [
              0.1111111111111111,
              "#46039f"
             ],
             [
              0.2222222222222222,
              "#7201a8"
             ],
             [
              0.3333333333333333,
              "#9c179e"
             ],
             [
              0.4444444444444444,
              "#bd3786"
             ],
             [
              0.5555555555555556,
              "#d8576b"
             ],
             [
              0.6666666666666666,
              "#ed7953"
             ],
             [
              0.7777777777777778,
              "#fb9f3a"
             ],
             [
              0.8888888888888888,
              "#fdca26"
             ],
             [
              1,
              "#f0f921"
             ]
            ],
            "type": "histogram2d"
           }
          ],
          "histogram2dcontour": [
           {
            "colorbar": {
             "outlinewidth": 0,
             "ticks": ""
            },
            "colorscale": [
             [
              0,
              "#0d0887"
             ],
             [
              0.1111111111111111,
              "#46039f"
             ],
             [
              0.2222222222222222,
              "#7201a8"
             ],
             [
              0.3333333333333333,
              "#9c179e"
             ],
             [
              0.4444444444444444,
              "#bd3786"
             ],
             [
              0.5555555555555556,
              "#d8576b"
             ],
             [
              0.6666666666666666,
              "#ed7953"
             ],
             [
              0.7777777777777778,
              "#fb9f3a"
             ],
             [
              0.8888888888888888,
              "#fdca26"
             ],
             [
              1,
              "#f0f921"
             ]
            ],
            "type": "histogram2dcontour"
           }
          ],
          "mesh3d": [
           {
            "colorbar": {
             "outlinewidth": 0,
             "ticks": ""
            },
            "type": "mesh3d"
           }
          ],
          "parcoords": [
           {
            "line": {
             "colorbar": {
              "outlinewidth": 0,
              "ticks": ""
             }
            },
            "type": "parcoords"
           }
          ],
          "pie": [
           {
            "automargin": true,
            "type": "pie"
           }
          ],
          "scatter": [
           {
            "fillpattern": {
             "fillmode": "overlay",
             "size": 10,
             "solidity": 0.2
            },
            "type": "scatter"
           }
          ],
          "scatter3d": [
           {
            "line": {
             "colorbar": {
              "outlinewidth": 0,
              "ticks": ""
             }
            },
            "marker": {
             "colorbar": {
              "outlinewidth": 0,
              "ticks": ""
             }
            },
            "type": "scatter3d"
           }
          ],
          "scattercarpet": [
           {
            "marker": {
             "colorbar": {
              "outlinewidth": 0,
              "ticks": ""
             }
            },
            "type": "scattercarpet"
           }
          ],
          "scattergeo": [
           {
            "marker": {
             "colorbar": {
              "outlinewidth": 0,
              "ticks": ""
             }
            },
            "type": "scattergeo"
           }
          ],
          "scattergl": [
           {
            "marker": {
             "colorbar": {
              "outlinewidth": 0,
              "ticks": ""
             }
            },
            "type": "scattergl"
           }
          ],
          "scattermapbox": [
           {
            "marker": {
             "colorbar": {
              "outlinewidth": 0,
              "ticks": ""
             }
            },
            "type": "scattermapbox"
           }
          ],
          "scatterpolar": [
           {
            "marker": {
             "colorbar": {
              "outlinewidth": 0,
              "ticks": ""
             }
            },
            "type": "scatterpolar"
           }
          ],
          "scatterpolargl": [
           {
            "marker": {
             "colorbar": {
              "outlinewidth": 0,
              "ticks": ""
             }
            },
            "type": "scatterpolargl"
           }
          ],
          "scatterternary": [
           {
            "marker": {
             "colorbar": {
              "outlinewidth": 0,
              "ticks": ""
             }
            },
            "type": "scatterternary"
           }
          ],
          "surface": [
           {
            "colorbar": {
             "outlinewidth": 0,
             "ticks": ""
            },
            "colorscale": [
             [
              0,
              "#0d0887"
             ],
             [
              0.1111111111111111,
              "#46039f"
             ],
             [
              0.2222222222222222,
              "#7201a8"
             ],
             [
              0.3333333333333333,
              "#9c179e"
             ],
             [
              0.4444444444444444,
              "#bd3786"
             ],
             [
              0.5555555555555556,
              "#d8576b"
             ],
             [
              0.6666666666666666,
              "#ed7953"
             ],
             [
              0.7777777777777778,
              "#fb9f3a"
             ],
             [
              0.8888888888888888,
              "#fdca26"
             ],
             [
              1,
              "#f0f921"
             ]
            ],
            "type": "surface"
           }
          ],
          "table": [
           {
            "cells": {
             "fill": {
              "color": "#EBF0F8"
             },
             "line": {
              "color": "white"
             }
            },
            "header": {
             "fill": {
              "color": "#C8D4E3"
             },
             "line": {
              "color": "white"
             }
            },
            "type": "table"
           }
          ]
         },
         "layout": {
          "annotationdefaults": {
           "arrowcolor": "#2a3f5f",
           "arrowhead": 0,
           "arrowwidth": 1
          },
          "autotypenumbers": "strict",
          "coloraxis": {
           "colorbar": {
            "outlinewidth": 0,
            "ticks": ""
           }
          },
          "colorscale": {
           "diverging": [
            [
             0,
             "#8e0152"
            ],
            [
             0.1,
             "#c51b7d"
            ],
            [
             0.2,
             "#de77ae"
            ],
            [
             0.3,
             "#f1b6da"
            ],
            [
             0.4,
             "#fde0ef"
            ],
            [
             0.5,
             "#f7f7f7"
            ],
            [
             0.6,
             "#e6f5d0"
            ],
            [
             0.7,
             "#b8e186"
            ],
            [
             0.8,
             "#7fbc41"
            ],
            [
             0.9,
             "#4d9221"
            ],
            [
             1,
             "#276419"
            ]
           ],
           "sequential": [
            [
             0,
             "#0d0887"
            ],
            [
             0.1111111111111111,
             "#46039f"
            ],
            [
             0.2222222222222222,
             "#7201a8"
            ],
            [
             0.3333333333333333,
             "#9c179e"
            ],
            [
             0.4444444444444444,
             "#bd3786"
            ],
            [
             0.5555555555555556,
             "#d8576b"
            ],
            [
             0.6666666666666666,
             "#ed7953"
            ],
            [
             0.7777777777777778,
             "#fb9f3a"
            ],
            [
             0.8888888888888888,
             "#fdca26"
            ],
            [
             1,
             "#f0f921"
            ]
           ],
           "sequentialminus": [
            [
             0,
             "#0d0887"
            ],
            [
             0.1111111111111111,
             "#46039f"
            ],
            [
             0.2222222222222222,
             "#7201a8"
            ],
            [
             0.3333333333333333,
             "#9c179e"
            ],
            [
             0.4444444444444444,
             "#bd3786"
            ],
            [
             0.5555555555555556,
             "#d8576b"
            ],
            [
             0.6666666666666666,
             "#ed7953"
            ],
            [
             0.7777777777777778,
             "#fb9f3a"
            ],
            [
             0.8888888888888888,
             "#fdca26"
            ],
            [
             1,
             "#f0f921"
            ]
           ]
          },
          "colorway": [
           "#636efa",
           "#EF553B",
           "#00cc96",
           "#ab63fa",
           "#FFA15A",
           "#19d3f3",
           "#FF6692",
           "#B6E880",
           "#FF97FF",
           "#FECB52"
          ],
          "font": {
           "color": "#2a3f5f"
          },
          "geo": {
           "bgcolor": "white",
           "lakecolor": "white",
           "landcolor": "#E5ECF6",
           "showlakes": true,
           "showland": true,
           "subunitcolor": "white"
          },
          "hoverlabel": {
           "align": "left"
          },
          "hovermode": "closest",
          "mapbox": {
           "style": "light"
          },
          "paper_bgcolor": "white",
          "plot_bgcolor": "#E5ECF6",
          "polar": {
           "angularaxis": {
            "gridcolor": "white",
            "linecolor": "white",
            "ticks": ""
           },
           "bgcolor": "#E5ECF6",
           "radialaxis": {
            "gridcolor": "white",
            "linecolor": "white",
            "ticks": ""
           }
          },
          "scene": {
           "xaxis": {
            "backgroundcolor": "#E5ECF6",
            "gridcolor": "white",
            "gridwidth": 2,
            "linecolor": "white",
            "showbackground": true,
            "ticks": "",
            "zerolinecolor": "white"
           },
           "yaxis": {
            "backgroundcolor": "#E5ECF6",
            "gridcolor": "white",
            "gridwidth": 2,
            "linecolor": "white",
            "showbackground": true,
            "ticks": "",
            "zerolinecolor": "white"
           },
           "zaxis": {
            "backgroundcolor": "#E5ECF6",
            "gridcolor": "white",
            "gridwidth": 2,
            "linecolor": "white",
            "showbackground": true,
            "ticks": "",
            "zerolinecolor": "white"
           }
          },
          "shapedefaults": {
           "line": {
            "color": "#2a3f5f"
           }
          },
          "ternary": {
           "aaxis": {
            "gridcolor": "white",
            "linecolor": "white",
            "ticks": ""
           },
           "baxis": {
            "gridcolor": "white",
            "linecolor": "white",
            "ticks": ""
           },
           "bgcolor": "#E5ECF6",
           "caxis": {
            "gridcolor": "white",
            "linecolor": "white",
            "ticks": ""
           }
          },
          "title": {
           "x": 0.05
          },
          "xaxis": {
           "automargin": true,
           "gridcolor": "white",
           "linecolor": "white",
           "ticks": "",
           "title": {
            "standoff": 15
           },
           "zerolinecolor": "white",
           "zerolinewidth": 2
          },
          "yaxis": {
           "automargin": true,
           "gridcolor": "white",
           "linecolor": "white",
           "ticks": "",
           "title": {
            "standoff": 15
           },
           "zerolinecolor": "white",
           "zerolinewidth": 2
          }
         }
        },
        "title": {
         "text": "Selected Feature"
        },
        "width": 600,
        "xaxis": {
         "title": {
          "text": "Algorithms"
         }
        },
        "yaxis": {
         "title": {
          "text": "Number of features"
         }
        }
       }
      }
     },
     "metadata": {},
     "output_type": "display_data"
    }
   ],
   "source": [
    "import plotly.graph_objects as go\n",
    "\n",
    "fig = go.Figure()\n",
    "# Add four box plots\n",
    "fig.add_trace(go.Box(y=features['LRC'], name='LRC', boxpoints='all', width=0.5))\n",
    "fig.add_trace(go.Box(y=features['DTC'], name='DTC', boxpoints='all', width=0.5))\n",
    "fig.add_trace(go.Box(y=features['SVC'], name='SVC', boxpoints='all', width=0.5))\n",
    "fig.add_trace(go.Box(y=features['RFC'], name='RFC', boxpoints='all', width=0.5))\n",
    "fig.add_trace(go.Box(y=features['HDC'], name='HDC', boxpoints='all', width=0.5))\n",
    "\n",
    "# Add title and labels\n",
    "fig.update_layout(\n",
    "    width=600,  # Adjusted width to accommodate four plots\n",
    "    height=600,\n",
    "    title='Selected Feature',\n",
    "    yaxis_title='Number of features',\n",
    "    xaxis_title='Algorithms',\n",
    "    boxmode='group'  # Group the box plots side by side\n",
    ")\n",
    "\n",
    "# Display the plot\n",
    "fig.write_image('../../../../Desktop/selected_Features.svg',  scale=2, format='svg')\n",
    "fig.show()\n"
   ]
  },
  {
   "cell_type": "code",
   "execution_count": 28,
   "id": "e871190c",
   "metadata": {},
   "outputs": [
    {
     "data": {
      "text/plain": [
       "'2021-03-31.WirbelJ_2018.relative_abundance.age_category.tsv'"
      ]
     },
     "execution_count": 28,
     "metadata": {},
     "output_type": "execute_result"
    }
   ],
   "source": [
    "a = '../../../../Desktop/Selected_features/SelectedFeatures/LRC/2021-03-31.WirbelJ_2018.relative_abundance.age_category.tsv'\n"
   ]
  },
  {
   "cell_type": "code",
   "execution_count": null,
   "id": "e7472a7b",
   "metadata": {},
   "outputs": [
    {
     "name": "stdout",
     "output_type": "stream",
     "text": [
      "17\n",
      "\n",
      "302\n",
      "\n",
      "241\n",
      "\n",
      "183\n",
      "\n",
      "158\n",
      "\n",
      "278\n",
      "\n",
      "103\n",
      "\n",
      "730\n",
      "\n",
      "355\n",
      "\n",
      "245\n",
      "\n",
      "137\n",
      "\n",
      "329\n",
      "\n",
      "112\n",
      "\n",
      "190\n",
      "\n",
      "222\n",
      "\n",
      "596\n",
      "\n",
      "86\n",
      "\n",
      "217\n",
      "\n",
      "354\n",
      "\n",
      "304\n",
      "\n",
      "29\n",
      "\n",
      "343\n",
      "\n",
      "348\n",
      "\n",
      "107\n",
      "\n",
      "125\n",
      "\n",
      "406\n",
      "\n",
      "428\n",
      "\n",
      "228\n",
      "\n",
      "11\n",
      "\n",
      "150\n",
      "\n",
      "237\n",
      "\n",
      "268\n",
      "\n",
      "43\n",
      "\n",
      "151\n",
      "\n",
      "60\n",
      "\n",
      "242\n",
      "\n",
      "180\n",
      "\n",
      "56\n",
      "\n",
      "242\n",
      "\n",
      "23\n",
      "\n",
      "114\n",
      "\n",
      "378\n",
      "\n",
      "182\n",
      "\n",
      "165\n",
      "\n",
      "168\n",
      "\n",
      "326\n",
      "\n",
      "337\n",
      "\n",
      "113\n",
      "\n",
      "193\n",
      "\n",
      "112\n",
      "\n",
      "30\n",
      "\n",
      "163\n",
      "\n",
      "116\n",
      "\n",
      "5\n",
      "\n",
      "79\n",
      "\n",
      "172\n",
      "\n",
      "154\n",
      "\n",
      "119\n",
      "\n",
      "463\n",
      "\n",
      "314\n",
      "\n",
      "333\n",
      "\n",
      "144\n",
      "\n",
      "95\n",
      "\n",
      "599\n",
      "\n",
      "101\n",
      "\n",
      "215\n",
      "\n",
      "21\n",
      "\n",
      "151\n",
      "\n",
      "151\n",
      "\n",
      "467\n",
      "\n",
      "167\n",
      "\n",
      "101\n",
      "\n",
      "29\n",
      "\n",
      "531\n",
      "\n",
      "135\n",
      "\n",
      "246\n",
      "\n",
      "203\n",
      "\n",
      "72\n",
      "\n",
      "16\n",
      "\n",
      "151\n",
      "\n",
      "2\n",
      "\n",
      "451\n",
      "\n",
      "169\n",
      "\n",
      "107\n",
      "\n",
      "820\n",
      "\n",
      "80\n",
      "\n",
      "193\n",
      "\n",
      "248\n",
      "\n",
      "75\n",
      "\n",
      "409\n",
      "\n",
      "320\n",
      "\n",
      "606\n",
      "\n",
      "253\n",
      "\n",
      "74\n",
      "\n",
      "15\n",
      "\n",
      "114\n",
      "\n",
      "451\n",
      "\n",
      "75\n",
      "\n",
      "221\n",
      "\n",
      "474\n",
      "\n",
      "192\n",
      "\n",
      "603\n",
      "\n",
      "19\n",
      "\n",
      "237\n",
      "\n",
      "107\n",
      "\n",
      "244\n",
      "\n"
     ]
    }
   ],
   "source": [
    "\n",
    "\n",
    "\n",
    "\n"
   ]
  },
  {
   "cell_type": "code",
   "execution_count": null,
   "id": "5098f63c",
   "metadata": {},
   "outputs": [],
   "source": []
  }
 ],
 "metadata": {
  "kernelspec": {
   "display_name": "Python 3 (ipykernel)",
   "language": "python",
   "name": "python3"
  },
  "language_info": {
   "codemirror_mode": {
    "name": "ipython",
    "version": 3
   },
   "file_extension": ".py",
   "mimetype": "text/x-python",
   "name": "python",
   "nbconvert_exporter": "python",
   "pygments_lexer": "ipython3",
   "version": "3.10.13"
  },
  "widgets": {
   "application/vnd.jupyter.widget-state+json": {
    "state": {},
    "version_major": 2,
    "version_minor": 0
   }
  }
 },
 "nbformat": 4,
 "nbformat_minor": 5
}
