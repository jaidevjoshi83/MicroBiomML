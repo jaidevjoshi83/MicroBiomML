{
 "cells": [
  {
   "cell_type": "code",
   "execution_count": 2,
   "id": "1f3c7d95-a224-42a1-ac9c-45061ba18260",
   "metadata": {
    "tags": []
   },
   "outputs": [
    {
     "name": "stdout",
     "output_type": "stream",
     "text": [
      "3D Segmentation.ipynb         \u001b[34mRFC\u001b[m\u001b[m\n",
      "Classification.py             \u001b[34mRFC_results\u001b[m\u001b[m\n",
      "\u001b[34mDTC\u001b[m\u001b[m                           \u001b[34mSVC\u001b[m\u001b[m\n",
      "\u001b[34mDTC_results\u001b[m\u001b[m                   \u001b[34mSVC_results\u001b[m\u001b[m\n",
      "DataStatistics.ipynb          \u001b[34mSplitted\u001b[m\u001b[m\n",
      "FilesToExclude.txt            \u001b[34mdatasets-ra\u001b[m\u001b[m\n",
      "\u001b[34mLRC\u001b[m\u001b[m                           iqft_segmentation.py\n",
      "\u001b[34mLRC_results\u001b[m\u001b[m                   logs.log\n",
      "MergeResult.py                merged_results.tsv\n",
      "\u001b[34mMicroBiomML\u001b[m\u001b[m                   s13040-021-00244-z.pdf\n",
      "Quantum 3D Segmentation.ipynb\n"
     ]
    }
   ],
   "source": [
    "!ls"
   ]
  },
  {
   "cell_type": "code",
   "execution_count": null,
   "id": "25a8c72b-4640-4ae8-a759-dbe863a336f6",
   "metadata": {},
   "outputs": [],
   "source": []
  }
 ],
 "metadata": {
  "kernelspec": {
   "display_name": "Python 3 (ipykernel)",
   "language": "python",
   "name": "python3"
  },
  "language_info": {
   "codemirror_mode": {
    "name": "ipython",
    "version": 3
   },
   "file_extension": ".py",
   "mimetype": "text/x-python",
   "name": "python",
   "nbconvert_exporter": "python",
   "pygments_lexer": "ipython3",
   "version": "3.9.18"
  },
  "widgets": {
   "application/vnd.jupyter.widget-state+json": {
    "state": {},
    "version_major": 2,
    "version_minor": 0
   }
  }
 },
 "nbformat": 4,
 "nbformat_minor": 5
}
