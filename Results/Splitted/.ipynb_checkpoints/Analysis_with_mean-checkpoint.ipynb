{
 "cells": [
  {
   "cell_type": "code",
   "execution_count": 11,
   "id": "a0bbd530-ea6e-42e5-aad9-bbd914f98f70",
   "metadata": {
    "tags": []
   },
   "outputs": [],
   "source": [
    "def ReturnUniqueColumnName(columns):\n",
    "    name_count = {}\n",
    "    unique_columns = []\n",
    "    for name in columns:\n",
    "        if name in name_count:\n",
    "            name_count[name] += 1\n",
    "            unique_columns.append(f\"{name}_{name_count[name]}\")\n",
    "        else:\n",
    "            name_count[name] = 1\n",
    "            unique_columns.append(name)\n",
    "    return unique_columns\n",
    "\n",
    "\n",
    "import pandas as pd\n",
    "\n",
    "def ResultSummary(file):\n",
    "    DF = pd.read_csv(file, sep='\\t')\n",
    "    DF.set_index('name', inplace=True)\n",
    "    df = DF\n",
    "    df.columns = ReturnUniqueColumnName(df.columns.to_list())\n",
    "    \n",
    "    column_anno = {}\n",
    "    for n in df.columns.to_list():\n",
    "        # Initialize an empty list to store the slicing indices\n",
    "        slices = []\n",
    "        mean_values = []\n",
    "        # Set the step size for the intervals\n",
    "        step = 5\n",
    "\n",
    "        # Create a loop to generate the slice indices\n",
    "        for i in range(0, 25, step):  # 25 represents the total number of elements\n",
    "            # Define the start and end of the slice\n",
    "            start = i\n",
    "            end = i + 4  # 4 represents the span or width of each slice\n",
    "            # Append the slice to the list\n",
    "            slices.append(f\"{start}:{end}\")\n",
    "            # print(df[[n]][start:end])\n",
    "            mean_values.append(round(np.mean(df[[n]][start:end]), 3))\n",
    "        # print(mean_values)\n",
    "        column_anno[n] = check_peformance(mean_values,  th=0.05)\n",
    "    print(file, column_anno)"
   ]
  },
  {
   "cell_type": "code",
   "execution_count": 12,
   "id": "0cbf6a0d-8e5e-4044-bd07-911ba980fcb8",
   "metadata": {
    "tags": []
   },
   "outputs": [],
   "source": [
    "def check_peformance(values, th=0.05):\n",
    "    # values = [0.7375, 0.5625, 0.71, 0.76, 0.7475]\n",
    "    # Set the threshold\n",
    "    threshold = 0.05\n",
    "    # Get the last value in the list\n",
    "    last_value = values[-1]\n",
    "\n",
    "    # Check if the last value is greater than all other values by at least the threshold\n",
    "    is_significantly_greater = all((last_value - value) >= threshold for value in values[:-1])\n",
    "\n",
    "    if is_significantly_greater:\n",
    "        return True\n",
    "    else:\n",
    "        return False"
   ]
  },
  {
   "cell_type": "code",
   "execution_count": 13,
   "id": "742e6cab-b646-4df9-a141-013abb8c9276",
   "metadata": {
    "tags": []
   },
   "outputs": [],
   "source": [
    "import glob\n",
    "import numpy as np\n",
    "\n",
    "fs = glob.glob('./Fixed/*.tsv')"
   ]
  },
  {
   "cell_type": "code",
   "execution_count": 14,
   "id": "45ba3561-a365-4ab3-b3cc-2e74245cdd3d",
   "metadata": {
    "tags": []
   },
   "outputs": [
    {
     "name": "stdout",
     "output_type": "stream",
     "text": [
      "#########################################\n",
      "./Fixed/born_method.tsv {'WampachL_2018': False, 'ShaoY_2019': False, 'BrooksB_2017': False, 'BrooksB_2017_2': False}\n",
      "#########################################\n",
      "./Fixed/history_of_periodontitis.tsv {'GhensiP_2019': False}\n",
      "#########################################\n",
      "./Fixed/disease_subtype.tsv {'LiJ_2014': False, 'ZhuF_2020': True, 'ThomasAM_2018a': False, 'HMP_2019_ibdmdb': False, 'HallAB_2017': False, 'KosticAD_2015': False, 'HallAB_2017_2': False, 'HMP_2019_ibdmdb_2': False, 'FengQ_2015': False}\n",
      "#########################################\n",
      "./Fixed/study_condition.tsv {'IjazUZ_2017': False, 'NielsenHB_2014': False, 'ZhuF_2020': False, 'ShiB_2015': False, 'VogtmannE_2016': True, 'QinJ_2012': False, 'YeZ_2018': False, 'JieZ_2017': False, 'YuJ_2015': False, 'GuptaA_2019': False, 'ThomasAM_2018b': False, 'QinN_2014': False, 'RubelMA_2020': False, 'KieserS_2018': False, 'JieZ_2017_2': False, 'WirbelJ_2018': False, 'ChngKR_2016': False, 'RubelMA_2020_2': False, 'KieserS_2018_2': False, 'NagySzakalD_2017': False, 'ShiB_2015_2': False, 'TettAJ_2016': False, 'NagySzakalD_2017_2': False, 'ThomasAM_2019_c': False, 'IjazUZ_2017_2': False, 'QinJ_2012_2': False}\n",
      "#########################################\n",
      "./Fixed/ORR.tsv {'LeeKA_2022': False, 'FrankelAE_2017': True}\n",
      "#########################################\n",
      "./Fixed/ever_smoker.tsv {'GhensiP_2019': False, 'XieH_2016': True, 'KeohaneDM_2020': True}\n",
      "#########################################\n",
      "./Fixed/PFS12.tsv {'LeeKA_2022': False}\n",
      "#########################################\n",
      "./Fixed/birth_order.tsv {'XieH_2016': False}\n",
      "#########################################\n",
      "./Fixed/country.tsv {'CosteaPI_2017': False, 'NielsenHB_2014': False, 'Obregon-TitoAJ_2015': False, 'CosteaPI_2017_2': False, 'PehrssonE_2016': False, 'PehrssonE_2016_2': False, 'HanniganGD_2017': False}\n",
      "#########################################\n",
      "./Fixed/feeding_practice.tsv {'YassourM_2018': False}\n",
      "#########################################\n",
      "./Fixed/non_westernized.tsv {'LiuW_2016': False, 'LiuW_2016_2': False, 'Obregon-TitoAJ_2015': False}\n",
      "#########################################\n",
      "./Fixed/alcohol.tsv {'ChngKR_2016': False}\n",
      "#########################################\n",
      "./Fixed/shigatoxin_2_elisa.tsv {'LomanNJ_2013': False}\n",
      "#########################################\n",
      "./Fixed/age_category.tsv {'WampachL_2018': False, 'ThomasAM_2018a': True, 'VatanenT_2016': False, 'FerrettiP_2018': False, 'YuJ_2015': False, 'ZellerG_2014': False, 'VogtmannE_2016': False, 'LeeKA_2022': False, 'YachidaS_2019': False, 'DavidLA_2015': True, 'FengQ_2015': False, 'ThomasAM_2019_c': False, 'YassourM_2018': False, 'YachidaS_2019_2': False}\n",
      "#########################################\n",
      "./Fixed/family_role.tsv {'TettAJ_2019_c': False, 'FerrettiP_2018': False, 'YassourM_2018': False}\n",
      "#########################################\n",
      "./Fixed/anti_PD_1.tsv {'MatsonV_2018': True, 'MatsonV_2018_2': False}\n",
      "#########################################\n",
      "./Fixed/location.tsv {'TettAJ_2016': False, 'KieserS_2018': False, 'GuptaA_2019': False, 'HallAB_2017': False, 'PehrssonE_2016': False, 'HallAB_2017_2': False, 'DhakanDB_2019': False, 'PehrssonE_2016_2': False, 'KieserS_2018_2': False}\n",
      "#########################################\n",
      "./Fixed/remission.tsv {'IjazUZ_2017': True, 'IjazUZ_2017_2': False}\n",
      "#########################################\n",
      "./Fixed/uncurated_metadata.tsv {'HansenLBS_2018': False, 'HansenLBS_2018_2': True}\n",
      "#########################################\n",
      "./Fixed/gender.tsv {'JieZ_2017': False, 'WampachL_2018': False, 'CosteaPI_2017': False, 'LokmerA_2019': True, 'VatanenT_2016': False, 'DeFilippisF_2019': False, 'RubelMA_2020': False, 'BritoIL_2016': False, 'FengQ_2015': False, 'ShaoY_2019': False, 'YachidaS_2019': False, 'OhJ_2014': False, 'ChuDM_2017': True, 'ZellerG_2014': False, 'QinJ_2012': False, 'LifeLinesDeep_2016': False, 'BrooksB_2017': False, 'QinJ_2012_2': False, 'Obregon-TitoAJ_2015': True, 'TettAJ_2016': False, 'RaymondF_2016': False, 'NielsenHB_2014': False, 'HansenLBS_2018': False, 'JieZ_2017_2': False, 'RampelliS_2015': False, 'DhakanDB_2019': False, 'ThomasAM_2018a': True, 'BackhedF_2015': False, 'HMP_2019_t2d': False, 'HMP_2012': False, 'SmitsSA_2017': False, 'BrooksB_2017_2': False, 'GuptaA_2019': True, 'ThomasAM_2018b': False, 'YuJ_2015': True, 'BackhedF_2015_2': False, 'KosticAD_2015': False, 'LeChatelierE_2013': False, 'SchirmerM_2016': False, 'ThomasAM_2019_c': False, 'LiJ_2014': False, 'WirbelJ_2018': False, 'HMP_2019_ibdmdb': False, 'ChengpingW_2017': False, 'VincentC_2016': True, 'LokmerA_2019_2': False, 'ZhuF_2020': False, 'ChngKR_2016': False, 'VilaAV_2018': False, 'KeohaneDM_2020': True, 'RubelMA_2020_2': False, 'CosteaPI_2017_2': False, 'HMP_2019_ibdmdb_2': False, 'ChengpingW_2017_2': False, 'QinN_2014': False, 'HanniganGD_2017': False, 'PehrssonE_2016': False, 'PehrssonE_2016_2': False, 'YachidaS_2019_2': False, 'ZeeviD_2015': False, 'PasolliE_2019': False, 'LeeKA_2022': False, 'HansenLBS_2018_2': False}\n",
      "#########################################\n",
      "./Fixed/treatment.tsv {'ChengpingW_2017': False, 'ChengpingW_2017_2': True}\n",
      "#########################################\n",
      "./Fixed/body_site.tsv {'BritoIL_2016': False}\n",
      "#########################################\n",
      "./Fixed/birth_control_pil.tsv {'SchirmerM_2016': False}\n",
      "#########################################\n",
      "./Fixed/smoker.tsv {'GhensiP_2019': False, 'JieZ_2017': False, 'JieZ_2017_2': True, 'XieH_2016': True, 'KeohaneDM_2020': True, 'KeohaneDM_2020_2': True}\n",
      "#########################################\n",
      "./Fixed/dental_sample_type.tsv {'GhensiP_2019': False}\n",
      "#########################################\n",
      "./Fixed/body_subsite.tsv {'DavidLA_2015': False}\n"
     ]
    }
   ],
   "source": [
    "for f in fs:\n",
    "    print(\"#########################################\")\n",
    "    ResultSummary(f)"
   ]
  },
  {
   "cell_type": "code",
   "execution_count": null,
   "id": "2ed7bc76-0e7b-4ea1-8632-41097bcfd054",
   "metadata": {},
   "outputs": [],
   "source": []
  }
 ],
 "metadata": {
  "kernelspec": {
   "display_name": "Python 3 (ipykernel)",
   "language": "python",
   "name": "python3"
  },
  "language_info": {
   "codemirror_mode": {
    "name": "ipython",
    "version": 3
   },
   "file_extension": ".py",
   "mimetype": "text/x-python",
   "name": "python",
   "nbconvert_exporter": "python",
   "pygments_lexer": "ipython3",
   "version": "3.9.18"
  },
  "widgets": {
   "application/vnd.jupyter.widget-state+json": {
    "state": {},
    "version_major": 2,
    "version_minor": 0
   }
  }
 },
 "nbformat": 4,
 "nbformat_minor": 5
}
