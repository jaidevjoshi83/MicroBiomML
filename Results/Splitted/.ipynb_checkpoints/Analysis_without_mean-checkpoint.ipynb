{
 "cells": [
  {
   "cell_type": "code",
   "execution_count": 14,
   "id": "a0bbd530-ea6e-42e5-aad9-bbd914f98f70",
   "metadata": {
    "tags": []
   },
   "outputs": [],
   "source": [
    "import numpy as np\n",
    "def ReturnUniqueColumnName(columns):\n",
    "    name_count = {}\n",
    "    unique_columns = []\n",
    "    for name in columns:\n",
    "        if name in name_count:\n",
    "            name_count[name] += 1\n",
    "            unique_columns.append(f\"{name}_{name_count[name]}\")\n",
    "        else:\n",
    "            name_count[name] = 1\n",
    "            unique_columns.append(name)\n",
    "    return unique_columns\n",
    "\n",
    "\n",
    "import pandas as pd\n",
    "\n",
    "def ResultSummary(file):\n",
    "    DF = pd.read_csv(file, sep='\\t')\n",
    "    DF.set_index('name', inplace=True)\n",
    "    df = DF.T\n",
    "    df.columns = ReturnUniqueColumnName(df.columns.to_list())\n",
    "    \n",
    "    column_anno = {}\n",
    "    for n in df.columns.to_list():\n",
    "        # Initialize an empty list to store the slicing indices\n",
    "        slices = []\n",
    "        mean_values = []\n",
    "        # Set the step size for the intervals\n",
    "        step = 5\n",
    "\n",
    "        # Create a loop to generate the slice indices\n",
    "        for i in range(0, 25, step):  # 25 represents the total number of elements\n",
    "            # Define the start and end of the slice\n",
    "            start = i\n",
    "            end = i + 4  # 4 represents the span or width of each slice\n",
    "            # Append the slice to the list\n",
    "            slices.append(f\"{start}:{end}\")\n",
    "            # print(df[[n]][start:end])\n",
    "            mean_values.append(round(np.mean(df[[n]][start:end]), 3))\n",
    "        # print(mean_values)\n",
    "        column_anno[n] = check_peformance(mean_values,  th=0.05)\n",
    "    print(file, column_anno)"
   ]
  },
  {
   "cell_type": "code",
   "execution_count": 16,
   "id": "0cbf6a0d-8e5e-4044-bd07-911ba980fcb8",
   "metadata": {
    "tags": []
   },
   "outputs": [],
   "source": [
    "def check_peformance(colum, th=0.05):\n",
    "    # values = [0.7375, 0.5625, 0.71, 0.76, 0.7475]\n",
    "    # Set the threshold\n",
    "    threshold = 0.05\n",
    "    # Get the last value in the list\n",
    "    last_value = colum[-1]\n",
    "\n",
    "    # Check if the last value is greater than all other values by at least the threshold\n",
    "    is_significantly_greater = all((last_value - value) >= threshold for value in values[:-1])\n",
    "\n",
    "    if is_significantly_greater:\n",
    "        return True\n",
    "    else:\n",
    "        return False"
   ]
  },
  {
   "cell_type": "code",
   "execution_count": 7,
   "id": "742e6cab-b646-4df9-a141-013abb8c9276",
   "metadata": {
    "tags": []
   },
   "outputs": [],
   "source": [
    "import glob\n",
    "\n",
    "fs = glob.glob('*.tsv')"
   ]
  },
  {
   "cell_type": "code",
   "execution_count": 6,
   "id": "45ba3561-a365-4ab3-b3cc-2e74245cdd3d",
   "metadata": {
    "tags": []
   },
   "outputs": [],
   "source": [
    "# for f in fs:\n",
    "#     ResultSummary(f)\n",
    "    "
   ]
  },
  {
   "cell_type": "code",
   "execution_count": 17,
   "id": "2ed7bc76-0e7b-4ea1-8632-41097bcfd054",
   "metadata": {},
   "outputs": [],
   "source": [
    "import pandas as pd\n",
    "def ResultSummary_a(file):\n",
    "    DF = pd.read_csv(file, sep='\\t')\n",
    "    DF.set_index('name', inplace=True)\n",
    "    df = DF.T\n",
    "    df.columns = ReturnUniqueColumnName(df.columns.to_list())\n",
    "    \n",
    "    column_anno = {}\n",
    "    for n in df.columns.to_list():\n",
    "        # Initialize an empty list to store the slicing indices\n",
    "        slices = []\n",
    "        mean_values = []\n",
    "        # Set the step size for the intervals\n",
    "        step = 5\n",
    "\n",
    "        # Create a loop to generate the slice indices\n",
    "        for i in range(0, 25, step):  # 25 represents the total number of elements\n",
    "            # Define the start and end of the slice\n",
    "            start = i\n",
    "            end = i + 4  # 4 represents the span or width of each slice\n",
    "            # Append the slice to the list\n",
    "            slices.append(f\"{start}:{end}\")\n",
    "            # print(df[[n]][start:end])\n",
    "            mean_values.append(round(np.mean(df[[n]][start:end]), 3))\n",
    "        # print(mean_values)\n",
    "        column_anno[n] = check_peformance(mean_values,  th=0.05)\n",
    "    print(file, column_anno)"
   ]
  },
  {
   "cell_type": "code",
   "execution_count": 18,
   "id": "9ccfa010-a932-4024-bafd-f02c7856382e",
   "metadata": {
    "tags": []
   },
   "outputs": [
    {
     "ename": "NameError",
     "evalue": "name 'values' is not defined",
     "output_type": "error",
     "traceback": [
      "\u001b[0;31m---------------------------------------------------------------------------\u001b[0m",
      "\u001b[0;31mNameError\u001b[0m                                 Traceback (most recent call last)",
      "Cell \u001b[0;32mIn[18], line 1\u001b[0m\n\u001b[0;32m----> 1\u001b[0m \u001b[43mResultSummary_a\u001b[49m\u001b[43m(\u001b[49m\u001b[43mfs\u001b[49m\u001b[43m[\u001b[49m\u001b[38;5;241;43m0\u001b[39;49m\u001b[43m]\u001b[49m\u001b[43m)\u001b[49m\n",
      "Cell \u001b[0;32mIn[17], line 26\u001b[0m, in \u001b[0;36mResultSummary_a\u001b[0;34m(file)\u001b[0m\n\u001b[1;32m     24\u001b[0m         mean_values\u001b[38;5;241m.\u001b[39mappend(\u001b[38;5;28mround\u001b[39m(np\u001b[38;5;241m.\u001b[39mmean(df[[n]][start:end]), \u001b[38;5;241m3\u001b[39m))\n\u001b[1;32m     25\u001b[0m     \u001b[38;5;66;03m# print(mean_values)\u001b[39;00m\n\u001b[0;32m---> 26\u001b[0m     column_anno[n] \u001b[38;5;241m=\u001b[39m \u001b[43mcheck_peformance\u001b[49m\u001b[43m(\u001b[49m\u001b[43mmean_values\u001b[49m\u001b[43m,\u001b[49m\u001b[43m  \u001b[49m\u001b[43mth\u001b[49m\u001b[38;5;241;43m=\u001b[39;49m\u001b[38;5;241;43m0.05\u001b[39;49m\u001b[43m)\u001b[49m\n\u001b[1;32m     27\u001b[0m \u001b[38;5;28mprint\u001b[39m(file, column_anno)\n",
      "Cell \u001b[0;32mIn[16], line 6\u001b[0m, in \u001b[0;36mcheck_peformance\u001b[0;34m(colum, th)\u001b[0m\n\u001b[1;32m      4\u001b[0m threshold \u001b[38;5;241m=\u001b[39m \u001b[38;5;241m0.05\u001b[39m\n\u001b[1;32m      5\u001b[0m \u001b[38;5;66;03m# Get the last value in the list\u001b[39;00m\n\u001b[0;32m----> 6\u001b[0m last_value \u001b[38;5;241m=\u001b[39m \u001b[43mvalues\u001b[49m[\u001b[38;5;241m-\u001b[39m\u001b[38;5;241m1\u001b[39m]\n\u001b[1;32m      8\u001b[0m \u001b[38;5;66;03m# Check if the last value is greater than all other values by at least the threshold\u001b[39;00m\n\u001b[1;32m      9\u001b[0m is_significantly_greater \u001b[38;5;241m=\u001b[39m \u001b[38;5;28mall\u001b[39m((last_value \u001b[38;5;241m-\u001b[39m value) \u001b[38;5;241m>\u001b[39m\u001b[38;5;241m=\u001b[39m threshold \u001b[38;5;28;01mfor\u001b[39;00m value \u001b[38;5;129;01min\u001b[39;00m values[:\u001b[38;5;241m-\u001b[39m\u001b[38;5;241m1\u001b[39m])\n",
      "\u001b[0;31mNameError\u001b[0m: name 'values' is not defined"
     ]
    }
   ],
   "source": [
    "ResultSummary_a(fs[0])"
   ]
  },
  {
   "cell_type": "code",
   "execution_count": null,
   "id": "f561c44e-547c-4c8c-8b70-c24bde1d3b0f",
   "metadata": {},
   "outputs": [],
   "source": []
  }
 ],
 "metadata": {
  "kernelspec": {
   "display_name": "Python 3 (ipykernel)",
   "language": "python",
   "name": "python3"
  },
  "language_info": {
   "codemirror_mode": {
    "name": "ipython",
    "version": 3
   },
   "file_extension": ".py",
   "mimetype": "text/x-python",
   "name": "python",
   "nbconvert_exporter": "python",
   "pygments_lexer": "ipython3",
   "version": "3.9.18"
  },
  "widgets": {
   "application/vnd.jupyter.widget-state+json": {
    "state": {},
    "version_major": 2,
    "version_minor": 0
   }
  }
 },
 "nbformat": 4,
 "nbformat_minor": 5
}
