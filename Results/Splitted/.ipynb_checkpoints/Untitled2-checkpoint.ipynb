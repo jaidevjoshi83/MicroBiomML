{
 "cells": [
  {
   "cell_type": "code",
   "execution_count": null,
   "id": "5e5b1adc-fb46-434d-b222-923b63bd6dfd",
   "metadata": {},
   "outputs": [],
   "source": [
    "###Fix Duplicate Column Names ############################\n",
    "def ReturnUniqueColumnName(columns):\n",
    "    name_count = {}\n",
    "    unique_columns = []\n",
    "    for name in columns:\n",
    "        if name in name_count:\n",
    "            name_count[name] += 1\n",
    "            unique_columns.append(f\"{name}_{name_count[name]}\")\n",
    "        else:\n",
    "            name_count[name] = 1\n",
    "            unique_columns.append(name)\n",
    "    return unique_columns\n",
    "\n",
    "# data  = open(sys.argv[1])\n",
    "\n",
    "DF = pd.read_csv(sys.argv[1], sep='\\t')\n",
    "DF.set_index('name', inplace=True)\n",
    "df = DF.T\n",
    "df.index.name = 'name'\n",
    "df.columns = ReturnUniqueColumnName(df.columns.to_list())\n",
    "###Fix Duplicate Column Names ############################"
   ]
  },
  {
   "cell_type": "code",
   "execution_count": null,
   "id": "c9116010-70df-4130-b25b-da50f96c849c",
   "metadata": {},
   "outputs": [],
   "source": [
    "import glob\n",
    "import pandas as pd\n"
   ]
  }
 ],
 "metadata": {
  "kernelspec": {
   "display_name": "Python 3 (ipykernel)",
   "language": "python",
   "name": "python3"
  },
  "language_info": {
   "codemirror_mode": {
    "name": "ipython",
    "version": 3
   },
   "file_extension": ".py",
   "mimetype": "text/x-python",
   "name": "python",
   "nbconvert_exporter": "python",
   "pygments_lexer": "ipython3",
   "version": "3.9.18"
  },
  "widgets": {
   "application/vnd.jupyter.widget-state+json": {
    "state": {},
    "version_major": 2,
    "version_minor": 0
   }
  }
 },
 "nbformat": 4,
 "nbformat_minor": 5
}
