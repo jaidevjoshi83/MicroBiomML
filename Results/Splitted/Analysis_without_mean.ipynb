{
 "cells": [
  {
   "cell_type": "code",
   "execution_count": 14,
   "id": "a0bbd530-ea6e-42e5-aad9-bbd914f98f70",
   "metadata": {
    "tags": []
   },
   "outputs": [],
   "source": [
    "import numpy as np\n",
    "def ReturnUniqueColumnName(columns):\n",
    "    name_count = {}\n",
    "    unique_columns = []\n",
    "    for name in columns:\n",
    "        if name in name_count:\n",
    "            name_count[name] += 1\n",
    "            unique_columns.append(f\"{name}_{name_count[name]}\")\n",
    "        else:\n",
    "            name_count[name] = 1\n",
    "            unique_columns.append(name)\n",
    "    return unique_columns\n",
    "\n",
    "\n",
    "import pandas as pd\n",
    "\n",
    "def ResultSummary(file):\n",
    "    DF = pd.read_csv(file, sep='\\t')\n",
    "    DF.set_index('name', inplace=True)\n",
    "    df = DF.T\n",
    "    df.columns = ReturnUniqueColumnName(df.columns.to_list())\n",
    "    \n",
    "    column_anno = {}\n",
    "    for n in df.columns.to_list():\n",
    "        # Initialize an empty list to store the slicing indices\n",
    "        slices = []\n",
    "        mean_values = []\n",
    "        # Set the step size for the intervals\n",
    "        step = 5\n",
    "\n",
    "        # Create a loop to generate the slice indices\n",
    "        for i in range(0, 25, step):  # 25 represents the total number of elements\n",
    "            # Define the start and end of the slice\n",
    "            start = i\n",
    "            end = i + 4  # 4 represents the span or width of each slice\n",
    "            # Append the slice to the list\n",
    "            slices.append(f\"{start}:{end}\")\n",
    "            # print(df[[n]][start:end])\n",
    "            mean_values.append(round(np.mean(df[[n]][start:end]), 3))\n",
    "        # print(mean_values)\n",
    "        column_anno[n] = check_peformance(mean_values,  th=0.05)\n",
    "    print(file, column_anno)"
   ]
  },
  {
   "cell_type": "code",
   "execution_count": 21,
   "id": "0cbf6a0d-8e5e-4044-bd07-911ba980fcb8",
   "metadata": {
    "tags": []
   },
   "outputs": [],
   "source": [
    "def check_peformance(values, th=0.05):\n",
    "    # values = [0.7375, 0.5625, 0.71, 0.76, 0.7475]\n",
    "    # Set the threshold\n",
    "    threshold = 0.05\n",
    "    # Get the last value in the list\n",
    "    last_value = values[-1]\n",
    "\n",
    "    # Check if the last value is greater than all other values by at least the threshold\n",
    "    is_significantly_greater = all((last_value - value) >= threshold for value in values[:-1])\n",
    "\n",
    "    if is_significantly_greater:\n",
    "        return True\n",
    "    else:\n",
    "        return False"
   ]
  },
  {
   "cell_type": "code",
   "execution_count": 7,
   "id": "742e6cab-b646-4df9-a141-013abb8c9276",
   "metadata": {
    "tags": []
   },
   "outputs": [],
   "source": [
    "import glob\n",
    "\n",
    "fs = glob.glob('*.tsv')"
   ]
  },
  {
   "cell_type": "code",
   "execution_count": 6,
   "id": "45ba3561-a365-4ab3-b3cc-2e74245cdd3d",
   "metadata": {
    "tags": []
   },
   "outputs": [],
   "source": [
    "# for f in fs:\n",
    "#     ResultSummary(f)\n",
    "    "
   ]
  },
  {
   "cell_type": "code",
   "execution_count": 2,
   "id": "2ed7bc76-0e7b-4ea1-8632-41097bcfd054",
   "metadata": {},
   "outputs": [],
   "source": [
    "import pandas as pd\n",
    "def ResultSummary_a(file):\n",
    "    DF = pd.read_csv(file, sep='\\t')\n",
    "    DF.set_index('name', inplace=True)\n",
    "    df = DF.T\n",
    "    df.columns = ReturnUniqueColumnName(df.columns.to_list())\n",
    "    \n",
    "    column_anno = {}\n",
    "    for n in df.columns.to_list():\n",
    "        # Initialize an empty list to store the slicing indices\n",
    "        slices = []\n",
    "        mean_values = []\n",
    "        # Set the step size for the intervals\n",
    "        step = 5\n",
    "\n",
    "        # Create a loop to generate the slice indices\n",
    "        for i in range(0, 25, step):  # 25 represents the total number of elements\n",
    "            # Define the start and end of the slice\n",
    "            start = i\n",
    "            end = i + 4  # 4 represents the span or width of each slice\n",
    "            # Append the slice to the list\n",
    "            slices.append(f\"{start}:{end}\")\n",
    "            # print(df[[n]][start:end])\n",
    "            mean_values.append(round(np.mean(df[[n]][start:end]), 3))\n",
    "        # print(mean_values)\n",
    "        column_anno[n] = check_peformance(mean_values,  th=0.05)\n",
    "    print(file, column_anno)"
   ]
  },
  {
   "cell_type": "code",
   "execution_count": 22,
   "id": "9ccfa010-a932-4024-bafd-f02c7856382e",
   "metadata": {
    "tags": []
   },
   "outputs": [
    {
     "name": "stdout",
     "output_type": "stream",
     "text": [
      "born_method.tsv {'WampachL_2018': False, 'ShaoY_2019': False, 'BrooksB_2017': False, 'BrooksB_2017_2': False}\n"
     ]
    }
   ],
   "source": [
    "ResultSummary_a(fs[0])"
   ]
  },
  {
   "cell_type": "code",
   "execution_count": null,
   "id": "f561c44e-547c-4c8c-8b70-c24bde1d3b0f",
   "metadata": {},
   "outputs": [],
   "source": []
  }
 ],
 "metadata": {
  "kernelspec": {
   "display_name": "Python 3 (ipykernel)",
   "language": "python",
   "name": "python3"
  },
  "language_info": {
   "codemirror_mode": {
    "name": "ipython",
    "version": 3
   },
   "file_extension": ".py",
   "mimetype": "text/x-python",
   "name": "python",
   "nbconvert_exporter": "python",
   "pygments_lexer": "ipython3",
   "version": "3.9.18"
  },
  "widgets": {
   "application/vnd.jupyter.widget-state+json": {
    "state": {},
    "version_major": 2,
    "version_minor": 0
   }
  }
 },
 "nbformat": 4,
 "nbformat_minor": 5
}
