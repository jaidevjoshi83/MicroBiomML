{
 "cells": [
  {
   "cell_type": "code",
   "execution_count": 82,
   "id": "94ab086b-7330-4f6c-8106-b14ac3ef375b",
   "metadata": {
    "tags": []
   },
   "outputs": [
    {
     "name": "stdout",
     "output_type": "stream",
     "text": [
      "0 born_method.tsv\n",
      "1 history_of_periodontitis.tsv\n",
      "2 disease_subtype.tsv\n",
      "3 study_condition.tsv\n",
      "4 ORR.tsv\n",
      "5 ever_smoker.tsv\n",
      "6 PFS12.tsv\n",
      "7 birth_order.tsv\n",
      "8 country.tsv\n",
      "9 feeding_practice.tsv\n",
      "10 non_westernized.tsv\n",
      "11 alcohol.tsv\n",
      "12 shigatoxin_2_elisa.tsv\n",
      "13 age_category.tsv\n",
      "14 family_role.tsv\n",
      "15 anti_PD_1.tsv\n",
      "16 location.tsv\n",
      "17 remission.tsv\n",
      "18 uncurated_metadata.tsv\n",
      "19 gender.tsv\n",
      "20 treatment.tsv\n",
      "21 body_site.tsv\n",
      "22 birth_control_pil.tsv\n",
      "23 smoker.tsv\n",
      "24 dental_sample_type.tsv\n",
      "25 body_subsite.tsv\n"
     ]
    }
   ],
   "source": [
    "import glob\n",
    "fs = glob.glob('*.tsv')\n",
    "for i, f in enumerate(fs):\n",
    "    print(i, f)"
   ]
  },
  {
   "cell_type": "code",
   "execution_count": 168,
   "id": "b15ad522-4fa2-47b9-808b-fc15a027d121",
   "metadata": {
    "tags": []
   },
   "outputs": [
    {
     "name": "stdout",
     "output_type": "stream",
     "text": [
      "gender.tsv\n"
     ]
    }
   ],
   "source": [
    "input_file = fs[19]\n",
    "print(input_file)\n",
    "threshold = 0.01"
   ]
  },
  {
   "cell_type": "code",
   "execution_count": 172,
   "id": "3b2d5d8e-fe72-441a-b876-3ecdc10d337d",
   "metadata": {
    "tags": []
   },
   "outputs": [
    {
     "data": {
      "application/vnd.plotly.v1+json": {
       "config": {
        "plotlyServerURL": "https://plot.ly"
       },
       "data": [
        {
         "colorbar": {
          "title": {
           "text": "Value"
          }
         },
         "text": [
          [
           0.16,
           0.72,
           0.4,
           0.28,
           0.18,
           0.59,
           0.35,
           0.34,
           0.19,
           0.06,
           0.26,
           0.58,
           0.45,
           0.38,
           0.06,
           0.2,
           0.64,
           0.07,
           0.27,
           0.49,
           0.72,
           0.26,
           0.73,
           0.19,
           0.72,
           0.12,
           -0.05,
           0.26,
           0.93,
           0.36,
           0.52,
           0.56,
           0.17,
           0.49,
           -0.05,
           0.13,
           0.5,
           0.35,
           0.33,
           0.16,
           0.24,
           0.18,
           0.72,
           0.14,
           0.49,
           0.6,
           0.18,
           0.6,
           0.17,
           0.32,
           0.42,
           0.39,
           0.71,
           0.19,
           0.22,
           0.45,
           0.23,
           0.26,
           0.28,
           0.21,
           0.28,
           0.05,
           0.71
          ],
          [
           0,
           0.7,
           0.22,
           0.33,
           0.16,
           0.38,
           0.17,
           0.17,
           0.15,
           0.08,
           0.22,
           0.59,
           0.32,
           0.17,
           0,
           0,
           0.64,
           0.12,
           0.2,
           0.28,
           0.57,
           0.25,
           0.36,
           0,
           0.43,
           0.23,
           0,
           0.22,
           0.75,
           0.25,
           0.43,
           0.67,
           0.31,
           0.29,
           0,
           0.21,
           0.55,
           0.14,
           0.18,
           0.26,
           0.23,
           0,
           0.53,
           0,
           0,
           0.26,
           0.31,
           0.34,
           0,
           0.09,
           0.22,
           0.18,
           0.53,
           0.11,
           0,
           0,
           0.34,
           0.33,
           0.15,
           0,
           0.3,
           0.2,
           0.38
          ],
          [
           0.21,
           0.62,
           0.36,
           0.07,
           0.17,
           0.49,
           0.42,
           0.31,
           0.21,
           0.07,
           0.32,
           0.34,
           0.29,
           0.29,
           0.13,
           0.18,
           0.57,
           0.18,
           0.14,
           0.23,
           0.4,
           0.32,
           0.55,
           0.26,
           0.41,
           0.19,
           0,
           0.31,
           0.9,
           0.28,
           0.72,
           0.61,
           0.15,
           0.38,
           -0.04,
           0.28,
           0.51,
           0.3,
           0.34,
           0.18,
           0.14,
           0.37,
           0.54,
           0.41,
           0.21,
           0.35,
           0.14,
           0.36,
           0.06,
           0.15,
           0.26,
           0.33,
           0.54,
           0.13,
           0.21,
           0.27,
           0.18,
           0.05,
           0.33,
           0.19,
           0.39,
           0.2,
           0.62
          ],
          [
           0.31,
           0.78,
           0.32,
           0.39,
           0.14,
           0.37,
           0.34,
           0.18,
           0.35,
           0.1,
           0.28,
           0.66,
           0.42,
           0.25,
           0,
           0.23,
           0.67,
           0.1,
           0.28,
           0.38,
           0.32,
           0.28,
           0.73,
           0.29,
           0.52,
           0.3,
           0,
           0.22,
           0.93,
           0.27,
           0.22,
           0.68,
           0.32,
           0.38,
           0,
           0,
           0.61,
           0,
           0.37,
           0.32,
           0.25,
           0,
           0.68,
           0,
           0.25,
           0.28,
           0.42,
           0.66,
           0,
           0.25,
           0.32,
           0.33,
           0.7,
           0,
           0,
           0,
           0.36,
           0.32,
           0.29,
           0.25,
           0.23,
           0.3,
           0.74
          ],
          [
           0.27,
           0.67,
           0.26,
           0.53,
           0.21,
           0.39,
           0.38,
           0.3,
           0.37,
           0.13,
           0.33,
           0.71,
           0.77,
           0.29,
           0.22,
           0.27,
           0.47,
           0.2,
           0.68,
           0.43,
           0.61,
           0.33,
           0.72,
           0.32,
           0.61,
           0.4,
           0.5,
           0.25,
           0.94,
           0.23,
           0.7,
           0.59,
           0.42,
           0.5,
           0.19,
           0.15,
           0.56,
           0.4,
           0.34,
           0.39,
           0.32,
           0.4,
           0.48,
           0.24,
           0.69,
           0.39,
           0.32,
           0.59,
           0.01,
           0.49,
           0.21,
           0.26,
           0.5,
           0.19,
           0.27,
           0.45,
           0.22,
           0.24,
           0.36,
           0.16,
           0.34,
           0.32,
           0.76
          ]
         ],
         "textfont": {
          "color": "black"
         },
         "texttemplate": "%{text}",
         "type": "heatmap",
         "x": [
          "JieZ_2017",
          "WampachL_2018",
          "CosteaPI_2017",
          "LokmerA_2019",
          "VatanenT_2016",
          "DeFilippisF_2019",
          "RubelMA_2020",
          "BritoIL_2016",
          "FengQ_2015",
          "ShaoY_2019",
          "YachidaS_2019",
          "OhJ_2014",
          "ChuDM_2017",
          "ZellerG_2014",
          "QinJ_2012",
          "LifeLinesDeep_2016",
          "BrooksB_2017",
          "QinJ_2012_2",
          "Obregon-TitoAJ_2015",
          "TettAJ_2016",
          "RaymondF_2016",
          "NielsenHB_2014",
          "HansenLBS_2018",
          "JieZ_2017_2",
          "RampelliS_2015",
          "DhakanDB_2019",
          "ThomasAM_2018a",
          "BackhedF_2015",
          "HMP_2019_t2d",
          "HMP_2012",
          "SmitsSA_2017",
          "BrooksB_2017_2",
          "GuptaA_2019",
          "ThomasAM_2018b",
          "YuJ_2015",
          "BackhedF_2015_2",
          "KosticAD_2015",
          "LeChatelierE_2013",
          "SchirmerM_2016",
          "ThomasAM_2019_c",
          "LiJ_2014",
          "WirbelJ_2018",
          "HMP_2019_ibdmdb",
          "ChengpingW_2017",
          "VincentC_2016",
          "LokmerA_2019_2",
          "ZhuF_2020",
          "ChngKR_2016",
          "VilaAV_2018",
          "KeohaneDM_2020",
          "RubelMA_2020_2",
          "CosteaPI_2017_2",
          "HMP_2019_ibdmdb_2",
          "ChengpingW_2017_2",
          "QinN_2014",
          "HanniganGD_2017",
          "PehrssonE_2016",
          "PehrssonE_2016_2",
          "YachidaS_2019_2",
          "ZeeviD_2015",
          "PasolliE_2019",
          "LeeKA_2022",
          "HansenLBS_2018_2"
         ],
         "y": [
          "LRC",
          "DTC",
          "SVC",
          "RFC",
          "HDC"
         ],
         "z": [
          [
           0.16,
           0.72,
           0.4,
           0.28,
           0.18,
           0.59,
           0.35,
           0.34,
           0.19,
           0.06,
           0.26,
           0.58,
           0.45,
           0.38,
           0.06,
           0.2,
           0.64,
           0.07,
           0.27,
           0.49,
           0.72,
           0.26,
           0.73,
           0.19,
           0.72,
           0.12,
           -0.05,
           0.26,
           0.93,
           0.36,
           0.52,
           0.56,
           0.17,
           0.49,
           -0.05,
           0.13,
           0.5,
           0.35,
           0.33,
           0.16,
           0.24,
           0.18,
           0.72,
           0.14,
           0.49,
           0.6,
           0.18,
           0.6,
           0.17,
           0.32,
           0.42,
           0.39,
           0.71,
           0.19,
           0.22,
           0.45,
           0.23,
           0.26,
           0.28,
           0.21,
           0.28,
           0.05,
           0.71
          ],
          [
           0,
           0.7,
           0.22,
           0.33,
           0.16,
           0.38,
           0.17,
           0.17,
           0.15,
           0.08,
           0.22,
           0.59,
           0.32,
           0.17,
           0,
           0,
           0.64,
           0.12,
           0.2,
           0.28,
           0.57,
           0.25,
           0.36,
           0,
           0.43,
           0.23,
           0,
           0.22,
           0.75,
           0.25,
           0.43,
           0.67,
           0.31,
           0.29,
           0,
           0.21,
           0.55,
           0.14,
           0.18,
           0.26,
           0.23,
           0,
           0.53,
           0,
           0,
           0.26,
           0.31,
           0.34,
           0,
           0.09,
           0.22,
           0.18,
           0.53,
           0.11,
           0,
           0,
           0.34,
           0.33,
           0.15,
           0,
           0.3,
           0.2,
           0.38
          ],
          [
           0.21,
           0.62,
           0.36,
           0.07,
           0.17,
           0.49,
           0.42,
           0.31,
           0.21,
           0.07,
           0.32,
           0.34,
           0.29,
           0.29,
           0.13,
           0.18,
           0.57,
           0.18,
           0.14,
           0.23,
           0.4,
           0.32,
           0.55,
           0.26,
           0.41,
           0.19,
           0,
           0.31,
           0.9,
           0.28,
           0.72,
           0.61,
           0.15,
           0.38,
           -0.04,
           0.28,
           0.51,
           0.3,
           0.34,
           0.18,
           0.14,
           0.37,
           0.54,
           0.41,
           0.21,
           0.35,
           0.14,
           0.36,
           0.06,
           0.15,
           0.26,
           0.33,
           0.54,
           0.13,
           0.21,
           0.27,
           0.18,
           0.05,
           0.33,
           0.19,
           0.39,
           0.2,
           0.62
          ],
          [
           0.31,
           0.78,
           0.32,
           0.39,
           0.14,
           0.37,
           0.34,
           0.18,
           0.35,
           0.1,
           0.28,
           0.66,
           0.42,
           0.25,
           0,
           0.23,
           0.67,
           0.1,
           0.28,
           0.38,
           0.32,
           0.28,
           0.73,
           0.29,
           0.52,
           0.3,
           0,
           0.22,
           0.93,
           0.27,
           0.22,
           0.68,
           0.32,
           0.38,
           0,
           0,
           0.61,
           0,
           0.37,
           0.32,
           0.25,
           0,
           0.68,
           0,
           0.25,
           0.28,
           0.42,
           0.66,
           0,
           0.25,
           0.32,
           0.33,
           0.7,
           0,
           0,
           0,
           0.36,
           0.32,
           0.29,
           0.25,
           0.23,
           0.3,
           0.74
          ],
          [
           0.27,
           0.67,
           0.26,
           0.53,
           0.21,
           0.39,
           0.38,
           0.3,
           0.37,
           0.13,
           0.33,
           0.71,
           0.77,
           0.29,
           0.22,
           0.27,
           0.47,
           0.2,
           0.68,
           0.43,
           0.61,
           0.33,
           0.72,
           0.32,
           0.61,
           0.4,
           0.5,
           0.25,
           0.94,
           0.23,
           0.7,
           0.59,
           0.42,
           0.5,
           0.19,
           0.15,
           0.56,
           0.4,
           0.34,
           0.39,
           0.32,
           0.4,
           0.48,
           0.24,
           0.69,
           0.39,
           0.32,
           0.59,
           0.01,
           0.49,
           0.21,
           0.26,
           0.5,
           0.19,
           0.27,
           0.45,
           0.22,
           0.24,
           0.36,
           0.16,
           0.34,
           0.32,
           0.76
          ]
         ]
        }
       ],
       "layout": {
        "height": 400,
        "shapes": [
         {
          "fillcolor": "rgba(255, 255, 255, 0)",
          "line": {
           "color": "red",
           "width": 2
          },
          "type": "rect",
          "x0": 2.5,
          "x1": 3.5,
          "y0": 3.5,
          "y1": 4.5
         },
         {
          "fillcolor": "rgba(255, 255, 255, 0)",
          "line": {
           "color": "red",
           "width": 2
          },
          "type": "rect",
          "x0": 3.5,
          "x1": 4.5,
          "y0": 3.5,
          "y1": 4.5
         },
         {
          "fillcolor": "rgba(255, 255, 255, 0)",
          "line": {
           "color": "red",
           "width": 2
          },
          "type": "rect",
          "x0": 8.5,
          "x1": 9.5,
          "y0": 3.5,
          "y1": 4.5
         },
         {
          "fillcolor": "rgba(255, 255, 255, 0)",
          "line": {
           "color": "red",
           "width": 2
          },
          "type": "rect",
          "x0": 10.5,
          "x1": 11.5,
          "y0": 3.5,
          "y1": 4.5
         },
         {
          "fillcolor": "rgba(255, 255, 255, 0)",
          "line": {
           "color": "red",
           "width": 2
          },
          "type": "rect",
          "x0": 11.5,
          "x1": 12.5,
          "y0": 3.5,
          "y1": 4.5
         },
         {
          "fillcolor": "rgba(255, 255, 255, 0)",
          "line": {
           "color": "red",
           "width": 2
          },
          "type": "rect",
          "x0": 13.5,
          "x1": 14.5,
          "y0": 3.5,
          "y1": 4.5
         },
         {
          "fillcolor": "rgba(255, 255, 255, 0)",
          "line": {
           "color": "red",
           "width": 2
          },
          "type": "rect",
          "x0": 14.5,
          "x1": 15.5,
          "y0": 3.5,
          "y1": 4.5
         },
         {
          "fillcolor": "rgba(255, 255, 255, 0)",
          "line": {
           "color": "red",
           "width": 2
          },
          "type": "rect",
          "x0": 16.5,
          "x1": 17.5,
          "y0": 3.5,
          "y1": 4.5
         },
         {
          "fillcolor": "rgba(255, 255, 255, 0)",
          "line": {
           "color": "red",
           "width": 2
          },
          "type": "rect",
          "x0": 17.5,
          "x1": 18.5,
          "y0": 3.5,
          "y1": 4.5
         },
         {
          "fillcolor": "rgba(255, 255, 255, 0)",
          "line": {
           "color": "red",
           "width": 2
          },
          "type": "rect",
          "x0": 20.5,
          "x1": 21.5,
          "y0": 3.5,
          "y1": 4.5
         },
         {
          "fillcolor": "rgba(255, 255, 255, 0)",
          "line": {
           "color": "red",
           "width": 2
          },
          "type": "rect",
          "x0": 22.5,
          "x1": 23.5,
          "y0": 3.5,
          "y1": 4.5
         },
         {
          "fillcolor": "rgba(255, 255, 255, 0)",
          "line": {
           "color": "red",
           "width": 2
          },
          "type": "rect",
          "x0": 24.5,
          "x1": 25.5,
          "y0": 3.5,
          "y1": 4.5
         },
         {
          "fillcolor": "rgba(255, 255, 255, 0)",
          "line": {
           "color": "red",
           "width": 2
          },
          "type": "rect",
          "x0": 25.5,
          "x1": 26.5,
          "y0": 3.5,
          "y1": 4.5
         },
         {
          "fillcolor": "rgba(255, 255, 255, 0)",
          "line": {
           "color": "red",
           "width": 2
          },
          "type": "rect",
          "x0": 31.5,
          "x1": 32.5,
          "y0": 3.5,
          "y1": 4.5
         },
         {
          "fillcolor": "rgba(255, 255, 255, 0)",
          "line": {
           "color": "red",
           "width": 2
          },
          "type": "rect",
          "x0": 32.5,
          "x1": 33.5,
          "y0": 3.5,
          "y1": 4.5
         },
         {
          "fillcolor": "rgba(255, 255, 255, 0)",
          "line": {
           "color": "red",
           "width": 2
          },
          "type": "rect",
          "x0": 33.5,
          "x1": 34.5,
          "y0": 3.5,
          "y1": 4.5
         },
         {
          "fillcolor": "rgba(255, 255, 255, 0)",
          "line": {
           "color": "red",
           "width": 2
          },
          "type": "rect",
          "x0": 36.5,
          "x1": 37.5,
          "y0": 3.5,
          "y1": 4.5
         },
         {
          "fillcolor": "rgba(255, 255, 255, 0)",
          "line": {
           "color": "red",
           "width": 2
          },
          "type": "rect",
          "x0": 38.5,
          "x1": 39.5,
          "y0": 3.5,
          "y1": 4.5
         },
         {
          "fillcolor": "rgba(255, 255, 255, 0)",
          "line": {
           "color": "red",
           "width": 2
          },
          "type": "rect",
          "x0": 39.5,
          "x1": 40.5,
          "y0": 3.5,
          "y1": 4.5
         },
         {
          "fillcolor": "rgba(255, 255, 255, 0)",
          "line": {
           "color": "red",
           "width": 2
          },
          "type": "rect",
          "x0": 40.5,
          "x1": 41.5,
          "y0": 3.5,
          "y1": 4.5
         },
         {
          "fillcolor": "rgba(255, 255, 255, 0)",
          "line": {
           "color": "red",
           "width": 2
          },
          "type": "rect",
          "x0": 43.5,
          "x1": 44.5,
          "y0": 3.5,
          "y1": 4.5
         },
         {
          "fillcolor": "rgba(255, 255, 255, 0)",
          "line": {
           "color": "red",
           "width": 2
          },
          "type": "rect",
          "x0": 48.5,
          "x1": 49.5,
          "y0": 3.5,
          "y1": 4.5
         },
         {
          "fillcolor": "rgba(255, 255, 255, 0)",
          "line": {
           "color": "red",
           "width": 2
          },
          "type": "rect",
          "x0": 53.5,
          "x1": 54.5,
          "y0": 3.5,
          "y1": 4.5
         },
         {
          "fillcolor": "rgba(255, 255, 255, 0)",
          "line": {
           "color": "red",
           "width": 2
          },
          "type": "rect",
          "x0": 54.5,
          "x1": 55.5,
          "y0": 3.5,
          "y1": 4.5
         },
         {
          "fillcolor": "rgba(255, 255, 255, 0)",
          "line": {
           "color": "red",
           "width": 2
          },
          "type": "rect",
          "x0": 57.5,
          "x1": 58.5,
          "y0": 3.5,
          "y1": 4.5
         },
         {
          "fillcolor": "rgba(255, 255, 255, 0)",
          "line": {
           "color": "red",
           "width": 2
          },
          "type": "rect",
          "x0": 59.5,
          "x1": 60.5,
          "y0": 3.5,
          "y1": 4.5
         },
         {
          "fillcolor": "rgba(255, 255, 255, 0)",
          "line": {
           "color": "red",
           "width": 2
          },
          "type": "rect",
          "x0": 60.5,
          "x1": 61.5,
          "y0": 3.5,
          "y1": 4.5
         },
         {
          "fillcolor": "rgba(255, 255, 255, 0)",
          "line": {
           "color": "red",
           "width": 2
          },
          "type": "rect",
          "x0": 61.5,
          "x1": 62.5,
          "y0": 3.5,
          "y1": 4.5
         }
        ],
        "template": {
         "data": {
          "bar": [
           {
            "error_x": {
             "color": "#2a3f5f"
            },
            "error_y": {
             "color": "#2a3f5f"
            },
            "marker": {
             "line": {
              "color": "#E5ECF6",
              "width": 0.5
             },
             "pattern": {
              "fillmode": "overlay",
              "size": 10,
              "solidity": 0.2
             }
            },
            "type": "bar"
           }
          ],
          "barpolar": [
           {
            "marker": {
             "line": {
              "color": "#E5ECF6",
              "width": 0.5
             },
             "pattern": {
              "fillmode": "overlay",
              "size": 10,
              "solidity": 0.2
             }
            },
            "type": "barpolar"
           }
          ],
          "carpet": [
           {
            "aaxis": {
             "endlinecolor": "#2a3f5f",
             "gridcolor": "white",
             "linecolor": "white",
             "minorgridcolor": "white",
             "startlinecolor": "#2a3f5f"
            },
            "baxis": {
             "endlinecolor": "#2a3f5f",
             "gridcolor": "white",
             "linecolor": "white",
             "minorgridcolor": "white",
             "startlinecolor": "#2a3f5f"
            },
            "type": "carpet"
           }
          ],
          "choropleth": [
           {
            "colorbar": {
             "outlinewidth": 0,
             "ticks": ""
            },
            "type": "choropleth"
           }
          ],
          "contour": [
           {
            "colorbar": {
             "outlinewidth": 0,
             "ticks": ""
            },
            "colorscale": [
             [
              0,
              "#0d0887"
             ],
             [
              0.1111111111111111,
              "#46039f"
             ],
             [
              0.2222222222222222,
              "#7201a8"
             ],
             [
              0.3333333333333333,
              "#9c179e"
             ],
             [
              0.4444444444444444,
              "#bd3786"
             ],
             [
              0.5555555555555556,
              "#d8576b"
             ],
             [
              0.6666666666666666,
              "#ed7953"
             ],
             [
              0.7777777777777778,
              "#fb9f3a"
             ],
             [
              0.8888888888888888,
              "#fdca26"
             ],
             [
              1,
              "#f0f921"
             ]
            ],
            "type": "contour"
           }
          ],
          "contourcarpet": [
           {
            "colorbar": {
             "outlinewidth": 0,
             "ticks": ""
            },
            "type": "contourcarpet"
           }
          ],
          "heatmap": [
           {
            "colorbar": {
             "outlinewidth": 0,
             "ticks": ""
            },
            "colorscale": [
             [
              0,
              "#0d0887"
             ],
             [
              0.1111111111111111,
              "#46039f"
             ],
             [
              0.2222222222222222,
              "#7201a8"
             ],
             [
              0.3333333333333333,
              "#9c179e"
             ],
             [
              0.4444444444444444,
              "#bd3786"
             ],
             [
              0.5555555555555556,
              "#d8576b"
             ],
             [
              0.6666666666666666,
              "#ed7953"
             ],
             [
              0.7777777777777778,
              "#fb9f3a"
             ],
             [
              0.8888888888888888,
              "#fdca26"
             ],
             [
              1,
              "#f0f921"
             ]
            ],
            "type": "heatmap"
           }
          ],
          "heatmapgl": [
           {
            "colorbar": {
             "outlinewidth": 0,
             "ticks": ""
            },
            "colorscale": [
             [
              0,
              "#0d0887"
             ],
             [
              0.1111111111111111,
              "#46039f"
             ],
             [
              0.2222222222222222,
              "#7201a8"
             ],
             [
              0.3333333333333333,
              "#9c179e"
             ],
             [
              0.4444444444444444,
              "#bd3786"
             ],
             [
              0.5555555555555556,
              "#d8576b"
             ],
             [
              0.6666666666666666,
              "#ed7953"
             ],
             [
              0.7777777777777778,
              "#fb9f3a"
             ],
             [
              0.8888888888888888,
              "#fdca26"
             ],
             [
              1,
              "#f0f921"
             ]
            ],
            "type": "heatmapgl"
           }
          ],
          "histogram": [
           {
            "marker": {
             "pattern": {
              "fillmode": "overlay",
              "size": 10,
              "solidity": 0.2
             }
            },
            "type": "histogram"
           }
          ],
          "histogram2d": [
           {
            "colorbar": {
             "outlinewidth": 0,
             "ticks": ""
            },
            "colorscale": [
             [
              0,
              "#0d0887"
             ],
             [
              0.1111111111111111,
              "#46039f"
             ],
             [
              0.2222222222222222,
              "#7201a8"
             ],
             [
              0.3333333333333333,
              "#9c179e"
             ],
             [
              0.4444444444444444,
              "#bd3786"
             ],
             [
              0.5555555555555556,
              "#d8576b"
             ],
             [
              0.6666666666666666,
              "#ed7953"
             ],
             [
              0.7777777777777778,
              "#fb9f3a"
             ],
             [
              0.8888888888888888,
              "#fdca26"
             ],
             [
              1,
              "#f0f921"
             ]
            ],
            "type": "histogram2d"
           }
          ],
          "histogram2dcontour": [
           {
            "colorbar": {
             "outlinewidth": 0,
             "ticks": ""
            },
            "colorscale": [
             [
              0,
              "#0d0887"
             ],
             [
              0.1111111111111111,
              "#46039f"
             ],
             [
              0.2222222222222222,
              "#7201a8"
             ],
             [
              0.3333333333333333,
              "#9c179e"
             ],
             [
              0.4444444444444444,
              "#bd3786"
             ],
             [
              0.5555555555555556,
              "#d8576b"
             ],
             [
              0.6666666666666666,
              "#ed7953"
             ],
             [
              0.7777777777777778,
              "#fb9f3a"
             ],
             [
              0.8888888888888888,
              "#fdca26"
             ],
             [
              1,
              "#f0f921"
             ]
            ],
            "type": "histogram2dcontour"
           }
          ],
          "mesh3d": [
           {
            "colorbar": {
             "outlinewidth": 0,
             "ticks": ""
            },
            "type": "mesh3d"
           }
          ],
          "parcoords": [
           {
            "line": {
             "colorbar": {
              "outlinewidth": 0,
              "ticks": ""
             }
            },
            "type": "parcoords"
           }
          ],
          "pie": [
           {
            "automargin": true,
            "type": "pie"
           }
          ],
          "scatter": [
           {
            "fillpattern": {
             "fillmode": "overlay",
             "size": 10,
             "solidity": 0.2
            },
            "type": "scatter"
           }
          ],
          "scatter3d": [
           {
            "line": {
             "colorbar": {
              "outlinewidth": 0,
              "ticks": ""
             }
            },
            "marker": {
             "colorbar": {
              "outlinewidth": 0,
              "ticks": ""
             }
            },
            "type": "scatter3d"
           }
          ],
          "scattercarpet": [
           {
            "marker": {
             "colorbar": {
              "outlinewidth": 0,
              "ticks": ""
             }
            },
            "type": "scattercarpet"
           }
          ],
          "scattergeo": [
           {
            "marker": {
             "colorbar": {
              "outlinewidth": 0,
              "ticks": ""
             }
            },
            "type": "scattergeo"
           }
          ],
          "scattergl": [
           {
            "marker": {
             "colorbar": {
              "outlinewidth": 0,
              "ticks": ""
             }
            },
            "type": "scattergl"
           }
          ],
          "scattermapbox": [
           {
            "marker": {
             "colorbar": {
              "outlinewidth": 0,
              "ticks": ""
             }
            },
            "type": "scattermapbox"
           }
          ],
          "scatterpolar": [
           {
            "marker": {
             "colorbar": {
              "outlinewidth": 0,
              "ticks": ""
             }
            },
            "type": "scatterpolar"
           }
          ],
          "scatterpolargl": [
           {
            "marker": {
             "colorbar": {
              "outlinewidth": 0,
              "ticks": ""
             }
            },
            "type": "scatterpolargl"
           }
          ],
          "scatterternary": [
           {
            "marker": {
             "colorbar": {
              "outlinewidth": 0,
              "ticks": ""
             }
            },
            "type": "scatterternary"
           }
          ],
          "surface": [
           {
            "colorbar": {
             "outlinewidth": 0,
             "ticks": ""
            },
            "colorscale": [
             [
              0,
              "#0d0887"
             ],
             [
              0.1111111111111111,
              "#46039f"
             ],
             [
              0.2222222222222222,
              "#7201a8"
             ],
             [
              0.3333333333333333,
              "#9c179e"
             ],
             [
              0.4444444444444444,
              "#bd3786"
             ],
             [
              0.5555555555555556,
              "#d8576b"
             ],
             [
              0.6666666666666666,
              "#ed7953"
             ],
             [
              0.7777777777777778,
              "#fb9f3a"
             ],
             [
              0.8888888888888888,
              "#fdca26"
             ],
             [
              1,
              "#f0f921"
             ]
            ],
            "type": "surface"
           }
          ],
          "table": [
           {
            "cells": {
             "fill": {
              "color": "#EBF0F8"
             },
             "line": {
              "color": "white"
             }
            },
            "header": {
             "fill": {
              "color": "#C8D4E3"
             },
             "line": {
              "color": "white"
             }
            },
            "type": "table"
           }
          ]
         },
         "layout": {
          "annotationdefaults": {
           "arrowcolor": "#2a3f5f",
           "arrowhead": 0,
           "arrowwidth": 1
          },
          "autotypenumbers": "strict",
          "coloraxis": {
           "colorbar": {
            "outlinewidth": 0,
            "ticks": ""
           }
          },
          "colorscale": {
           "diverging": [
            [
             0,
             "#8e0152"
            ],
            [
             0.1,
             "#c51b7d"
            ],
            [
             0.2,
             "#de77ae"
            ],
            [
             0.3,
             "#f1b6da"
            ],
            [
             0.4,
             "#fde0ef"
            ],
            [
             0.5,
             "#f7f7f7"
            ],
            [
             0.6,
             "#e6f5d0"
            ],
            [
             0.7,
             "#b8e186"
            ],
            [
             0.8,
             "#7fbc41"
            ],
            [
             0.9,
             "#4d9221"
            ],
            [
             1,
             "#276419"
            ]
           ],
           "sequential": [
            [
             0,
             "#0d0887"
            ],
            [
             0.1111111111111111,
             "#46039f"
            ],
            [
             0.2222222222222222,
             "#7201a8"
            ],
            [
             0.3333333333333333,
             "#9c179e"
            ],
            [
             0.4444444444444444,
             "#bd3786"
            ],
            [
             0.5555555555555556,
             "#d8576b"
            ],
            [
             0.6666666666666666,
             "#ed7953"
            ],
            [
             0.7777777777777778,
             "#fb9f3a"
            ],
            [
             0.8888888888888888,
             "#fdca26"
            ],
            [
             1,
             "#f0f921"
            ]
           ],
           "sequentialminus": [
            [
             0,
             "#0d0887"
            ],
            [
             0.1111111111111111,
             "#46039f"
            ],
            [
             0.2222222222222222,
             "#7201a8"
            ],
            [
             0.3333333333333333,
             "#9c179e"
            ],
            [
             0.4444444444444444,
             "#bd3786"
            ],
            [
             0.5555555555555556,
             "#d8576b"
            ],
            [
             0.6666666666666666,
             "#ed7953"
            ],
            [
             0.7777777777777778,
             "#fb9f3a"
            ],
            [
             0.8888888888888888,
             "#fdca26"
            ],
            [
             1,
             "#f0f921"
            ]
           ]
          },
          "colorway": [
           "#636efa",
           "#EF553B",
           "#00cc96",
           "#ab63fa",
           "#FFA15A",
           "#19d3f3",
           "#FF6692",
           "#B6E880",
           "#FF97FF",
           "#FECB52"
          ],
          "font": {
           "color": "#2a3f5f"
          },
          "geo": {
           "bgcolor": "white",
           "lakecolor": "white",
           "landcolor": "#E5ECF6",
           "showlakes": true,
           "showland": true,
           "subunitcolor": "white"
          },
          "hoverlabel": {
           "align": "left"
          },
          "hovermode": "closest",
          "mapbox": {
           "style": "light"
          },
          "paper_bgcolor": "white",
          "plot_bgcolor": "#E5ECF6",
          "polar": {
           "angularaxis": {
            "gridcolor": "white",
            "linecolor": "white",
            "ticks": ""
           },
           "bgcolor": "#E5ECF6",
           "radialaxis": {
            "gridcolor": "white",
            "linecolor": "white",
            "ticks": ""
           }
          },
          "scene": {
           "xaxis": {
            "backgroundcolor": "#E5ECF6",
            "gridcolor": "white",
            "gridwidth": 2,
            "linecolor": "white",
            "showbackground": true,
            "ticks": "",
            "zerolinecolor": "white"
           },
           "yaxis": {
            "backgroundcolor": "#E5ECF6",
            "gridcolor": "white",
            "gridwidth": 2,
            "linecolor": "white",
            "showbackground": true,
            "ticks": "",
            "zerolinecolor": "white"
           },
           "zaxis": {
            "backgroundcolor": "#E5ECF6",
            "gridcolor": "white",
            "gridwidth": 2,
            "linecolor": "white",
            "showbackground": true,
            "ticks": "",
            "zerolinecolor": "white"
           }
          },
          "shapedefaults": {
           "line": {
            "color": "#2a3f5f"
           }
          },
          "ternary": {
           "aaxis": {
            "gridcolor": "white",
            "linecolor": "white",
            "ticks": ""
           },
           "baxis": {
            "gridcolor": "white",
            "linecolor": "white",
            "ticks": ""
           },
           "bgcolor": "#E5ECF6",
           "caxis": {
            "gridcolor": "white",
            "linecolor": "white",
            "ticks": ""
           }
          },
          "title": {
           "x": 0.05
          },
          "xaxis": {
           "automargin": true,
           "gridcolor": "white",
           "linecolor": "white",
           "ticks": "",
           "title": {
            "standoff": 15
           },
           "zerolinecolor": "white",
           "zerolinewidth": 2
          },
          "yaxis": {
           "automargin": true,
           "gridcolor": "white",
           "linecolor": "white",
           "ticks": "",
           "title": {
            "standoff": 15
           },
           "zerolinecolor": "white",
           "zerolinewidth": 2
          }
         }
        },
        "title": {
         "text": "Heatmap with Multiple Rectangles around Values Greater Than 8"
        },
        "width": 2610,
        "xaxis": {
         "autorange": true,
         "range": [
          -0.5,
          62.52630480167014
         ],
         "title": {
          "text": "Metrics"
         },
         "type": "category"
        },
        "yaxis": {
         "autorange": true,
         "range": [
          4.527777777777778,
          -0.5
         ],
         "title": {
          "text": "Rows"
         },
         "type": "category"
        }
       }
      },
      "image/png": "[encoded data removed]",
      "text/html": [
       "<div>                            <div id=\"59768d13-3a1c-4d3e-a5fb-2562ee44b501\" class=\"plotly-graph-div\" style=\"height:400px; width:2610px;\"></div>            <script type=\"text/javascript\">                require([\"plotly\"], function(Plotly) {                    window.PLOTLYENV=window.PLOTLYENV || {};                                    if (document.getElementById(\"59768d13-3a1c-4d3e-a5fb-2562ee44b501\")) {                    Plotly.newPlot(                        \"59768d13-3a1c-4d3e-a5fb-2562ee44b501\",                        [{\"colorbar\":{\"title\":{\"text\":\"Value\"}},\"text\":[[0.16,0.72,0.4,0.28,0.18,0.59,0.35,0.34,0.19,0.06,0.26,0.58,0.45,0.38,0.06,0.2,0.64,0.07,0.27,0.49,0.72,0.26,0.73,0.19,0.72,0.12,-0.05,0.26,0.93,0.36,0.52,0.56,0.17,0.49,-0.05,0.13,0.5,0.35,0.33,0.16,0.24,0.18,0.72,0.14,0.49,0.6,0.18,0.6,0.17,0.32,0.42,0.39,0.71,0.19,0.22,0.45,0.23,0.26,0.28,0.21,0.28,0.05,0.71],[0.0,0.7,0.22,0.33,0.16,0.38,0.17,0.17,0.15,0.08,0.22,0.59,0.32,0.17,0.0,0.0,0.64,0.12,0.2,0.28,0.57,0.25,0.36,0.0,0.43,0.23,0.0,0.22,0.75,0.25,0.43,0.67,0.31,0.29,0.0,0.21,0.55,0.14,0.18,0.26,0.23,0.0,0.53,0.0,0.0,0.26,0.31,0.34,0.0,0.09,0.22,0.18,0.53,0.11,0.0,0.0,0.34,0.33,0.15,0.0,0.3,0.2,0.38],[0.21,0.62,0.36,0.07,0.17,0.49,0.42,0.31,0.21,0.07,0.32,0.34,0.29,0.29,0.13,0.18,0.57,0.18,0.14,0.23,0.4,0.32,0.55,0.26,0.41,0.19,0.0,0.31,0.9,0.28,0.72,0.61,0.15,0.38,-0.04,0.28,0.51,0.3,0.34,0.18,0.14,0.37,0.54,0.41,0.21,0.35,0.14,0.36,0.06,0.15,0.26,0.33,0.54,0.13,0.21,0.27,0.18,0.05,0.33,0.19,0.39,0.2,0.62],[0.31,0.78,0.32,0.39,0.14,0.37,0.34,0.18,0.35,0.1,0.28,0.66,0.42,0.25,0.0,0.23,0.67,0.1,0.28,0.38,0.32,0.28,0.73,0.29,0.52,0.3,0.0,0.22,0.93,0.27,0.22,0.68,0.32,0.38,0.0,0.0,0.61,0.0,0.37,0.32,0.25,0.0,0.68,0.0,0.25,0.28,0.42,0.66,0.0,0.25,0.32,0.33,0.7,0.0,0.0,0.0,0.36,0.32,0.29,0.25,0.23,0.3,0.74],[0.27,0.67,0.26,0.53,0.21,0.39,0.38,0.3,0.37,0.13,0.33,0.71,0.77,0.29,0.22,0.27,0.47,0.2,0.68,0.43,0.61,0.33,0.72,0.32,0.61,0.4,0.5,0.25,0.94,0.23,0.7,0.59,0.42,0.5,0.19,0.15,0.56,0.4,0.34,0.39,0.32,0.4,0.48,0.24,0.69,0.39,0.32,0.59,0.01,0.49,0.21,0.26,0.5,0.19,0.27,0.45,0.22,0.24,0.36,0.16,0.34,0.32,0.76]],\"textfont\":{\"color\":\"black\"},\"texttemplate\":\"%{text}\",\"x\":[\"JieZ_2017\",\"WampachL_2018\",\"CosteaPI_2017\",\"LokmerA_2019\",\"VatanenT_2016\",\"DeFilippisF_2019\",\"RubelMA_2020\",\"BritoIL_2016\",\"FengQ_2015\",\"ShaoY_2019\",\"YachidaS_2019\",\"OhJ_2014\",\"ChuDM_2017\",\"ZellerG_2014\",\"QinJ_2012\",\"LifeLinesDeep_2016\",\"BrooksB_2017\",\"QinJ_2012_2\",\"Obregon-TitoAJ_2015\",\"TettAJ_2016\",\"RaymondF_2016\",\"NielsenHB_2014\",\"HansenLBS_2018\",\"JieZ_2017_2\",\"RampelliS_2015\",\"DhakanDB_2019\",\"ThomasAM_2018a\",\"BackhedF_2015\",\"HMP_2019_t2d\",\"HMP_2012\",\"SmitsSA_2017\",\"BrooksB_2017_2\",\"GuptaA_2019\",\"ThomasAM_2018b\",\"YuJ_2015\",\"BackhedF_2015_2\",\"KosticAD_2015\",\"LeChatelierE_2013\",\"SchirmerM_2016\",\"ThomasAM_2019_c\",\"LiJ_2014\",\"WirbelJ_2018\",\"HMP_2019_ibdmdb\",\"ChengpingW_2017\",\"VincentC_2016\",\"LokmerA_2019_2\",\"ZhuF_2020\",\"ChngKR_2016\",\"VilaAV_2018\",\"KeohaneDM_2020\",\"RubelMA_2020_2\",\"CosteaPI_2017_2\",\"HMP_2019_ibdmdb_2\",\"ChengpingW_2017_2\",\"QinN_2014\",\"HanniganGD_2017\",\"PehrssonE_2016\",\"PehrssonE_2016_2\",\"YachidaS_2019_2\",\"ZeeviD_2015\",\"PasolliE_2019\",\"LeeKA_2022\",\"HansenLBS_2018_2\"],\"y\":[\"LRC\",\"DTC\",\"SVC\",\"RFC\",\"HDC\"],\"z\":[[0.16,0.72,0.4,0.28,0.18,0.59,0.35,0.34,0.19,0.06,0.26,0.58,0.45,0.38,0.06,0.2,0.64,0.07,0.27,0.49,0.72,0.26,0.73,0.19,0.72,0.12,-0.05,0.26,0.93,0.36,0.52,0.56,0.17,0.49,-0.05,0.13,0.5,0.35,0.33,0.16,0.24,0.18,0.72,0.14,0.49,0.6,0.18,0.6,0.17,0.32,0.42,0.39,0.71,0.19,0.22,0.45,0.23,0.26,0.28,0.21,0.28,0.05,0.71],[0.0,0.7,0.22,0.33,0.16,0.38,0.17,0.17,0.15,0.08,0.22,0.59,0.32,0.17,0.0,0.0,0.64,0.12,0.2,0.28,0.57,0.25,0.36,0.0,0.43,0.23,0.0,0.22,0.75,0.25,0.43,0.67,0.31,0.29,0.0,0.21,0.55,0.14,0.18,0.26,0.23,0.0,0.53,0.0,0.0,0.26,0.31,0.34,0.0,0.09,0.22,0.18,0.53,0.11,0.0,0.0,0.34,0.33,0.15,0.0,0.3,0.2,0.38],[0.21,0.62,0.36,0.07,0.17,0.49,0.42,0.31,0.21,0.07,0.32,0.34,0.29,0.29,0.13,0.18,0.57,0.18,0.14,0.23,0.4,0.32,0.55,0.26,0.41,0.19,0.0,0.31,0.9,0.28,0.72,0.61,0.15,0.38,-0.04,0.28,0.51,0.3,0.34,0.18,0.14,0.37,0.54,0.41,0.21,0.35,0.14,0.36,0.06,0.15,0.26,0.33,0.54,0.13,0.21,0.27,0.18,0.05,0.33,0.19,0.39,0.2,0.62],[0.31,0.78,0.32,0.39,0.14,0.37,0.34,0.18,0.35,0.1,0.28,0.66,0.42,0.25,0.0,0.23,0.67,0.1,0.28,0.38,0.32,0.28,0.73,0.29,0.52,0.3,0.0,0.22,0.93,0.27,0.22,0.68,0.32,0.38,0.0,0.0,0.61,0.0,0.37,0.32,0.25,0.0,0.68,0.0,0.25,0.28,0.42,0.66,0.0,0.25,0.32,0.33,0.7,0.0,0.0,0.0,0.36,0.32,0.29,0.25,0.23,0.3,0.74],[0.27,0.67,0.26,0.53,0.21,0.39,0.38,0.3,0.37,0.13,0.33,0.71,0.77,0.29,0.22,0.27,0.47,0.2,0.68,0.43,0.61,0.33,0.72,0.32,0.61,0.4,0.5,0.25,0.94,0.23,0.7,0.59,0.42,0.5,0.19,0.15,0.56,0.4,0.34,0.39,0.32,0.4,0.48,0.24,0.69,0.39,0.32,0.59,0.01,0.49,0.21,0.26,0.5,0.19,0.27,0.45,0.22,0.24,0.36,0.16,0.34,0.32,0.76]],\"type\":\"heatmap\"}],                        {\"template\":{\"data\":{\"histogram2dcontour\":[{\"type\":\"histogram2dcontour\",\"colorbar\":{\"outlinewidth\":0,\"ticks\":\"\"},\"colorscale\":[[0.0,\"#0d0887\"],[0.1111111111111111,\"#46039f\"],[0.2222222222222222,\"#7201a8\"],[0.3333333333333333,\"#9c179e\"],[0.4444444444444444,\"#bd3786\"],[0.5555555555555556,\"#d8576b\"],[0.6666666666666666,\"#ed7953\"],[0.7777777777777778,\"#fb9f3a\"],[0.8888888888888888,\"#fdca26\"],[1.0,\"#f0f921\"]]}],\"choropleth\":[{\"type\":\"choropleth\",\"colorbar\":{\"outlinewidth\":0,\"ticks\":\"\"}}],\"histogram2d\":[{\"type\":\"histogram2d\",\"colorbar\":{\"outlinewidth\":0,\"ticks\":\"\"},\"colorscale\":[[0.0,\"#0d0887\"],[0.1111111111111111,\"#46039f\"],[0.2222222222222222,\"#7201a8\"],[0.3333333333333333,\"#9c179e\"],[0.4444444444444444,\"#bd3786\"],[0.5555555555555556,\"#d8576b\"],[0.6666666666666666,\"#ed7953\"],[0.7777777777777778,\"#fb9f3a\"],[0.8888888888888888,\"#fdca26\"],[1.0,\"#f0f921\"]]}],\"heatmap\":[{\"type\":\"heatmap\",\"colorbar\":{\"outlinewidth\":0,\"ticks\":\"\"},\"colorscale\":[[0.0,\"#0d0887\"],[0.1111111111111111,\"#46039f\"],[0.2222222222222222,\"#7201a8\"],[0.3333333333333333,\"#9c179e\"],[0.4444444444444444,\"#bd3786\"],[0.5555555555555556,\"#d8576b\"],[0.6666666666666666,\"#ed7953\"],[0.7777777777777778,\"#fb9f3a\"],[0.8888888888888888,\"#fdca26\"],[1.0,\"#f0f921\"]]}],\"heatmapgl\":[{\"type\":\"heatmapgl\",\"colorbar\":{\"outlinewidth\":0,\"ticks\":\"\"},\"colorscale\":[[0.0,\"#0d0887\"],[0.1111111111111111,\"#46039f\"],[0.2222222222222222,\"#7201a8\"],[0.3333333333333333,\"#9c179e\"],[0.4444444444444444,\"#bd3786\"],[0.5555555555555556,\"#d8576b\"],[0.6666666666666666,\"#ed7953\"],[0.7777777777777778,\"#fb9f3a\"],[0.8888888888888888,\"#fdca26\"],[1.0,\"#f0f921\"]]}],\"contourcarpet\":[{\"type\":\"contourcarpet\",\"colorbar\":{\"outlinewidth\":0,\"ticks\":\"\"}}],\"contour\":[{\"type\":\"contour\",\"colorbar\":{\"outlinewidth\":0,\"ticks\":\"\"},\"colorscale\":[[0.0,\"#0d0887\"],[0.1111111111111111,\"#46039f\"],[0.2222222222222222,\"#7201a8\"],[0.3333333333333333,\"#9c179e\"],[0.4444444444444444,\"#bd3786\"],[0.5555555555555556,\"#d8576b\"],[0.6666666666666666,\"#ed7953\"],[0.7777777777777778,\"#fb9f3a\"],[0.8888888888888888,\"#fdca26\"],[1.0,\"#f0f921\"]]}],\"surface\":[{\"type\":\"surface\",\"colorbar\":{\"outlinewidth\":0,\"ticks\":\"\"},\"colorscale\":[[0.0,\"#0d0887\"],[0.1111111111111111,\"#46039f\"],[0.2222222222222222,\"#7201a8\"],[0.3333333333333333,\"#9c179e\"],[0.4444444444444444,\"#bd3786\"],[0.5555555555555556,\"#d8576b\"],[0.6666666666666666,\"#ed7953\"],[0.7777777777777778,\"#fb9f3a\"],[0.8888888888888888,\"#fdca26\"],[1.0,\"#f0f921\"]]}],\"mesh3d\":[{\"type\":\"mesh3d\",\"colorbar\":{\"outlinewidth\":0,\"ticks\":\"\"}}],\"scatter\":[{\"fillpattern\":{\"fillmode\":\"overlay\",\"size\":10,\"solidity\":0.2},\"type\":\"scatter\"}],\"parcoords\":[{\"type\":\"parcoords\",\"line\":{\"colorbar\":{\"outlinewidth\":0,\"ticks\":\"\"}}}],\"scatterpolargl\":[{\"type\":\"scatterpolargl\",\"marker\":{\"colorbar\":{\"outlinewidth\":0,\"ticks\":\"\"}}}],\"bar\":[{\"error_x\":{\"color\":\"#2a3f5f\"},\"error_y\":{\"color\":\"#2a3f5f\"},\"marker\":{\"line\":{\"color\":\"#E5ECF6\",\"width\":0.5},\"pattern\":{\"fillmode\":\"overlay\",\"size\":10,\"solidity\":0.2}},\"type\":\"bar\"}],\"scattergeo\":[{\"type\":\"scattergeo\",\"marker\":{\"colorbar\":{\"outlinewidth\":0,\"ticks\":\"\"}}}],\"scatterpolar\":[{\"type\":\"scatterpolar\",\"marker\":{\"colorbar\":{\"outlinewidth\":0,\"ticks\":\"\"}}}],\"histogram\":[{\"marker\":{\"pattern\":{\"fillmode\":\"overlay\",\"size\":10,\"solidity\":0.2}},\"type\":\"histogram\"}],\"scattergl\":[{\"type\":\"scattergl\",\"marker\":{\"colorbar\":{\"outlinewidth\":0,\"ticks\":\"\"}}}],\"scatter3d\":[{\"type\":\"scatter3d\",\"line\":{\"colorbar\":{\"outlinewidth\":0,\"ticks\":\"\"}},\"marker\":{\"colorbar\":{\"outlinewidth\":0,\"ticks\":\"\"}}}],\"scattermapbox\":[{\"type\":\"scattermapbox\",\"marker\":{\"colorbar\":{\"outlinewidth\":0,\"ticks\":\"\"}}}],\"scatterternary\":[{\"type\":\"scatterternary\",\"marker\":{\"colorbar\":{\"outlinewidth\":0,\"ticks\":\"\"}}}],\"scattercarpet\":[{\"type\":\"scattercarpet\",\"marker\":{\"colorbar\":{\"outlinewidth\":0,\"ticks\":\"\"}}}],\"carpet\":[{\"aaxis\":{\"endlinecolor\":\"#2a3f5f\",\"gridcolor\":\"white\",\"linecolor\":\"white\",\"minorgridcolor\":\"white\",\"startlinecolor\":\"#2a3f5f\"},\"baxis\":{\"endlinecolor\":\"#2a3f5f\",\"gridcolor\":\"white\",\"linecolor\":\"white\",\"minorgridcolor\":\"white\",\"startlinecolor\":\"#2a3f5f\"},\"type\":\"carpet\"}],\"table\":[{\"cells\":{\"fill\":{\"color\":\"#EBF0F8\"},\"line\":{\"color\":\"white\"}},\"header\":{\"fill\":{\"color\":\"#C8D4E3\"},\"line\":{\"color\":\"white\"}},\"type\":\"table\"}],\"barpolar\":[{\"marker\":{\"line\":{\"color\":\"#E5ECF6\",\"width\":0.5},\"pattern\":{\"fillmode\":\"overlay\",\"size\":10,\"solidity\":0.2}},\"type\":\"barpolar\"}],\"pie\":[{\"automargin\":true,\"type\":\"pie\"}]},\"layout\":{\"autotypenumbers\":\"strict\",\"colorway\":[\"#636efa\",\"#EF553B\",\"#00cc96\",\"#ab63fa\",\"#FFA15A\",\"#19d3f3\",\"#FF6692\",\"#B6E880\",\"#FF97FF\",\"#FECB52\"],\"font\":{\"color\":\"#2a3f5f\"},\"hovermode\":\"closest\",\"hoverlabel\":{\"align\":\"left\"},\"paper_bgcolor\":\"white\",\"plot_bgcolor\":\"#E5ECF6\",\"polar\":{\"bgcolor\":\"#E5ECF6\",\"angularaxis\":{\"gridcolor\":\"white\",\"linecolor\":\"white\",\"ticks\":\"\"},\"radialaxis\":{\"gridcolor\":\"white\",\"linecolor\":\"white\",\"ticks\":\"\"}},\"ternary\":{\"bgcolor\":\"#E5ECF6\",\"aaxis\":{\"gridcolor\":\"white\",\"linecolor\":\"white\",\"ticks\":\"\"},\"baxis\":{\"gridcolor\":\"white\",\"linecolor\":\"white\",\"ticks\":\"\"},\"caxis\":{\"gridcolor\":\"white\",\"linecolor\":\"white\",\"ticks\":\"\"}},\"coloraxis\":{\"colorbar\":{\"outlinewidth\":0,\"ticks\":\"\"}},\"colorscale\":{\"sequential\":[[0.0,\"#0d0887\"],[0.1111111111111111,\"#46039f\"],[0.2222222222222222,\"#7201a8\"],[0.3333333333333333,\"#9c179e\"],[0.4444444444444444,\"#bd3786\"],[0.5555555555555556,\"#d8576b\"],[0.6666666666666666,\"#ed7953\"],[0.7777777777777778,\"#fb9f3a\"],[0.8888888888888888,\"#fdca26\"],[1.0,\"#f0f921\"]],\"sequentialminus\":[[0.0,\"#0d0887\"],[0.1111111111111111,\"#46039f\"],[0.2222222222222222,\"#7201a8\"],[0.3333333333333333,\"#9c179e\"],[0.4444444444444444,\"#bd3786\"],[0.5555555555555556,\"#d8576b\"],[0.6666666666666666,\"#ed7953\"],[0.7777777777777778,\"#fb9f3a\"],[0.8888888888888888,\"#fdca26\"],[1.0,\"#f0f921\"]],\"diverging\":[[0,\"#8e0152\"],[0.1,\"#c51b7d\"],[0.2,\"#de77ae\"],[0.3,\"#f1b6da\"],[0.4,\"#fde0ef\"],[0.5,\"#f7f7f7\"],[0.6,\"#e6f5d0\"],[0.7,\"#b8e186\"],[0.8,\"#7fbc41\"],[0.9,\"#4d9221\"],[1,\"#276419\"]]},\"xaxis\":{\"gridcolor\":\"white\",\"linecolor\":\"white\",\"ticks\":\"\",\"title\":{\"standoff\":15},\"zerolinecolor\":\"white\",\"automargin\":true,\"zerolinewidth\":2},\"yaxis\":{\"gridcolor\":\"white\",\"linecolor\":\"white\",\"ticks\":\"\",\"title\":{\"standoff\":15},\"zerolinecolor\":\"white\",\"automargin\":true,\"zerolinewidth\":2},\"scene\":{\"xaxis\":{\"backgroundcolor\":\"#E5ECF6\",\"gridcolor\":\"white\",\"linecolor\":\"white\",\"showbackground\":true,\"ticks\":\"\",\"zerolinecolor\":\"white\",\"gridwidth\":2},\"yaxis\":{\"backgroundcolor\":\"#E5ECF6\",\"gridcolor\":\"white\",\"linecolor\":\"white\",\"showbackground\":true,\"ticks\":\"\",\"zerolinecolor\":\"white\",\"gridwidth\":2},\"zaxis\":{\"backgroundcolor\":\"#E5ECF6\",\"gridcolor\":\"white\",\"linecolor\":\"white\",\"showbackground\":true,\"ticks\":\"\",\"zerolinecolor\":\"white\",\"gridwidth\":2}},\"shapedefaults\":{\"line\":{\"color\":\"#2a3f5f\"}},\"annotationdefaults\":{\"arrowcolor\":\"#2a3f5f\",\"arrowhead\":0,\"arrowwidth\":1},\"geo\":{\"bgcolor\":\"white\",\"landcolor\":\"#E5ECF6\",\"subunitcolor\":\"white\",\"showland\":true,\"showlakes\":true,\"lakecolor\":\"white\"},\"title\":{\"x\":0.05},\"mapbox\":{\"style\":\"light\"}}},\"yaxis\":{\"title\":{\"text\":\"Rows\"},\"autorange\":\"reversed\"},\"width\":2610,\"height\":400,\"shapes\":[{\"fillcolor\":\"rgba(255, 255, 255, 0)\",\"line\":{\"color\":\"red\",\"width\":2},\"type\":\"rect\",\"x0\":2.5,\"x1\":3.5,\"y0\":3.5,\"y1\":4.5},{\"fillcolor\":\"rgba(255, 255, 255, 0)\",\"line\":{\"color\":\"red\",\"width\":2},\"type\":\"rect\",\"x0\":3.5,\"x1\":4.5,\"y0\":3.5,\"y1\":4.5},{\"fillcolor\":\"rgba(255, 255, 255, 0)\",\"line\":{\"color\":\"red\",\"width\":2},\"type\":\"rect\",\"x0\":8.5,\"x1\":9.5,\"y0\":3.5,\"y1\":4.5},{\"fillcolor\":\"rgba(255, 255, 255, 0)\",\"line\":{\"color\":\"red\",\"width\":2},\"type\":\"rect\",\"x0\":10.5,\"x1\":11.5,\"y0\":3.5,\"y1\":4.5},{\"fillcolor\":\"rgba(255, 255, 255, 0)\",\"line\":{\"color\":\"red\",\"width\":2},\"type\":\"rect\",\"x0\":11.5,\"x1\":12.5,\"y0\":3.5,\"y1\":4.5},{\"fillcolor\":\"rgba(255, 255, 255, 0)\",\"line\":{\"color\":\"red\",\"width\":2},\"type\":\"rect\",\"x0\":13.5,\"x1\":14.5,\"y0\":3.5,\"y1\":4.5},{\"fillcolor\":\"rgba(255, 255, 255, 0)\",\"line\":{\"color\":\"red\",\"width\":2},\"type\":\"rect\",\"x0\":14.5,\"x1\":15.5,\"y0\":3.5,\"y1\":4.5},{\"fillcolor\":\"rgba(255, 255, 255, 0)\",\"line\":{\"color\":\"red\",\"width\":2},\"type\":\"rect\",\"x0\":16.5,\"x1\":17.5,\"y0\":3.5,\"y1\":4.5},{\"fillcolor\":\"rgba(255, 255, 255, 0)\",\"line\":{\"color\":\"red\",\"width\":2},\"type\":\"rect\",\"x0\":17.5,\"x1\":18.5,\"y0\":3.5,\"y1\":4.5},{\"fillcolor\":\"rgba(255, 255, 255, 0)\",\"line\":{\"color\":\"red\",\"width\":2},\"type\":\"rect\",\"x0\":20.5,\"x1\":21.5,\"y0\":3.5,\"y1\":4.5},{\"fillcolor\":\"rgba(255, 255, 255, 0)\",\"line\":{\"color\":\"red\",\"width\":2},\"type\":\"rect\",\"x0\":22.5,\"x1\":23.5,\"y0\":3.5,\"y1\":4.5},{\"fillcolor\":\"rgba(255, 255, 255, 0)\",\"line\":{\"color\":\"red\",\"width\":2},\"type\":\"rect\",\"x0\":24.5,\"x1\":25.5,\"y0\":3.5,\"y1\":4.5},{\"fillcolor\":\"rgba(255, 255, 255, 0)\",\"line\":{\"color\":\"red\",\"width\":2},\"type\":\"rect\",\"x0\":25.5,\"x1\":26.5,\"y0\":3.5,\"y1\":4.5},{\"fillcolor\":\"rgba(255, 255, 255, 0)\",\"line\":{\"color\":\"red\",\"width\":2},\"type\":\"rect\",\"x0\":31.5,\"x1\":32.5,\"y0\":3.5,\"y1\":4.5},{\"fillcolor\":\"rgba(255, 255, 255, 0)\",\"line\":{\"color\":\"red\",\"width\":2},\"type\":\"rect\",\"x0\":32.5,\"x1\":33.5,\"y0\":3.5,\"y1\":4.5},{\"fillcolor\":\"rgba(255, 255, 255, 0)\",\"line\":{\"color\":\"red\",\"width\":2},\"type\":\"rect\",\"x0\":33.5,\"x1\":34.5,\"y0\":3.5,\"y1\":4.5},{\"fillcolor\":\"rgba(255, 255, 255, 0)\",\"line\":{\"color\":\"red\",\"width\":2},\"type\":\"rect\",\"x0\":36.5,\"x1\":37.5,\"y0\":3.5,\"y1\":4.5},{\"fillcolor\":\"rgba(255, 255, 255, 0)\",\"line\":{\"color\":\"red\",\"width\":2},\"type\":\"rect\",\"x0\":38.5,\"x1\":39.5,\"y0\":3.5,\"y1\":4.5},{\"fillcolor\":\"rgba(255, 255, 255, 0)\",\"line\":{\"color\":\"red\",\"width\":2},\"type\":\"rect\",\"x0\":39.5,\"x1\":40.5,\"y0\":3.5,\"y1\":4.5},{\"fillcolor\":\"rgba(255, 255, 255, 0)\",\"line\":{\"color\":\"red\",\"width\":2},\"type\":\"rect\",\"x0\":40.5,\"x1\":41.5,\"y0\":3.5,\"y1\":4.5},{\"fillcolor\":\"rgba(255, 255, 255, 0)\",\"line\":{\"color\":\"red\",\"width\":2},\"type\":\"rect\",\"x0\":43.5,\"x1\":44.5,\"y0\":3.5,\"y1\":4.5},{\"fillcolor\":\"rgba(255, 255, 255, 0)\",\"line\":{\"color\":\"red\",\"width\":2},\"type\":\"rect\",\"x0\":48.5,\"x1\":49.5,\"y0\":3.5,\"y1\":4.5},{\"fillcolor\":\"rgba(255, 255, 255, 0)\",\"line\":{\"color\":\"red\",\"width\":2},\"type\":\"rect\",\"x0\":53.5,\"x1\":54.5,\"y0\":3.5,\"y1\":4.5},{\"fillcolor\":\"rgba(255, 255, 255, 0)\",\"line\":{\"color\":\"red\",\"width\":2},\"type\":\"rect\",\"x0\":54.5,\"x1\":55.5,\"y0\":3.5,\"y1\":4.5},{\"fillcolor\":\"rgba(255, 255, 255, 0)\",\"line\":{\"color\":\"red\",\"width\":2},\"type\":\"rect\",\"x0\":57.5,\"x1\":58.5,\"y0\":3.5,\"y1\":4.5},{\"fillcolor\":\"rgba(255, 255, 255, 0)\",\"line\":{\"color\":\"red\",\"width\":2},\"type\":\"rect\",\"x0\":59.5,\"x1\":60.5,\"y0\":3.5,\"y1\":4.5},{\"fillcolor\":\"rgba(255, 255, 255, 0)\",\"line\":{\"color\":\"red\",\"width\":2},\"type\":\"rect\",\"x0\":60.5,\"x1\":61.5,\"y0\":3.5,\"y1\":4.5},{\"fillcolor\":\"rgba(255, 255, 255, 0)\",\"line\":{\"color\":\"red\",\"width\":2},\"type\":\"rect\",\"x0\":61.5,\"x1\":62.5,\"y0\":3.5,\"y1\":4.5}],\"title\":{\"text\":\"Heatmap with Multiple Rectangles around Values Greater Than 8\"},\"xaxis\":{\"title\":{\"text\":\"Metrics\"}}},                        {\"responsive\": true}                    ).then(function(){\n",
       "                            \n",
       "var gd = document.getElementById('59768d13-3a1c-4d3e-a5fb-2562ee44b501');\n",
       "var x = new MutationObserver(function (mutations, observer) {{\n",
       "        var display = window.getComputedStyle(gd).display;\n",
       "        if (!display || display === 'none') {{\n",
       "            console.log([gd, 'removed!']);\n",
       "            Plotly.purge(gd);\n",
       "            observer.disconnect();\n",
       "        }}\n",
       "}});\n",
       "\n",
       "// Listen for the removal of the full notebook cells\n",
       "var notebookContainer = gd.closest('#notebook-container');\n",
       "if (notebookContainer) {{\n",
       "    x.observe(notebookContainer, {childList: true});\n",
       "}}\n",
       "\n",
       "// Listen for the clearing of the current output cell\n",
       "var outputEl = gd.closest('.output');\n",
       "if (outputEl) {{\n",
       "    x.observe(outputEl, {childList: true});\n",
       "}}\n",
       "\n",
       "                        })                };                });            </script>        </div>"
      ]
     },
     "metadata": {},
     "output_type": "display_data"
    }
   ],
   "source": [
    "import pandas as pd\n",
    "import plotly.express as px\n",
    "import plotly.graph_objects as go\n",
    "import sys\n",
    "import pandas as pd\n",
    "import numpy as np\n",
    "import sys, os\n",
    "\n",
    "def check_peformance(values, th=0.05):\n",
    "    # print(values)\n",
    "    last_value = values[-1]\n",
    "    # Check if the last value is greater than all other values by at least the threshold\n",
    "    is_significantly_greater = all((last_value - value) >= th for value in values[:-1])\n",
    "\n",
    "    if is_significantly_greater:\n",
    "        return True\n",
    "    else:\n",
    "        return False\n",
    "    \n",
    "def detect_comparable_results(values, thr=0.05):\n",
    "    fifth_value = values[4]  # The fifth value, Python lists are zero-indexed\n",
    "    is_comparable = all(abs(fifth_value - value) <= thr for value in values[:4])\n",
    "\n",
    "    if is_comparable:\n",
    "        return True\n",
    "    else:\n",
    "        return False\n",
    "\n",
    "    \n",
    "def ResultSummary(file):\n",
    "    DF = pd.read_csv(file, sep='\\t')\n",
    "    DF.set_index('name', inplace=True)\n",
    "    df = DF.iloc[[1,6,11,16,21]]\n",
    "\n",
    "    column_anno_per = {}\n",
    "    comparable = {}\n",
    "    for n in df.columns.to_list():\n",
    "        column_anno_per[n] = check_peformance(df[n].values,  th=threshold)\n",
    "        comparable[n] = detect_comparable_results(df[n].values,  thr=threshold)\n",
    "        # print(detect_comparable_results(df[n].values,  thr=threshold))\n",
    "    return column_anno_per, comparable\n",
    "\n",
    "results, result_1 = ResultSummary(input_file)\n",
    "\n",
    "# print(result_1)\n",
    "true_columns = []\n",
    "true_column_comp= []\n",
    "\n",
    "for i, k in enumerate(results.keys()):\n",
    "    if results[k]:  \n",
    "        true_columns.append((i, results[k], k))\n",
    "\n",
    "for i, k in enumerate(result_1.keys()):\n",
    "    if result_1[k]:  \n",
    "        true_column_comp.append((i, result_1[k], k))\n",
    "        \n",
    "# print(true_columns)\n",
    "# print(true_column_comp)\n",
    "\n",
    "DF = pd.read_csv(input_file, sep='\\t')\n",
    "DF.set_index('name', inplace=True)\n",
    "df =  DF.iloc[[4,9,14,19,24]]\n",
    "df.index.name = 'name'\n",
    "# df.columns = ReturnUniqueColumnName(df.columns.to_list())\n",
    "###Fix Duplicate Column Names ############################\n",
    "\n",
    "# colorscale = [[-1.0, 'green'], [0, 'red'], [1.0, 'rgb(0, 0, 255)']]\n",
    "heatmap = go.Heatmap(\n",
    "    z=df.values,\n",
    "    x=df.columns,\n",
    "    # y=df.index,\n",
    "    y=['LRC', 'DTC', 'SVC', 'RFC', 'HDC'],\n",
    "    # colorscale='Viridis',\n",
    "    colorbar=dict(title='Value'),\n",
    "    text=df.values,  # Display values in each cell\n",
    "    texttemplate=\"%{text}\",  # Format for text\n",
    "    textfont=dict(color='black'),  # Ensure text is visible on darker colors\n",
    "    # colorscale=colorscale\n",
    ")\n",
    "\n",
    "shapes = []\n",
    "\n",
    "for i in range(5, len(df), 5):  # Start from the 3rd row and add lines every 2 rows\n",
    "    shapes.append(\n",
    "        go.layout.Shape(\n",
    "            type='line',\n",
    "            x0=-0.5,  # Start from the left edge\n",
    "            x1=len(df.columns) - 0.5,  # End at the right edge\n",
    "            y0=i - 0.5,  # Position for the horizontal line\n",
    "            y1=i - 0.5,\n",
    "            line=dict(color='white', width=2),  # White line with a thickness of 2\n",
    "        )\n",
    "    )\n",
    "\n",
    "# Find all cells with values greater than 8\n",
    "\n",
    "for c in true_columns:\n",
    "    col_idx = c[0]  # Get the index of the column\n",
    "    row_idx = 4    # Get the index of the row\n",
    "    shape = go.layout.Shape(\n",
    "        type='rect',\n",
    "        x0=col_idx - 0.5,\n",
    "        x1=col_idx + 0.5,\n",
    "        y0=row_idx - 0.5,\n",
    "        y1=row_idx + 0.5,\n",
    "        line=dict(color='red', width=2),  # Red border for the rectangle\n",
    "        fillcolor='rgba(255, 255, 255, 0)',  # Transparent fill\n",
    "    )\n",
    "    shapes.append(shape)  # Add this shape to the list of shapes\n",
    "\n",
    "\n",
    "    \n",
    "for t in true_column_comp:\n",
    "    col_idx = t[0]  # Get the index of the column\n",
    "    row_idx = 4    # Get the index of the row\n",
    "    shape1 = go.layout.Shape(\n",
    "        type='rect',\n",
    "        x0=col_idx - 0.5,\n",
    "        x1=col_idx + 0.5,\n",
    "        y0=row_idx - 0.5,\n",
    "        y1=row_idx + 0.5,\n",
    "        line=dict(color='blue', width=2),  # Red border for the rectangle\n",
    "        fillcolor='rgba(255, 255, 255, 0)',  # Transparent fill\n",
    "    )\n",
    "    # print(shape1)\n",
    "    shapes.append(shape1)\n",
    "    \n",
    "# Create the figure and add the heatmap and shapes\n",
    "fig = go.Figure(data=[heatmap])\n",
    "fig.update_layout(\n",
    "    width=2610,  # Adjust based on your needs\n",
    "    height=400,\n",
    "    # autosize=True,\n",
    "    shapes=shapes,  # Add all the shapes (rectangles)\n",
    "    title='Heatmap with Multiple Rectangles around Values Greater Than 8',\n",
    "    xaxis=dict(title='Metrics'),\n",
    "    yaxis=dict(title='Rows'),\n",
    "    yaxis_autorange='reversed',  # Ensures correct orientation\n",
    ")\n",
    "\n",
    "# Display the heatmap with the rectangle\n",
    "fig.show()"
   ]
  },
  {
   "cell_type": "code",
   "execution_count": 121,
   "id": "fb207145-dc0b-45ee-a174-9440da62ebf0",
   "metadata": {
    "tags": []
   },
   "outputs": [
    {
     "data": {
      "text/plain": [
       "'history_of_periodontitis.tsv'"
      ]
     },
     "execution_count": 121,
     "metadata": {},
     "output_type": "execute_result"
    }
   ],
   "source": [
    "fig.write_image(input_file.split('.')[0]+'_ACC.svg', format=\"svg\")\n",
    "input_file"
   ]
  },
  {
   "cell_type": "code",
   "execution_count": 152,
   "id": "31172aed-cf45-4f29-be98-85c1187f9b2a",
   "metadata": {
    "tags": []
   },
   "outputs": [
    {
     "data": {
      "text/plain": [
       "0.06999999999999995"
      ]
     },
     "execution_count": 152,
     "metadata": {},
     "output_type": "execute_result"
    }
   ],
   "source": [
    "0.98-0.91"
   ]
  },
  {
   "cell_type": "code",
   "execution_count": 68,
   "id": "ac768ff5-285a-45c9-8814-477bc4f370d4",
   "metadata": {},
   "outputs": [
    {
     "name": "stdout",
     "output_type": "stream",
     "text": [
      "The fifth value is not greater than or equal to the rest by at least 0.05\n"
     ]
    }
   ],
   "source": [
    "values = [0.91, 0.99, 1.36, 0.91, 1.4]\n",
    "threshold = 0.05\n",
    "\n",
    "fifth_value = values[4]  # The fifth value, Python lists are zero-indexed\n",
    "\n",
    "# Check if the fifth value is greater than or equal to the rest by at least the threshold\n",
    "is_greater_than_rest = all(fifth_value - value > threshold for value in values[:4])\n",
    "\n",
    "if is_greater_than_rest:\n",
    "    print(\"The fifth value is greater than  to the rest by at least\", threshold)\n",
    "else:\n",
    "    print(\"The fifth value is not greater than or equal to the rest by at least\", threshold)\n"
   ]
  },
  {
   "cell_type": "code",
   "execution_count": 458,
   "id": "377fcac0-3107-4df0-a5de-fe230046b419",
   "metadata": {},
   "outputs": [
    {
     "name": "stdout",
     "output_type": "stream",
     "text": [
      "True 0.010000000000000009 -0.010000000000000009\n",
      "False 0.08999999999999997 -0.08999999999999997\n",
      "False 0.12 0.12\n",
      "True 0.010000000000000009 -0.010000000000000009\n"
     ]
    }
   ],
   "source": []
  },
  {
   "cell_type": "code",
   "execution_count": 78,
   "id": "e8213b83-6f7c-4401-8755-d7b2948b5c78",
   "metadata": {},
   "outputs": [],
   "source": [
    "values = [0.91, 0.99, 0.99, 0.91, .99]\n",
    "threshold = 0.05\n",
    "\n",
    "\n"
   ]
  },
  {
   "cell_type": "code",
   "execution_count": 80,
   "id": "502b22d2-62bc-4900-a43b-0cec2d150739",
   "metadata": {},
   "outputs": [
    {
     "name": "stdout",
     "output_type": "stream",
     "text": [
      "0.07999999999999996 0.0 0.0 0.07999999999999996 0.0\n"
     ]
    }
   ],
   "source": [
    "print(.99- 0.91, \n",
    ".99-0.99, \n",
    ".99-0.99, \n",
    ".99-0.91, \n",
    ".99-.99)"
   ]
  },
  {
   "cell_type": "code",
   "execution_count": 468,
   "id": "23550512-dbe1-42aa-b6c3-fdf574c28391",
   "metadata": {},
   "outputs": [],
   "source": [
    "values = [True, False, True]\n",
    "if all(values):\n",
    "    print(\"All elements in\")"
   ]
  },
  {
   "cell_type": "code",
   "execution_count": null,
   "id": "7666ab0d-d2ff-4b27-a5c5-9f072b777d3b",
   "metadata": {},
   "outputs": [],
   "source": []
  },
  {
   "cell_type": "code",
   "execution_count": 7,
   "id": "c7af5654-fcd9-471b-9096-b87198d7586c",
   "metadata": {},
   "outputs": [],
   "source": [
    "# values = [0.91, 0.99, 0.78, 0.91, 1.0]\n",
    "# threshold = 0.05\n",
    "\n",
    "# value_list = []\n",
    "# small = []\n",
    "# big = []\n",
    "\n",
    "# for v in values[0:4]:\n",
    "#     value_list.append(abs(values[4]-v) > threshold )\n",
    "#     small.append(values[4]-v < 0)\n",
    "#     big.append(values[4]-v > 0)\n",
    "    \n",
    "\n",
    "# print(value_list)\n",
    "# all(value_list)\n",
    "\n",
    "# print(small)\n",
    "# print(big)"
   ]
  },
  {
   "cell_type": "code",
   "execution_count": 63,
   "id": "5ece0dd4-6cc0-4a3b-bce0-9a162371c1b0",
   "metadata": {},
   "outputs": [
    {
     "name": "stdout",
     "output_type": "stream",
     "text": [
      "# -0.71\n",
      "# -0.79\n",
      "$ 0.1\n",
      "# -0.71\n",
      "OK\n",
      "True lesser then thr\n"
     ]
    }
   ],
   "source": [
    "values = [0.91, 0.99, 0.1, 0.91, .20]\n",
    "threshold = 0.03\n",
    "\n",
    "hdc = values[4]\n",
    "\n",
    "small = []\n",
    "big = []\n",
    "\n",
    "calc = []\n",
    "for v in values[0:4]:\n",
    "    if hdc-v < 0:\n",
    "        small.append(True)\n",
    "        big.append(False)\n",
    "        print('#', hdc-v)\n",
    "        calc.append(abs(hdc-v))\n",
    "    else:\n",
    "        print('$', hdc-v )\n",
    "        small.append(False)\n",
    "        big.append(True)\n",
    "        calc.append(abs(hdc-v))\n",
    "\n",
    "if(small):\n",
    "    print(\"OK\")\n",
    "    if all(threshold < c  for c in calc):\n",
    "        print(\"True lesser then thr\")\n",
    "elif big:\n",
    "    if all(threshold < c  for c in calc):\n",
    "        print(\"True bigger then thr\")\n",
    "    \n"
   ]
  },
  {
   "cell_type": "code",
   "execution_count": 59,
   "id": "d324bdb4-9625-4bd4-87eb-a4f3111c5eb6",
   "metadata": {
    "tags": []
   },
   "outputs": [
    {
     "name": "stdout",
     "output_type": "stream",
     "text": [
      "False\n",
      "False\n",
      "[0.71, 0.79, 0.1, 0.71]\n"
     ]
    }
   ],
   "source": [
    "print(all(small))\n",
    "print(all(big))\n",
    "print(calc)"
   ]
  },
  {
   "cell_type": "code",
   "execution_count": 62,
   "id": "c025571f-f668-4517-86f3-c52d5d8fc738",
   "metadata": {
    "tags": []
   },
   "outputs": [
    {
     "name": "stdout",
     "output_type": "stream",
     "text": [
      "True\n",
      "True\n",
      "True\n",
      "True\n"
     ]
    }
   ],
   "source": [
    "print(0.71 > 0.03)\n",
    "print(0.79 > 0.03)\n",
    "print(0.1 > 0.03)\n",
    "print(0.71 > 0.03)"
   ]
  },
  {
   "cell_type": "code",
   "execution_count": 65,
   "id": "8e10eaa7-5399-44df-92d2-361a8f935dba",
   "metadata": {
    "tags": []
   },
   "outputs": [],
   "source": [
    "values = [0.95, 0.99, 1.0, 0.97, .94]\n",
    "threshold = 0.03\n",
    "hdc = values[4]\n",
    "\n",
    "small = []\n",
    "big = []\n",
    "calc = []\n",
    "\n",
    "# for v in values[0:4]:\n",
    "#     if hdc-v < 0:\n",
    "#         small.append(True)\n",
    "#         big.append(False)\n",
    "#         print('#', hdc-v)\n",
    "#         calc.append(abs(hdc-v))\n",
    "#     else:\n",
    "#         print('$', hdc-v )\n",
    "#         small.append(False)\n",
    "#         big.append(True)\n",
    "#         calc.append(abs(hdc-v))\n",
    "\n",
    "# if(small):\n",
    "#     print(\"OK\")\n",
    "#     if all(threshold < c  for c in calc):\n",
    "#         print(\"True lesser then thr\")\n",
    "# elif big:\n",
    "#     if all(threshold < c  for c in calc):\n",
    "#         print(\"True bigger then thr\")\n",
    "    \n"
   ]
  },
  {
   "cell_type": "code",
   "execution_count": 70,
   "id": "714507a4-19a9-4f06-9b39-23f590e37a5c",
   "metadata": {
    "tags": []
   },
   "outputs": [
    {
     "data": {
      "text/plain": [
       "5.5"
      ]
     },
     "execution_count": 70,
     "metadata": {},
     "output_type": "execute_result"
    }
   ],
   "source": [
    "abs(0.5 - 6)"
   ]
  },
  {
   "cell_type": "code",
   "execution_count": null,
   "id": "f7ad669e-5285-44c8-8cd1-e9384624a150",
   "metadata": {},
   "outputs": [],
   "source": []
  }
 ],
 "metadata": {
  "kernelspec": {
   "display_name": "Python 3 (ipykernel)",
   "language": "python",
   "name": "python3"
  },
  "language_info": {
   "codemirror_mode": {
    "name": "ipython",
    "version": 3
   },
   "file_extension": ".py",
   "mimetype": "text/x-python",
   "name": "python",
   "nbconvert_exporter": "python",
   "pygments_lexer": "ipython3",
   "version": "3.9.18"
  },
  "widgets": {
   "application/vnd.jupyter.widget-state+json": {
    "state": {},
    "version_major": 2,
    "version_minor": 0
   }
  }
 },
 "nbformat": 4,
 "nbformat_minor": 5
}
