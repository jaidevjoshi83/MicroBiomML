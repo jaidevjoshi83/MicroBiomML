{
 "cells": [
  {
   "cell_type": "code",
   "execution_count": 162,
   "id": "94ab086b-7330-4f6c-8106-b14ac3ef375b",
   "metadata": {
    "tags": []
   },
   "outputs": [
    {
     "name": "stdout",
     "output_type": "stream",
     "text": [
      "born_method.tsv\n",
      "history_of_periodontitis.tsv\n",
      "disease_subtype.tsv\n",
      "study_condition.tsv\n",
      "ORR.tsv\n",
      "ever_smoker.tsv\n",
      "PFS12.tsv\n",
      "birth_order.tsv\n",
      "country.tsv\n",
      "feeding_practice.tsv\n",
      "non_westernized.tsv\n",
      "alcohol.tsv\n",
      "shigatoxin_2_elisa.tsv\n",
      "age_category.tsv\n",
      "family_role.tsv\n",
      "anti_PD_1.tsv\n",
      "location.tsv\n",
      "remission.tsv\n",
      "uncurated_metadata.tsv\n",
      "gender.tsv\n",
      "treatment.tsv\n",
      "body_site.tsv\n",
      "birth_control_pil.tsv\n",
      "smoker.tsv\n",
      "dental_sample_type.tsv\n",
      "body_subsite.tsv\n"
     ]
    }
   ],
   "source": [
    "import glob\n",
    "fs = glob.glob('*.tsv')\n",
    "for f in fs:\n",
    "    print(f)"
   ]
  },
  {
   "cell_type": "code",
   "execution_count": 292,
   "id": "b15ad522-4fa2-47b9-808b-fc15a027d121",
   "metadata": {
    "tags": []
   },
   "outputs": [],
   "source": [
    "input_file = 'dental_sample_type.tsv'\n",
    "threshold = 0.01"
   ]
  },
  {
   "cell_type": "code",
   "execution_count": 298,
   "id": "3b2d5d8e-fe72-441a-b876-3ecdc10d337d",
   "metadata": {
    "tags": []
   },
   "outputs": [
    {
     "data": {
      "application/vnd.plotly.v1+json": {
       "config": {
        "plotlyServerURL": "https://plot.ly"
       },
       "data": [
        {
         "colorbar": {
          "title": {
           "text": "Value"
          }
         },
         "text": [
          [
           0.75,
           0.63,
           0.68,
           0.58,
           0.54,
           0.48
          ],
          [
           0.76,
           0.62,
           0.69,
           0.57,
           0.53,
           0.48
          ],
          [
           0.77,
           0.65,
           0.73,
           0.57,
           0.55,
           0.48
          ],
          [
           0.75,
           0.63,
           0.68,
           0.58,
           0.54,
           0.48
          ],
          [
           0.46,
           0.18,
           0.38,
           0.1,
           0.09,
           -0.04
          ],
          [
           0.68,
           0.78,
           0.75,
           0.61,
           0.54,
           0.52
          ],
          [
           0.56,
           0.69,
           0.73,
           0.47,
           0.51,
           0.35
          ],
          [
           0.47,
           0.62,
           0.75,
           0.38,
           0.55,
           0.27
          ],
          [
           0.68,
           0.78,
           0.75,
           0.61,
           0.54,
           0.52
          ],
          [
           0,
           0.2,
           0.41,
           0,
           0.09,
           0
          ],
          [
           0.71,
           0.62,
           0.7,
           0.63,
           0.58,
           0.52
          ],
          [
           0.63,
           0.53,
           0.58,
           0.51,
           0.57,
           0.47
          ],
          [
           0.6,
           0.48,
           0.5,
           0.45,
           0.6,
           0.59
          ],
          [
           0.71,
           0.62,
           0.7,
           0.63,
           0.58,
           0.52
          ],
          [
           0.15,
           -0.08,
           0,
           0.04,
           0.17,
           0.1
          ],
          [
           0.71,
           0.7,
           0.7,
           0.61,
           0.52,
           0.52
          ],
          [
           0.69,
           0.58,
           0.58,
           0.47,
           0.35,
           0.35
          ],
          [
           0.72,
           0.5,
           0.5,
           0.38,
           0.27,
           0.27
          ],
          [
           0.71,
           0.7,
           0.7,
           0.61,
           0.52,
           0.52
          ],
          [
           0.3,
           0,
           0,
           0,
           0,
           0
          ],
          [
           0.78,
           0.79,
           0.91,
           0.66,
           0.71,
           0.6
          ],
          [
           0.78,
           0.73,
           0.91,
           0.66,
           0.71,
           0.59
          ],
          [
           0.79,
           0.7,
           0.93,
           0.68,
           0.71,
           0.6
          ],
          [
           0.78,
           0.79,
           0.91,
           0.66,
           0.71,
           0.6
          ],
          [
           0.5,
           0.46,
           0.8,
           0.32,
           0.42,
           0.2
          ]
         ],
         "textfont": {
          "color": "black"
         },
         "texttemplate": "%{text}",
         "type": "heatmap",
         "x": [
          "GhensiP_2019",
          "JieZ_2017",
          "JieZ_2017_2",
          "XieH_2016",
          "KeohaneDM_2020",
          "KeohaneDM_2020_2"
         ],
         "y": [
          "Acc_LRC",
          "F1_LRC",
          "Prec_LRC",
          "Recall_LRC",
          "MCC_LRC",
          "Acc_DTC",
          "F1_DTC",
          "Prec_DTC",
          "Recall_DTC",
          "MCC_DTC",
          "Acc_SVC",
          "F1_SVC",
          "Prec_SVC",
          "Recall_SVC",
          "MCC_SVC",
          "Acc_RFC",
          "F1_RFC",
          "Prec_RFC",
          "Recall_RFC",
          "MCC_RFC",
          "Acc_HDC",
          "F1_HDC",
          "Prec_HDC",
          "Recall_HDC",
          "MCC_HDC"
         ],
         "z": [
          [
           0.75,
           0.63,
           0.68,
           0.58,
           0.54,
           0.48
          ],
          [
           0.76,
           0.62,
           0.69,
           0.57,
           0.53,
           0.48
          ],
          [
           0.77,
           0.65,
           0.73,
           0.57,
           0.55,
           0.48
          ],
          [
           0.75,
           0.63,
           0.68,
           0.58,
           0.54,
           0.48
          ],
          [
           0.46,
           0.18,
           0.38,
           0.1,
           0.09,
           -0.04
          ],
          [
           0.68,
           0.78,
           0.75,
           0.61,
           0.54,
           0.52
          ],
          [
           0.56,
           0.69,
           0.73,
           0.47,
           0.51,
           0.35
          ],
          [
           0.47,
           0.62,
           0.75,
           0.38,
           0.55,
           0.27
          ],
          [
           0.68,
           0.78,
           0.75,
           0.61,
           0.54,
           0.52
          ],
          [
           0,
           0.2,
           0.41,
           0,
           0.09,
           0
          ],
          [
           0.71,
           0.62,
           0.7,
           0.63,
           0.58,
           0.52
          ],
          [
           0.63,
           0.53,
           0.58,
           0.51,
           0.57,
           0.47
          ],
          [
           0.6,
           0.48,
           0.5,
           0.45,
           0.6,
           0.59
          ],
          [
           0.71,
           0.62,
           0.7,
           0.63,
           0.58,
           0.52
          ],
          [
           0.15,
           -0.08,
           0,
           0.04,
           0.17,
           0.1
          ],
          [
           0.71,
           0.7,
           0.7,
           0.61,
           0.52,
           0.52
          ],
          [
           0.69,
           0.58,
           0.58,
           0.47,
           0.35,
           0.35
          ],
          [
           0.72,
           0.5,
           0.5,
           0.38,
           0.27,
           0.27
          ],
          [
           0.71,
           0.7,
           0.7,
           0.61,
           0.52,
           0.52
          ],
          [
           0.3,
           0,
           0,
           0,
           0,
           0
          ],
          [
           0.78,
           0.79,
           0.91,
           0.66,
           0.71,
           0.6
          ],
          [
           0.78,
           0.73,
           0.91,
           0.66,
           0.71,
           0.59
          ],
          [
           0.79,
           0.7,
           0.93,
           0.68,
           0.71,
           0.6
          ],
          [
           0.78,
           0.79,
           0.91,
           0.66,
           0.71,
           0.6
          ],
          [
           0.5,
           0.46,
           0.8,
           0.32,
           0.42,
           0.2
          ]
         ]
        }
       ],
       "layout": {
        "height": 950,
        "shapes": [
         {
          "line": {
           "color": "white",
           "width": 2
          },
          "type": "line",
          "x0": -0.5,
          "x1": 5.5,
          "y0": 4.5,
          "y1": 4.5
         },
         {
          "line": {
           "color": "white",
           "width": 2
          },
          "type": "line",
          "x0": -0.5,
          "x1": 5.5,
          "y0": 9.5,
          "y1": 9.5
         },
         {
          "line": {
           "color": "white",
           "width": 2
          },
          "type": "line",
          "x0": -0.5,
          "x1": 5.5,
          "y0": 14.5,
          "y1": 14.5
         },
         {
          "line": {
           "color": "white",
           "width": 2
          },
          "type": "line",
          "x0": -0.5,
          "x1": 5.5,
          "y0": 19.5,
          "y1": 19.5
         },
         {
          "fillcolor": "rgba(255, 255, 255, 0)",
          "line": {
           "color": "red",
           "width": 2
          },
          "type": "rect",
          "x0": -0.5,
          "x1": 0.5,
          "y0": 19.5,
          "y1": 24.5
         },
         {
          "fillcolor": "rgba(255, 255, 255, 0)",
          "line": {
           "color": "red",
           "width": 2
          },
          "type": "rect",
          "x0": 0.5,
          "x1": 1.5,
          "y0": 19.5,
          "y1": 24.5
         },
         {
          "fillcolor": "rgba(255, 255, 255, 0)",
          "line": {
           "color": "red",
           "width": 2
          },
          "type": "rect",
          "x0": 1.5,
          "x1": 2.5,
          "y0": 19.5,
          "y1": 24.5
         },
         {
          "fillcolor": "rgba(255, 255, 255, 0)",
          "line": {
           "color": "red",
           "width": 2
          },
          "type": "rect",
          "x0": 2.5,
          "x1": 3.5,
          "y0": 19.5,
          "y1": 24.5
         },
         {
          "fillcolor": "rgba(255, 255, 255, 0)",
          "line": {
           "color": "red",
           "width": 2
          },
          "type": "rect",
          "x0": 3.5,
          "x1": 4.5,
          "y0": 19.5,
          "y1": 24.5
         },
         {
          "fillcolor": "rgba(255, 255, 255, 0)",
          "line": {
           "color": "red",
           "width": 2
          },
          "type": "rect",
          "x0": 4.5,
          "x1": 5.5,
          "y0": 19.5,
          "y1": 24.5
         }
        ],
        "template": {
         "data": {
          "bar": [
           {
            "error_x": {
             "color": "#2a3f5f"
            },
            "error_y": {
             "color": "#2a3f5f"
            },
            "marker": {
             "line": {
              "color": "#E5ECF6",
              "width": 0.5
             },
             "pattern": {
              "fillmode": "overlay",
              "size": 10,
              "solidity": 0.2
             }
            },
            "type": "bar"
           }
          ],
          "barpolar": [
           {
            "marker": {
             "line": {
              "color": "#E5ECF6",
              "width": 0.5
             },
             "pattern": {
              "fillmode": "overlay",
              "size": 10,
              "solidity": 0.2
             }
            },
            "type": "barpolar"
           }
          ],
          "carpet": [
           {
            "aaxis": {
             "endlinecolor": "#2a3f5f",
             "gridcolor": "white",
             "linecolor": "white",
             "minorgridcolor": "white",
             "startlinecolor": "#2a3f5f"
            },
            "baxis": {
             "endlinecolor": "#2a3f5f",
             "gridcolor": "white",
             "linecolor": "white",
             "minorgridcolor": "white",
             "startlinecolor": "#2a3f5f"
            },
            "type": "carpet"
           }
          ],
          "choropleth": [
           {
            "colorbar": {
             "outlinewidth": 0,
             "ticks": ""
            },
            "type": "choropleth"
           }
          ],
          "contour": [
           {
            "colorbar": {
             "outlinewidth": 0,
             "ticks": ""
            },
            "colorscale": [
             [
              0,
              "#0d0887"
             ],
             [
              0.1111111111111111,
              "#46039f"
             ],
             [
              0.2222222222222222,
              "#7201a8"
             ],
             [
              0.3333333333333333,
              "#9c179e"
             ],
             [
              0.4444444444444444,
              "#bd3786"
             ],
             [
              0.5555555555555556,
              "#d8576b"
             ],
             [
              0.6666666666666666,
              "#ed7953"
             ],
             [
              0.7777777777777778,
              "#fb9f3a"
             ],
             [
              0.8888888888888888,
              "#fdca26"
             ],
             [
              1,
              "#f0f921"
             ]
            ],
            "type": "contour"
           }
          ],
          "contourcarpet": [
           {
            "colorbar": {
             "outlinewidth": 0,
             "ticks": ""
            },
            "type": "contourcarpet"
           }
          ],
          "heatmap": [
           {
            "colorbar": {
             "outlinewidth": 0,
             "ticks": ""
            },
            "colorscale": [
             [
              0,
              "#0d0887"
             ],
             [
              0.1111111111111111,
              "#46039f"
             ],
             [
              0.2222222222222222,
              "#7201a8"
             ],
             [
              0.3333333333333333,
              "#9c179e"
             ],
             [
              0.4444444444444444,
              "#bd3786"
             ],
             [
              0.5555555555555556,
              "#d8576b"
             ],
             [
              0.6666666666666666,
              "#ed7953"
             ],
             [
              0.7777777777777778,
              "#fb9f3a"
             ],
             [
              0.8888888888888888,
              "#fdca26"
             ],
             [
              1,
              "#f0f921"
             ]
            ],
            "type": "heatmap"
           }
          ],
          "heatmapgl": [
           {
            "colorbar": {
             "outlinewidth": 0,
             "ticks": ""
            },
            "colorscale": [
             [
              0,
              "#0d0887"
             ],
             [
              0.1111111111111111,
              "#46039f"
             ],
             [
              0.2222222222222222,
              "#7201a8"
             ],
             [
              0.3333333333333333,
              "#9c179e"
             ],
             [
              0.4444444444444444,
              "#bd3786"
             ],
             [
              0.5555555555555556,
              "#d8576b"
             ],
             [
              0.6666666666666666,
              "#ed7953"
             ],
             [
              0.7777777777777778,
              "#fb9f3a"
             ],
             [
              0.8888888888888888,
              "#fdca26"
             ],
             [
              1,
              "#f0f921"
             ]
            ],
            "type": "heatmapgl"
           }
          ],
          "histogram": [
           {
            "marker": {
             "pattern": {
              "fillmode": "overlay",
              "size": 10,
              "solidity": 0.2
             }
            },
            "type": "histogram"
           }
          ],
          "histogram2d": [
           {
            "colorbar": {
             "outlinewidth": 0,
             "ticks": ""
            },
            "colorscale": [
             [
              0,
              "#0d0887"
             ],
             [
              0.1111111111111111,
              "#46039f"
             ],
             [
              0.2222222222222222,
              "#7201a8"
             ],
             [
              0.3333333333333333,
              "#9c179e"
             ],
             [
              0.4444444444444444,
              "#bd3786"
             ],
             [
              0.5555555555555556,
              "#d8576b"
             ],
             [
              0.6666666666666666,
              "#ed7953"
             ],
             [
              0.7777777777777778,
              "#fb9f3a"
             ],
             [
              0.8888888888888888,
              "#fdca26"
             ],
             [
              1,
              "#f0f921"
             ]
            ],
            "type": "histogram2d"
           }
          ],
          "histogram2dcontour": [
           {
            "colorbar": {
             "outlinewidth": 0,
             "ticks": ""
            },
            "colorscale": [
             [
              0,
              "#0d0887"
             ],
             [
              0.1111111111111111,
              "#46039f"
             ],
             [
              0.2222222222222222,
              "#7201a8"
             ],
             [
              0.3333333333333333,
              "#9c179e"
             ],
             [
              0.4444444444444444,
              "#bd3786"
             ],
             [
              0.5555555555555556,
              "#d8576b"
             ],
             [
              0.6666666666666666,
              "#ed7953"
             ],
             [
              0.7777777777777778,
              "#fb9f3a"
             ],
             [
              0.8888888888888888,
              "#fdca26"
             ],
             [
              1,
              "#f0f921"
             ]
            ],
            "type": "histogram2dcontour"
           }
          ],
          "mesh3d": [
           {
            "colorbar": {
             "outlinewidth": 0,
             "ticks": ""
            },
            "type": "mesh3d"
           }
          ],
          "parcoords": [
           {
            "line": {
             "colorbar": {
              "outlinewidth": 0,
              "ticks": ""
             }
            },
            "type": "parcoords"
           }
          ],
          "pie": [
           {
            "automargin": true,
            "type": "pie"
           }
          ],
          "scatter": [
           {
            "fillpattern": {
             "fillmode": "overlay",
             "size": 10,
             "solidity": 0.2
            },
            "type": "scatter"
           }
          ],
          "scatter3d": [
           {
            "line": {
             "colorbar": {
              "outlinewidth": 0,
              "ticks": ""
             }
            },
            "marker": {
             "colorbar": {
              "outlinewidth": 0,
              "ticks": ""
             }
            },
            "type": "scatter3d"
           }
          ],
          "scattercarpet": [
           {
            "marker": {
             "colorbar": {
              "outlinewidth": 0,
              "ticks": ""
             }
            },
            "type": "scattercarpet"
           }
          ],
          "scattergeo": [
           {
            "marker": {
             "colorbar": {
              "outlinewidth": 0,
              "ticks": ""
             }
            },
            "type": "scattergeo"
           }
          ],
          "scattergl": [
           {
            "marker": {
             "colorbar": {
              "outlinewidth": 0,
              "ticks": ""
             }
            },
            "type": "scattergl"
           }
          ],
          "scattermapbox": [
           {
            "marker": {
             "colorbar": {
              "outlinewidth": 0,
              "ticks": ""
             }
            },
            "type": "scattermapbox"
           }
          ],
          "scatterpolar": [
           {
            "marker": {
             "colorbar": {
              "outlinewidth": 0,
              "ticks": ""
             }
            },
            "type": "scatterpolar"
           }
          ],
          "scatterpolargl": [
           {
            "marker": {
             "colorbar": {
              "outlinewidth": 0,
              "ticks": ""
             }
            },
            "type": "scatterpolargl"
           }
          ],
          "scatterternary": [
           {
            "marker": {
             "colorbar": {
              "outlinewidth": 0,
              "ticks": ""
             }
            },
            "type": "scatterternary"
           }
          ],
          "surface": [
           {
            "colorbar": {
             "outlinewidth": 0,
             "ticks": ""
            },
            "colorscale": [
             [
              0,
              "#0d0887"
             ],
             [
              0.1111111111111111,
              "#46039f"
             ],
             [
              0.2222222222222222,
              "#7201a8"
             ],
             [
              0.3333333333333333,
              "#9c179e"
             ],
             [
              0.4444444444444444,
              "#bd3786"
             ],
             [
              0.5555555555555556,
              "#d8576b"
             ],
             [
              0.6666666666666666,
              "#ed7953"
             ],
             [
              0.7777777777777778,
              "#fb9f3a"
             ],
             [
              0.8888888888888888,
              "#fdca26"
             ],
             [
              1,
              "#f0f921"
             ]
            ],
            "type": "surface"
           }
          ],
          "table": [
           {
            "cells": {
             "fill": {
              "color": "#EBF0F8"
             },
             "line": {
              "color": "white"
             }
            },
            "header": {
             "fill": {
              "color": "#C8D4E3"
             },
             "line": {
              "color": "white"
             }
            },
            "type": "table"
           }
          ]
         },
         "layout": {
          "annotationdefaults": {
           "arrowcolor": "#2a3f5f",
           "arrowhead": 0,
           "arrowwidth": 1
          },
          "autotypenumbers": "strict",
          "coloraxis": {
           "colorbar": {
            "outlinewidth": 0,
            "ticks": ""
           }
          },
          "colorscale": {
           "diverging": [
            [
             0,
             "#8e0152"
            ],
            [
             0.1,
             "#c51b7d"
            ],
            [
             0.2,
             "#de77ae"
            ],
            [
             0.3,
             "#f1b6da"
            ],
            [
             0.4,
             "#fde0ef"
            ],
            [
             0.5,
             "#f7f7f7"
            ],
            [
             0.6,
             "#e6f5d0"
            ],
            [
             0.7,
             "#b8e186"
            ],
            [
             0.8,
             "#7fbc41"
            ],
            [
             0.9,
             "#4d9221"
            ],
            [
             1,
             "#276419"
            ]
           ],
           "sequential": [
            [
             0,
             "#0d0887"
            ],
            [
             0.1111111111111111,
             "#46039f"
            ],
            [
             0.2222222222222222,
             "#7201a8"
            ],
            [
             0.3333333333333333,
             "#9c179e"
            ],
            [
             0.4444444444444444,
             "#bd3786"
            ],
            [
             0.5555555555555556,
             "#d8576b"
            ],
            [
             0.6666666666666666,
             "#ed7953"
            ],
            [
             0.7777777777777778,
             "#fb9f3a"
            ],
            [
             0.8888888888888888,
             "#fdca26"
            ],
            [
             1,
             "#f0f921"
            ]
           ],
           "sequentialminus": [
            [
             0,
             "#0d0887"
            ],
            [
             0.1111111111111111,
             "#46039f"
            ],
            [
             0.2222222222222222,
             "#7201a8"
            ],
            [
             0.3333333333333333,
             "#9c179e"
            ],
            [
             0.4444444444444444,
             "#bd3786"
            ],
            [
             0.5555555555555556,
             "#d8576b"
            ],
            [
             0.6666666666666666,
             "#ed7953"
            ],
            [
             0.7777777777777778,
             "#fb9f3a"
            ],
            [
             0.8888888888888888,
             "#fdca26"
            ],
            [
             1,
             "#f0f921"
            ]
           ]
          },
          "colorway": [
           "#636efa",
           "#EF553B",
           "#00cc96",
           "#ab63fa",
           "#FFA15A",
           "#19d3f3",
           "#FF6692",
           "#B6E880",
           "#FF97FF",
           "#FECB52"
          ],
          "font": {
           "color": "#2a3f5f"
          },
          "geo": {
           "bgcolor": "white",
           "lakecolor": "white",
           "landcolor": "#E5ECF6",
           "showlakes": true,
           "showland": true,
           "subunitcolor": "white"
          },
          "hoverlabel": {
           "align": "left"
          },
          "hovermode": "closest",
          "mapbox": {
           "style": "light"
          },
          "paper_bgcolor": "white",
          "plot_bgcolor": "#E5ECF6",
          "polar": {
           "angularaxis": {
            "gridcolor": "white",
            "linecolor": "white",
            "ticks": ""
           },
           "bgcolor": "#E5ECF6",
           "radialaxis": {
            "gridcolor": "white",
            "linecolor": "white",
            "ticks": ""
           }
          },
          "scene": {
           "xaxis": {
            "backgroundcolor": "#E5ECF6",
            "gridcolor": "white",
            "gridwidth": 2,
            "linecolor": "white",
            "showbackground": true,
            "ticks": "",
            "zerolinecolor": "white"
           },
           "yaxis": {
            "backgroundcolor": "#E5ECF6",
            "gridcolor": "white",
            "gridwidth": 2,
            "linecolor": "white",
            "showbackground": true,
            "ticks": "",
            "zerolinecolor": "white"
           },
           "zaxis": {
            "backgroundcolor": "#E5ECF6",
            "gridcolor": "white",
            "gridwidth": 2,
            "linecolor": "white",
            "showbackground": true,
            "ticks": "",
            "zerolinecolor": "white"
           }
          },
          "shapedefaults": {
           "line": {
            "color": "#2a3f5f"
           }
          },
          "ternary": {
           "aaxis": {
            "gridcolor": "white",
            "linecolor": "white",
            "ticks": ""
           },
           "baxis": {
            "gridcolor": "white",
            "linecolor": "white",
            "ticks": ""
           },
           "bgcolor": "#E5ECF6",
           "caxis": {
            "gridcolor": "white",
            "linecolor": "white",
            "ticks": ""
           }
          },
          "title": {
           "x": 0.05
          },
          "xaxis": {
           "automargin": true,
           "gridcolor": "white",
           "linecolor": "white",
           "ticks": "",
           "title": {
            "standoff": 15
           },
           "zerolinecolor": "white",
           "zerolinewidth": 2
          },
          "yaxis": {
           "automargin": true,
           "gridcolor": "white",
           "linecolor": "white",
           "ticks": "",
           "title": {
            "standoff": 15
           },
           "zerolinecolor": "white",
           "zerolinewidth": 2
          }
         }
        },
        "title": {
         "text": "Heatmap with Multiple Rectangles around Values Greater Than 8"
        },
        "width": 460,
        "xaxis": {
         "autorange": true,
         "range": [
          -0.524,
          5.524
         ],
         "title": {
          "text": "Metrics"
         },
         "type": "category"
        },
        "yaxis": {
         "autorange": true,
         "range": [
          24.534013605442176,
          -0.5
         ],
         "title": {
          "text": "Rows"
         },
         "type": "category"
        }
       }
      },
      "image/png": "[encoded data removed]",
      "text/html": [
       "<div>                            <div id=\"ea163bf5-aa66-4a23-8b1d-5c408ae449bc\" class=\"plotly-graph-div\" style=\"height:950px; width:460px;\"></div>            <script type=\"text/javascript\">                require([\"plotly\"], function(Plotly) {                    window.PLOTLYENV=window.PLOTLYENV || {};                                    if (document.getElementById(\"ea163bf5-aa66-4a23-8b1d-5c408ae449bc\")) {                    Plotly.newPlot(                        \"ea163bf5-aa66-4a23-8b1d-5c408ae449bc\",                        [{\"colorbar\":{\"title\":{\"text\":\"Value\"}},\"text\":[[0.75,0.63,0.68,0.58,0.54,0.48],[0.76,0.62,0.69,0.57,0.53,0.48],[0.77,0.65,0.73,0.57,0.55,0.48],[0.75,0.63,0.68,0.58,0.54,0.48],[0.46,0.18,0.38,0.1,0.09,-0.04],[0.68,0.78,0.75,0.61,0.54,0.52],[0.56,0.69,0.73,0.47,0.51,0.35],[0.47,0.62,0.75,0.38,0.55,0.27],[0.68,0.78,0.75,0.61,0.54,0.52],[0.0,0.2,0.41,0.0,0.09,0.0],[0.71,0.62,0.7,0.63,0.58,0.52],[0.63,0.53,0.58,0.51,0.57,0.47],[0.6,0.48,0.5,0.45,0.6,0.59],[0.71,0.62,0.7,0.63,0.58,0.52],[0.15,-0.08,0.0,0.04,0.17,0.1],[0.71,0.7,0.7,0.61,0.52,0.52],[0.69,0.58,0.58,0.47,0.35,0.35],[0.72,0.5,0.5,0.38,0.27,0.27],[0.71,0.7,0.7,0.61,0.52,0.52],[0.3,0.0,0.0,0.0,0.0,0.0],[0.78,0.79,0.91,0.66,0.71,0.6],[0.78,0.73,0.91,0.66,0.71,0.59],[0.79,0.7,0.93,0.68,0.71,0.6],[0.78,0.79,0.91,0.66,0.71,0.6],[0.5,0.46,0.8,0.32,0.42,0.2]],\"textfont\":{\"color\":\"black\"},\"texttemplate\":\"%{text}\",\"x\":[\"GhensiP_2019\",\"JieZ_2017\",\"JieZ_2017_2\",\"XieH_2016\",\"KeohaneDM_2020\",\"KeohaneDM_2020_2\"],\"y\":[\"Acc_LRC\",\"F1_LRC\",\"Prec_LRC\",\"Recall_LRC\",\"MCC_LRC\",\"Acc_DTC\",\"F1_DTC\",\"Prec_DTC\",\"Recall_DTC\",\"MCC_DTC\",\"Acc_SVC\",\"F1_SVC\",\"Prec_SVC\",\"Recall_SVC\",\"MCC_SVC\",\"Acc_RFC\",\"F1_RFC\",\"Prec_RFC\",\"Recall_RFC\",\"MCC_RFC\",\"Acc_HDC\",\"F1_HDC\",\"Prec_HDC\",\"Recall_HDC\",\"MCC_HDC\"],\"z\":[[0.75,0.63,0.68,0.58,0.54,0.48],[0.76,0.62,0.69,0.57,0.53,0.48],[0.77,0.65,0.73,0.57,0.55,0.48],[0.75,0.63,0.68,0.58,0.54,0.48],[0.46,0.18,0.38,0.1,0.09,-0.04],[0.68,0.78,0.75,0.61,0.54,0.52],[0.56,0.69,0.73,0.47,0.51,0.35],[0.47,0.62,0.75,0.38,0.55,0.27],[0.68,0.78,0.75,0.61,0.54,0.52],[0.0,0.2,0.41,0.0,0.09,0.0],[0.71,0.62,0.7,0.63,0.58,0.52],[0.63,0.53,0.58,0.51,0.57,0.47],[0.6,0.48,0.5,0.45,0.6,0.59],[0.71,0.62,0.7,0.63,0.58,0.52],[0.15,-0.08,0.0,0.04,0.17,0.1],[0.71,0.7,0.7,0.61,0.52,0.52],[0.69,0.58,0.58,0.47,0.35,0.35],[0.72,0.5,0.5,0.38,0.27,0.27],[0.71,0.7,0.7,0.61,0.52,0.52],[0.3,0.0,0.0,0.0,0.0,0.0],[0.78,0.79,0.91,0.66,0.71,0.6],[0.78,0.73,0.91,0.66,0.71,0.59],[0.79,0.7,0.93,0.68,0.71,0.6],[0.78,0.79,0.91,0.66,0.71,0.6],[0.5,0.46,0.8,0.32,0.42,0.2]],\"type\":\"heatmap\"}],                        {\"template\":{\"data\":{\"histogram2dcontour\":[{\"type\":\"histogram2dcontour\",\"colorbar\":{\"outlinewidth\":0,\"ticks\":\"\"},\"colorscale\":[[0.0,\"#0d0887\"],[0.1111111111111111,\"#46039f\"],[0.2222222222222222,\"#7201a8\"],[0.3333333333333333,\"#9c179e\"],[0.4444444444444444,\"#bd3786\"],[0.5555555555555556,\"#d8576b\"],[0.6666666666666666,\"#ed7953\"],[0.7777777777777778,\"#fb9f3a\"],[0.8888888888888888,\"#fdca26\"],[1.0,\"#f0f921\"]]}],\"choropleth\":[{\"type\":\"choropleth\",\"colorbar\":{\"outlinewidth\":0,\"ticks\":\"\"}}],\"histogram2d\":[{\"type\":\"histogram2d\",\"colorbar\":{\"outlinewidth\":0,\"ticks\":\"\"},\"colorscale\":[[0.0,\"#0d0887\"],[0.1111111111111111,\"#46039f\"],[0.2222222222222222,\"#7201a8\"],[0.3333333333333333,\"#9c179e\"],[0.4444444444444444,\"#bd3786\"],[0.5555555555555556,\"#d8576b\"],[0.6666666666666666,\"#ed7953\"],[0.7777777777777778,\"#fb9f3a\"],[0.8888888888888888,\"#fdca26\"],[1.0,\"#f0f921\"]]}],\"heatmap\":[{\"type\":\"heatmap\",\"colorbar\":{\"outlinewidth\":0,\"ticks\":\"\"},\"colorscale\":[[0.0,\"#0d0887\"],[0.1111111111111111,\"#46039f\"],[0.2222222222222222,\"#7201a8\"],[0.3333333333333333,\"#9c179e\"],[0.4444444444444444,\"#bd3786\"],[0.5555555555555556,\"#d8576b\"],[0.6666666666666666,\"#ed7953\"],[0.7777777777777778,\"#fb9f3a\"],[0.8888888888888888,\"#fdca26\"],[1.0,\"#f0f921\"]]}],\"heatmapgl\":[{\"type\":\"heatmapgl\",\"colorbar\":{\"outlinewidth\":0,\"ticks\":\"\"},\"colorscale\":[[0.0,\"#0d0887\"],[0.1111111111111111,\"#46039f\"],[0.2222222222222222,\"#7201a8\"],[0.3333333333333333,\"#9c179e\"],[0.4444444444444444,\"#bd3786\"],[0.5555555555555556,\"#d8576b\"],[0.6666666666666666,\"#ed7953\"],[0.7777777777777778,\"#fb9f3a\"],[0.8888888888888888,\"#fdca26\"],[1.0,\"#f0f921\"]]}],\"contourcarpet\":[{\"type\":\"contourcarpet\",\"colorbar\":{\"outlinewidth\":0,\"ticks\":\"\"}}],\"contour\":[{\"type\":\"contour\",\"colorbar\":{\"outlinewidth\":0,\"ticks\":\"\"},\"colorscale\":[[0.0,\"#0d0887\"],[0.1111111111111111,\"#46039f\"],[0.2222222222222222,\"#7201a8\"],[0.3333333333333333,\"#9c179e\"],[0.4444444444444444,\"#bd3786\"],[0.5555555555555556,\"#d8576b\"],[0.6666666666666666,\"#ed7953\"],[0.7777777777777778,\"#fb9f3a\"],[0.8888888888888888,\"#fdca26\"],[1.0,\"#f0f921\"]]}],\"surface\":[{\"type\":\"surface\",\"colorbar\":{\"outlinewidth\":0,\"ticks\":\"\"},\"colorscale\":[[0.0,\"#0d0887\"],[0.1111111111111111,\"#46039f\"],[0.2222222222222222,\"#7201a8\"],[0.3333333333333333,\"#9c179e\"],[0.4444444444444444,\"#bd3786\"],[0.5555555555555556,\"#d8576b\"],[0.6666666666666666,\"#ed7953\"],[0.7777777777777778,\"#fb9f3a\"],[0.8888888888888888,\"#fdca26\"],[1.0,\"#f0f921\"]]}],\"mesh3d\":[{\"type\":\"mesh3d\",\"colorbar\":{\"outlinewidth\":0,\"ticks\":\"\"}}],\"scatter\":[{\"fillpattern\":{\"fillmode\":\"overlay\",\"size\":10,\"solidity\":0.2},\"type\":\"scatter\"}],\"parcoords\":[{\"type\":\"parcoords\",\"line\":{\"colorbar\":{\"outlinewidth\":0,\"ticks\":\"\"}}}],\"scatterpolargl\":[{\"type\":\"scatterpolargl\",\"marker\":{\"colorbar\":{\"outlinewidth\":0,\"ticks\":\"\"}}}],\"bar\":[{\"error_x\":{\"color\":\"#2a3f5f\"},\"error_y\":{\"color\":\"#2a3f5f\"},\"marker\":{\"line\":{\"color\":\"#E5ECF6\",\"width\":0.5},\"pattern\":{\"fillmode\":\"overlay\",\"size\":10,\"solidity\":0.2}},\"type\":\"bar\"}],\"scattergeo\":[{\"type\":\"scattergeo\",\"marker\":{\"colorbar\":{\"outlinewidth\":0,\"ticks\":\"\"}}}],\"scatterpolar\":[{\"type\":\"scatterpolar\",\"marker\":{\"colorbar\":{\"outlinewidth\":0,\"ticks\":\"\"}}}],\"histogram\":[{\"marker\":{\"pattern\":{\"fillmode\":\"overlay\",\"size\":10,\"solidity\":0.2}},\"type\":\"histogram\"}],\"scattergl\":[{\"type\":\"scattergl\",\"marker\":{\"colorbar\":{\"outlinewidth\":0,\"ticks\":\"\"}}}],\"scatter3d\":[{\"type\":\"scatter3d\",\"line\":{\"colorbar\":{\"outlinewidth\":0,\"ticks\":\"\"}},\"marker\":{\"colorbar\":{\"outlinewidth\":0,\"ticks\":\"\"}}}],\"scattermapbox\":[{\"type\":\"scattermapbox\",\"marker\":{\"colorbar\":{\"outlinewidth\":0,\"ticks\":\"\"}}}],\"scatterternary\":[{\"type\":\"scatterternary\",\"marker\":{\"colorbar\":{\"outlinewidth\":0,\"ticks\":\"\"}}}],\"scattercarpet\":[{\"type\":\"scattercarpet\",\"marker\":{\"colorbar\":{\"outlinewidth\":0,\"ticks\":\"\"}}}],\"carpet\":[{\"aaxis\":{\"endlinecolor\":\"#2a3f5f\",\"gridcolor\":\"white\",\"linecolor\":\"white\",\"minorgridcolor\":\"white\",\"startlinecolor\":\"#2a3f5f\"},\"baxis\":{\"endlinecolor\":\"#2a3f5f\",\"gridcolor\":\"white\",\"linecolor\":\"white\",\"minorgridcolor\":\"white\",\"startlinecolor\":\"#2a3f5f\"},\"type\":\"carpet\"}],\"table\":[{\"cells\":{\"fill\":{\"color\":\"#EBF0F8\"},\"line\":{\"color\":\"white\"}},\"header\":{\"fill\":{\"color\":\"#C8D4E3\"},\"line\":{\"color\":\"white\"}},\"type\":\"table\"}],\"barpolar\":[{\"marker\":{\"line\":{\"color\":\"#E5ECF6\",\"width\":0.5},\"pattern\":{\"fillmode\":\"overlay\",\"size\":10,\"solidity\":0.2}},\"type\":\"barpolar\"}],\"pie\":[{\"automargin\":true,\"type\":\"pie\"}]},\"layout\":{\"autotypenumbers\":\"strict\",\"colorway\":[\"#636efa\",\"#EF553B\",\"#00cc96\",\"#ab63fa\",\"#FFA15A\",\"#19d3f3\",\"#FF6692\",\"#B6E880\",\"#FF97FF\",\"#FECB52\"],\"font\":{\"color\":\"#2a3f5f\"},\"hovermode\":\"closest\",\"hoverlabel\":{\"align\":\"left\"},\"paper_bgcolor\":\"white\",\"plot_bgcolor\":\"#E5ECF6\",\"polar\":{\"bgcolor\":\"#E5ECF6\",\"angularaxis\":{\"gridcolor\":\"white\",\"linecolor\":\"white\",\"ticks\":\"\"},\"radialaxis\":{\"gridcolor\":\"white\",\"linecolor\":\"white\",\"ticks\":\"\"}},\"ternary\":{\"bgcolor\":\"#E5ECF6\",\"aaxis\":{\"gridcolor\":\"white\",\"linecolor\":\"white\",\"ticks\":\"\"},\"baxis\":{\"gridcolor\":\"white\",\"linecolor\":\"white\",\"ticks\":\"\"},\"caxis\":{\"gridcolor\":\"white\",\"linecolor\":\"white\",\"ticks\":\"\"}},\"coloraxis\":{\"colorbar\":{\"outlinewidth\":0,\"ticks\":\"\"}},\"colorscale\":{\"sequential\":[[0.0,\"#0d0887\"],[0.1111111111111111,\"#46039f\"],[0.2222222222222222,\"#7201a8\"],[0.3333333333333333,\"#9c179e\"],[0.4444444444444444,\"#bd3786\"],[0.5555555555555556,\"#d8576b\"],[0.6666666666666666,\"#ed7953\"],[0.7777777777777778,\"#fb9f3a\"],[0.8888888888888888,\"#fdca26\"],[1.0,\"#f0f921\"]],\"sequentialminus\":[[0.0,\"#0d0887\"],[0.1111111111111111,\"#46039f\"],[0.2222222222222222,\"#7201a8\"],[0.3333333333333333,\"#9c179e\"],[0.4444444444444444,\"#bd3786\"],[0.5555555555555556,\"#d8576b\"],[0.6666666666666666,\"#ed7953\"],[0.7777777777777778,\"#fb9f3a\"],[0.8888888888888888,\"#fdca26\"],[1.0,\"#f0f921\"]],\"diverging\":[[0,\"#8e0152\"],[0.1,\"#c51b7d\"],[0.2,\"#de77ae\"],[0.3,\"#f1b6da\"],[0.4,\"#fde0ef\"],[0.5,\"#f7f7f7\"],[0.6,\"#e6f5d0\"],[0.7,\"#b8e186\"],[0.8,\"#7fbc41\"],[0.9,\"#4d9221\"],[1,\"#276419\"]]},\"xaxis\":{\"gridcolor\":\"white\",\"linecolor\":\"white\",\"ticks\":\"\",\"title\":{\"standoff\":15},\"zerolinecolor\":\"white\",\"automargin\":true,\"zerolinewidth\":2},\"yaxis\":{\"gridcolor\":\"white\",\"linecolor\":\"white\",\"ticks\":\"\",\"title\":{\"standoff\":15},\"zerolinecolor\":\"white\",\"automargin\":true,\"zerolinewidth\":2},\"scene\":{\"xaxis\":{\"backgroundcolor\":\"#E5ECF6\",\"gridcolor\":\"white\",\"linecolor\":\"white\",\"showbackground\":true,\"ticks\":\"\",\"zerolinecolor\":\"white\",\"gridwidth\":2},\"yaxis\":{\"backgroundcolor\":\"#E5ECF6\",\"gridcolor\":\"white\",\"linecolor\":\"white\",\"showbackground\":true,\"ticks\":\"\",\"zerolinecolor\":\"white\",\"gridwidth\":2},\"zaxis\":{\"backgroundcolor\":\"#E5ECF6\",\"gridcolor\":\"white\",\"linecolor\":\"white\",\"showbackground\":true,\"ticks\":\"\",\"zerolinecolor\":\"white\",\"gridwidth\":2}},\"shapedefaults\":{\"line\":{\"color\":\"#2a3f5f\"}},\"annotationdefaults\":{\"arrowcolor\":\"#2a3f5f\",\"arrowhead\":0,\"arrowwidth\":1},\"geo\":{\"bgcolor\":\"white\",\"landcolor\":\"#E5ECF6\",\"subunitcolor\":\"white\",\"showland\":true,\"showlakes\":true,\"lakecolor\":\"white\"},\"title\":{\"x\":0.05},\"mapbox\":{\"style\":\"light\"}}},\"yaxis\":{\"title\":{\"text\":\"Rows\"},\"autorange\":\"reversed\"},\"width\":460,\"height\":950,\"shapes\":[{\"line\":{\"color\":\"white\",\"width\":2},\"type\":\"line\",\"x0\":-0.5,\"x1\":5.5,\"y0\":4.5,\"y1\":4.5},{\"line\":{\"color\":\"white\",\"width\":2},\"type\":\"line\",\"x0\":-0.5,\"x1\":5.5,\"y0\":9.5,\"y1\":9.5},{\"line\":{\"color\":\"white\",\"width\":2},\"type\":\"line\",\"x0\":-0.5,\"x1\":5.5,\"y0\":14.5,\"y1\":14.5},{\"line\":{\"color\":\"white\",\"width\":2},\"type\":\"line\",\"x0\":-0.5,\"x1\":5.5,\"y0\":19.5,\"y1\":19.5},{\"fillcolor\":\"rgba(255, 255, 255, 0)\",\"line\":{\"color\":\"red\",\"width\":2},\"type\":\"rect\",\"x0\":-0.5,\"x1\":0.5,\"y0\":19.5,\"y1\":24.5},{\"fillcolor\":\"rgba(255, 255, 255, 0)\",\"line\":{\"color\":\"red\",\"width\":2},\"type\":\"rect\",\"x0\":0.5,\"x1\":1.5,\"y0\":19.5,\"y1\":24.5},{\"fillcolor\":\"rgba(255, 255, 255, 0)\",\"line\":{\"color\":\"red\",\"width\":2},\"type\":\"rect\",\"x0\":1.5,\"x1\":2.5,\"y0\":19.5,\"y1\":24.5},{\"fillcolor\":\"rgba(255, 255, 255, 0)\",\"line\":{\"color\":\"red\",\"width\":2},\"type\":\"rect\",\"x0\":2.5,\"x1\":3.5,\"y0\":19.5,\"y1\":24.5},{\"fillcolor\":\"rgba(255, 255, 255, 0)\",\"line\":{\"color\":\"red\",\"width\":2},\"type\":\"rect\",\"x0\":3.5,\"x1\":4.5,\"y0\":19.5,\"y1\":24.5},{\"fillcolor\":\"rgba(255, 255, 255, 0)\",\"line\":{\"color\":\"red\",\"width\":2},\"type\":\"rect\",\"x0\":4.5,\"x1\":5.5,\"y0\":19.5,\"y1\":24.5}],\"title\":{\"text\":\"Heatmap with Multiple Rectangles around Values Greater Than 8\"},\"xaxis\":{\"title\":{\"text\":\"Metrics\"}}},                        {\"responsive\": true}                    ).then(function(){\n",
       "                            \n",
       "var gd = document.getElementById('ea163bf5-aa66-4a23-8b1d-5c408ae449bc');\n",
       "var x = new MutationObserver(function (mutations, observer) {{\n",
       "        var display = window.getComputedStyle(gd).display;\n",
       "        if (!display || display === 'none') {{\n",
       "            console.log([gd, 'removed!']);\n",
       "            Plotly.purge(gd);\n",
       "            observer.disconnect();\n",
       "        }}\n",
       "}});\n",
       "\n",
       "// Listen for the removal of the full notebook cells\n",
       "var notebookContainer = gd.closest('#notebook-container');\n",
       "if (notebookContainer) {{\n",
       "    x.observe(notebookContainer, {childList: true});\n",
       "}}\n",
       "\n",
       "// Listen for the clearing of the current output cell\n",
       "var outputEl = gd.closest('.output');\n",
       "if (outputEl) {{\n",
       "    x.observe(outputEl, {childList: true});\n",
       "}}\n",
       "\n",
       "                        })                };                });            </script>        </div>"
      ]
     },
     "metadata": {},
     "output_type": "display_data"
    }
   ],
   "source": [
    "import pandas as pd\n",
    "import plotly.express as px\n",
    "import plotly.graph_objects as go\n",
    "import sys\n",
    "import pandas as pd\n",
    "import numpy as np\n",
    "import sys, os\n",
    "\n",
    "def check_peformance(values, th=0.01):\n",
    "    last_value = values[-1]\n",
    "    # Check if the last value is greater than all other values by at least the threshold\n",
    "    is_significantly_greater = all((last_value - value) >= th for value in values[:-1])\n",
    "\n",
    "    if is_significantly_greater:\n",
    "        return True\n",
    "    else:\n",
    "        return False\n",
    "    \n",
    "def ResultSummary(file):\n",
    "    DF = pd.read_csv(file, sep='\\t')\n",
    "    DF.set_index('name', inplace=True)\n",
    "    df = DF\n",
    "    # df.columns = ReturnUniqueColumnName(df.columns.to_list())\n",
    "    \n",
    "    column_anno = {}\n",
    "    for n in df.columns.to_list():\n",
    "        # Initialize an empty list to store the slicing indices\n",
    "        slices = []\n",
    "        mean_values = []\n",
    "        # Set the step size for the intervals\n",
    "        step = 5\n",
    "\n",
    "        # Create a loop to generate the slice indices\n",
    "        for i in range(0, 25, step):  # 25 represents the total number of elements\n",
    "            # Define the start and end of the slice\n",
    "            start = i\n",
    "            end = i + 4  # 4 represents the span or width of each slice\n",
    "            # Append the slice to the list\n",
    "            slices.append(f\"{start}:{end}\")\n",
    "            # print(df[[n]][start:end])\n",
    "            mean_values.append(round(np.mean(df[[n]][start:end]), 3))\n",
    "        # print(mean_values)\n",
    "        column_anno[n] = check_peformance(mean_values,  th=threshold)\n",
    "    return column_anno\n",
    "\n",
    "results = ResultSummary(input_file)\n",
    "\n",
    "true_columns = []\n",
    "for i, k in enumerate(results.keys()):\n",
    "    if results[k]:  \n",
    "        true_columns.append((i, results[k], k))\n",
    "\n",
    "true_columns\n",
    "\n",
    "DF = pd.read_csv(input_file, sep='\\t')\n",
    "DF.set_index('name', inplace=True)\n",
    "df = DF\n",
    "df.index.name = 'name'\n",
    "# df.columns = ReturnUniqueColumnName(df.columns.to_list())\n",
    "###Fix Duplicate Column Names ############################\n",
    "\n",
    "heatmap = go.Heatmap(\n",
    "    z=df.values,\n",
    "    x=df.columns,\n",
    "    y=df.index,\n",
    "    # colorscale='Viridis',\n",
    "    colorbar=dict(title='Value'),\n",
    "    text=df.values,  # Display values in each cell\n",
    "    texttemplate=\"%{text}\",  # Format for text\n",
    "    textfont=dict(color='black'),  # Ensure text is visible on darker colors\n",
    ")\n",
    "\n",
    "shapes = []\n",
    "\n",
    "\n",
    "for i in range(5, len(df), 5):  # Start from the 3rd row and add lines every 2 rows\n",
    "    shapes.append(\n",
    "        go.layout.Shape(\n",
    "            type='line',\n",
    "            x0=-0.5,  # Start from the left edge\n",
    "            x1=len(df.columns) - 0.5,  # End at the right edge\n",
    "            y0=i - 0.5,  # Position for the horizontal line\n",
    "            y1=i - 0.5,\n",
    "            line=dict(color='white', width=2),  # White line with a thickness of 2\n",
    "        )\n",
    "    )\n",
    "\n",
    "# Find all cells with values greater than 8\n",
    "\n",
    "for c in true_columns:\n",
    "    col_idx = c[0]  # Get the index of the column\n",
    "    row_idx = 20    # Get the index of the row\n",
    "    shape = go.layout.Shape(\n",
    "        type='rect',\n",
    "        x0=col_idx - 0.5,\n",
    "        x1=col_idx + 0.5,\n",
    "        y0=row_idx - 0.5,\n",
    "        y1=row_idx + 4.5,\n",
    "        line=dict(color='red', width=2),  # Red border for the rectangle\n",
    "        fillcolor='rgba(255, 255, 255, 0)',  # Transparent fill\n",
    "    )\n",
    "    shapes.append(shape)  # Add this shape to the list of shapes\n",
    "\n",
    "# Create the figure and add the heatmap and shapes\n",
    "fig = go.Figure(data=[heatmap])\n",
    "fig.update_layout(\n",
    "    width=460,  # Adjust based on your needs\n",
    "    height=950,\n",
    "    # autosize=True,\n",
    "    shapes=shapes,  # Add all the shapes (rectangles)\n",
    "    title='Heatmap with Multiple Rectangles around Values Greater Than 8',\n",
    "    xaxis=dict(title='Metrics'),\n",
    "    yaxis=dict(title='Rows'),\n",
    "    yaxis_autorange='reversed',  # Ensures correct orientation\n",
    ")\n",
    "\n",
    "# Display the heatmap with the rectangle\n",
    "fig.show()"
   ]
  },
  {
   "cell_type": "code",
   "execution_count": 299,
   "id": "fb207145-dc0b-45ee-a174-9440da62ebf0",
   "metadata": {
    "tags": []
   },
   "outputs": [],
   "source": [
    "fig.write_image(input_file.split('.')[0]+'.svg', format=\"svg\")"
   ]
  },
  {
   "cell_type": "code",
   "execution_count": 193,
   "id": "98b3c9ab-be34-40f9-bddc-8a2ffd95150e",
   "metadata": {
    "tags": []
   },
   "outputs": [
    {
     "data": {
      "text/plain": [
       "True"
      ]
     },
     "execution_count": 193,
     "metadata": {},
     "output_type": "execute_result"
    }
   ],
   "source": []
  },
  {
   "cell_type": "code",
   "execution_count": 215,
   "id": "0164b927-0fec-4956-931a-155c1bc7cee2",
   "metadata": {
    "tags": []
   },
   "outputs": [
    {
     "data": {
      "text/plain": [
       "0.81"
      ]
     },
     "execution_count": 215,
     "metadata": {},
     "output_type": "execute_result"
    }
   ],
   "source": [
    "round(0.815, 2)"
   ]
  },
  {
   "cell_type": "code",
   "execution_count": 216,
   "id": "0fbd5c42-fe22-4d4d-acac-7378e4863295",
   "metadata": {
    "tags": []
   },
   "outputs": [
    {
     "data": {
      "text/plain": [
       "0.82"
      ]
     },
     "execution_count": 216,
     "metadata": {},
     "output_type": "execute_result"
    }
   ],
   "source": [
    "round(0.825, 2)"
   ]
  },
  {
   "cell_type": "code",
   "execution_count": null,
   "id": "ea4d2016-022a-4056-9ac8-3f69f81fa157",
   "metadata": {},
   "outputs": [],
   "source": []
  }
 ],
 "metadata": {
  "kernelspec": {
   "display_name": "Python 3 (ipykernel)",
   "language": "python",
   "name": "python3"
  },
  "language_info": {
   "codemirror_mode": {
    "name": "ipython",
    "version": 3
   },
   "file_extension": ".py",
   "mimetype": "text/x-python",
   "name": "python",
   "nbconvert_exporter": "python",
   "pygments_lexer": "ipython3",
   "version": "3.9.18"
  },
  "widgets": {
   "application/vnd.jupyter.widget-state+json": {
    "state": {},
    "version_major": 2,
    "version_minor": 0
   }
  }
 },
 "nbformat": 4,
 "nbformat_minor": 5
}
