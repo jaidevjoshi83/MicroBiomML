{
 "cells": [
  {
   "cell_type": "code",
   "execution_count": 4,
   "id": "476b86c0-b534-454f-8ede-548a7fc8bc1a",
   "metadata": {
    "tags": []
   },
   "outputs": [],
   "source": [
    "import pandas as pd\n",
    "import plotly.express as px\n",
    "import plotly.graph_objects as go\n",
    "import sys\n",
    "\n",
    "\n",
    "###Fix Duplicate Column Names ############################\n",
    "def ReturnUniqueColumnName(columns):\n",
    "    name_count = {}\n",
    "    unique_columns = []\n",
    "    for name in columns:\n",
    "        if name in name_count:\n",
    "            name_count[name] += 1\n",
    "            unique_columns.append(f\"{name}_{name_count[name]}\")\n",
    "        else:\n",
    "            name_count[name] = 1\n",
    "            unique_columns.append(name)\n",
    "    return unique_columns\n",
    "\n",
    "# data  = open(sys.argv[1])\n",
    "\n",
    "df = pd.read_csv('location.tsv', sep='\\t')\n",
    "df.set_index('name', inplace=True)\n",
    "DF = df.T\n",
    "DF.index.name = 'name'\n",
    "DF.columns = ReturnUniqueColumnName(df.T.columns.to_list())\n",
    "###Fix Duplicate Column Names ############################\n"
   ]
  },
  {
   "cell_type": "code",
   "execution_count": null,
   "id": "b3004e25-01e8-45e1-b447-1652bc4a408d",
   "metadata": {},
   "outputs": [],
   "source": [
    "for row in df.index:\n",
    "    for col in df.columns:\n",
    "        if DF.loc[row, col] > 0.91:\n",
    "            indices.append((row, col))  # Store the row and column index"
   ]
  }
 ],
 "metadata": {
  "kernelspec": {
   "display_name": "Python 3 (ipykernel)",
   "language": "python",
   "name": "python3"
  },
  "language_info": {
   "codemirror_mode": {
    "name": "ipython",
    "version": 3
   },
   "file_extension": ".py",
   "mimetype": "text/x-python",
   "name": "python",
   "nbconvert_exporter": "python",
   "pygments_lexer": "ipython3",
   "version": "3.9.18"
  },
  "widgets": {
   "application/vnd.jupyter.widget-state+json": {
    "state": {},
    "version_major": 2,
    "version_minor": 0
   }
  }
 },
 "nbformat": 4,
 "nbformat_minor": 5
}
