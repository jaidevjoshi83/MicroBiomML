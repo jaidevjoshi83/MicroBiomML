{
 "cells": [
  {
   "cell_type": "code",
   "execution_count": 3,
   "id": "6425e50f-5dab-4902-a6c8-4d80608e0e5d",
   "metadata": {},
   "outputs": [],
   "source": [
    "import GiN.authwidget"
   ]
  },
  {
   "cell_type": "code",
   "execution_count": 4,
   "id": "7d65589a-5e4f-4357-b108-3dec33c1e8ac",
   "metadata": {},
   "outputs": [
    {
     "name": "stdout",
     "output_type": "stream",
     "text": [
      "0.1.0\n"
     ]
    }
   ],
   "source": []
  },
  {
   "cell_type": "code",
   "execution_count": 17,
   "id": "dbff496f-76a7-444d-b723-e4c080751573",
   "metadata": {},
   "outputs": [
    {
     "data": {
      "text/plain": [
       "'0.2.0'"
      ]
     },
     "execution_count": 17,
     "metadata": {},
     "output_type": "execute_result"
    }
   ],
   "source": [
    "update_version('0.1.0', 30)"
   ]
  },
  {
   "cell_type": "code",
   "execution_count": 11,
   "id": "8497d07b-65bd-457b-8c75-b71c29d35baf",
   "metadata": {},
   "outputs": [],
   "source": [
    "# !pip install incremental"
   ]
  },
  {
   "cell_type": "code",
   "execution_count": 12,
   "id": "f3b28f6c-c359-4b60-979d-471d48918cd4",
   "metadata": {},
   "outputs": [],
   "source": [
    "from incremental import Version\n",
    "\n",
    "__version__ = Version(\"widgetbox\", , 1, 0)\n",
    "__all__ = [\"__version__\"]"
   ]
  },
  {
   "cell_type": "code",
   "execution_count": 13,
   "id": "02f7932f-207d-48b0-994c-1342772021b5",
   "metadata": {},
   "outputs": [
    {
     "data": {
      "text/plain": [
       "Version('widgetbox', 17, 1, 0)"
      ]
     },
     "execution_count": 13,
     "metadata": {},
     "output_type": "execute_result"
    }
   ],
   "source": [
    "__version__"
   ]
  },
  {
   "cell_type": "code",
   "execution_count": 141,
   "id": "94bd201d-94cf-4c08-9334-41850c90e997",
   "metadata": {},
   "outputs": [],
   "source": [
    "\n",
    "from datetime import datetime\n",
    "\n",
    "def Version(version_string):\n",
    "    \n",
    "    today = datetime.today()\n",
    "    formatted_date = today.strftime(\"%d:%m:%Y\")\n",
    "    \n",
    "    major, minor, patch = version_string.split('.')\n",
    "    major, minor, patch = int(major), int(minor), int(patch)\n",
    "    if patch < 10:\n",
    "        patch = patch+1\n",
    "    else:\n",
    "        patch = 0\n",
    "        if  minor < 10:\n",
    "            minor = minor+1\n",
    "        else:\n",
    "            minor = 0\n",
    "            major = major+1\n",
    "\n",
    "    return {'version':f\"{major}.{minor}.{patch}\", 'releaase_date':formatted_date}"
   ]
  },
  {
   "cell_type": "code",
   "execution_count": 142,
   "id": "d287e371-e1ac-4260-bda7-b892dc1c2007",
   "metadata": {},
   "outputs": [
    {
     "name": "stdout",
     "output_type": "stream",
     "text": [
      "{'version': '0.0.2', 'releaase_date': '30:06:2023'}\n"
     ]
    }
   ],
   "source": [
    "print (Version('0.0.1'))"
   ]
  },
  {
   "cell_type": "code",
   "execution_count": 134,
   "id": "a1f7f0d6-d376-4eb8-9424-f1546659f739",
   "metadata": {},
   "outputs": [
    {
     "name": "stdout",
     "output_type": "stream",
     "text": [
      "30/06/2023\n"
     ]
    }
   ],
   "source": []
  },
  {
   "cell_type": "code",
   "execution_count": 162,
   "id": "014f5ad4-d5ca-4df6-9a56-05c9706d833c",
   "metadata": {},
   "outputs": [
    {
     "name": "stdout",
     "output_type": "stream",
     "text": [
      "\u001b[34mAsnicarF_2017\u001b[m\u001b[m          \u001b[34mKaurK_2020\u001b[m\u001b[m             \u001b[34mRoutyB_2018\u001b[m\u001b[m\n",
      "\u001b[34mAsnicarF_2021\u001b[m\u001b[m          \u001b[34mKeohaneDM_2020\u001b[m\u001b[m         \u001b[34mRubelMA_2020\u001b[m\u001b[m\n",
      "\u001b[34mBackhedF_2015\u001b[m\u001b[m          \u001b[34mKieserS_2018\u001b[m\u001b[m           \u001b[34mSankaranarayananK_2015\u001b[m\u001b[m\n",
      "\u001b[34mBaruchEN_2021\u001b[m\u001b[m          \u001b[34mKosticAD_2015\u001b[m\u001b[m          \u001b[34mSchirmerM_2016\u001b[m\u001b[m\n",
      "\u001b[34mBedarfJR_2017\u001b[m\u001b[m          \u001b[34mLassalleF_2017\u001b[m\u001b[m         \u001b[34mShaoY_2019\u001b[m\u001b[m\n",
      "\u001b[34mBengtsson-PalmeJ_2015\u001b[m\u001b[m  \u001b[34mLeChatelierE_2013\u001b[m\u001b[m      \u001b[34mShiB_2015\u001b[m\u001b[m\n",
      "\u001b[34mBritoIL_2016\u001b[m\u001b[m           \u001b[34mLeeKA_2022\u001b[m\u001b[m             \u001b[34mSmitsSA_2017\u001b[m\u001b[m\n",
      "\u001b[34mBrooksB_2017\u001b[m\u001b[m           \u001b[34mLiJ_2014\u001b[m\u001b[m               \u001b[34mSpencerCN_2021\u001b[m\u001b[m\n",
      "\u001b[34mCastro-NallarE_2015\u001b[m\u001b[m    \u001b[34mLiJ_2017\u001b[m\u001b[m               \u001b[34mTettAJ_2016\u001b[m\u001b[m\n",
      "\u001b[34mChengpingW_2017\u001b[m\u001b[m        \u001b[34mLiSS_2016\u001b[m\u001b[m              \u001b[34mTettAJ_2019_a\u001b[m\u001b[m\n",
      "\u001b[34mChngKR_2016\u001b[m\u001b[m            \u001b[34mLifeLinesDeep_2016\u001b[m\u001b[m     \u001b[34mTettAJ_2019_b\u001b[m\u001b[m\n",
      "\u001b[34mChuDM_2017\u001b[m\u001b[m             \u001b[34mLiuW_2016\u001b[m\u001b[m              \u001b[34mTettAJ_2019_c\u001b[m\u001b[m\n",
      "\u001b[34mContevilleLC_2019\u001b[m\u001b[m      \u001b[34mLokmerA_2019\u001b[m\u001b[m           \u001b[34mThomasAM_2018a\u001b[m\u001b[m\n",
      "\u001b[34mCosteaPI_2017\u001b[m\u001b[m          \u001b[34mLomanNJ_2013\u001b[m\u001b[m           \u001b[34mThomasAM_2018b\u001b[m\u001b[m\n",
      "\u001b[34mDavarD_2021\u001b[m\u001b[m            \u001b[34mLoombaR_2017\u001b[m\u001b[m           \u001b[34mThomasAM_2019_c\u001b[m\u001b[m\n",
      "\u001b[34mDavidLA_2015\u001b[m\u001b[m           \u001b[34mLouisS_2016\u001b[m\u001b[m            \u001b[34mValles-ColomerM_2023_a\u001b[m\u001b[m\n",
      "\u001b[34mDeFilippisF_2019\u001b[m\u001b[m       \u001b[34mMatsonV_2018\u001b[m\u001b[m           \u001b[34mVatanenT_2016\u001b[m\u001b[m\n",
      "\u001b[34mDhakanDB_2019\u001b[m\u001b[m          \u001b[34mMcCullochJA_2022\u001b[m\u001b[m       \u001b[34mVilaAV_2018\u001b[m\u001b[m\n",
      "\u001b[34mFengQ_2015\u001b[m\u001b[m             \u001b[34mMehtaRS_2018\u001b[m\u001b[m           \u001b[34mVincentC_2016\u001b[m\u001b[m\n",
      "\u001b[34mFerrettiP_2018\u001b[m\u001b[m         \u001b[34mMetaCardis_2020_a\u001b[m\u001b[m      \u001b[34mVogtmannE_2016\u001b[m\u001b[m\n",
      "\u001b[34mFrankelAE_2017\u001b[m\u001b[m         \u001b[34mNagataN_2022\u001b[m\u001b[m           \u001b[34mWampachL_2018\u001b[m\u001b[m\n",
      "\u001b[34mGhensiP_2019\u001b[m\u001b[m           \u001b[34mNagySzakalD_2017\u001b[m\u001b[m       \u001b[34mWenC_2017\u001b[m\u001b[m\n",
      "\u001b[34mGopalakrishnanV_2018\u001b[m\u001b[m   \u001b[34mNielsenHB_2014\u001b[m\u001b[m         \u001b[34mWindTT_2020\u001b[m\u001b[m\n",
      "\u001b[34mGuptaA_2019\u001b[m\u001b[m            \u001b[34mObregon-TitoAJ_2015\u001b[m\u001b[m    \u001b[34mWirbelJ_2018\u001b[m\u001b[m\n",
      "\u001b[34mHMP_2012\u001b[m\u001b[m               \u001b[34mOhJ_2014\u001b[m\u001b[m               \u001b[34mXieH_2016\u001b[m\u001b[m\n",
      "\u001b[34mHMP_2019_ibdmdb\u001b[m\u001b[m        \u001b[34mOhJ_2016\u001b[m\u001b[m               \u001b[34mXuQ_2021\u001b[m\u001b[m\n",
      "\u001b[34mHMP_2019_t2d\u001b[m\u001b[m           \u001b[34mOlmMR_2017\u001b[m\u001b[m             \u001b[34mYachidaS_2019\u001b[m\u001b[m\n",
      "\u001b[34mHallAB_2017\u001b[m\u001b[m            \u001b[34mPasolliE_2019\u001b[m\u001b[m          \u001b[34mYassourM_2016\u001b[m\u001b[m\n",
      "\u001b[34mHanniganGD_2017\u001b[m\u001b[m        \u001b[34mPehrssonE_2016\u001b[m\u001b[m         \u001b[34mYassourM_2018\u001b[m\u001b[m\n",
      "\u001b[34mHansenLBS_2018\u001b[m\u001b[m         \u001b[34mPernigoniN_2021\u001b[m\u001b[m        \u001b[34mYeZ_2018\u001b[m\u001b[m\n",
      "\u001b[34mHeQ_2017\u001b[m\u001b[m               \u001b[34mPetersBA_2019\u001b[m\u001b[m          \u001b[34mYuJ_2015\u001b[m\u001b[m\n",
      "\u001b[34mHeitz-BuschartA_2016\u001b[m\u001b[m   \u001b[34mQinJ_2012\u001b[m\u001b[m              \u001b[34mZeeviD_2015\u001b[m\u001b[m\n",
      "\u001b[34mIaniroG_2022\u001b[m\u001b[m           \u001b[34mQinN_2014\u001b[m\u001b[m              \u001b[34mZellerG_2014\u001b[m\u001b[m\n",
      "\u001b[34mIjazUZ_2017\u001b[m\u001b[m            README.md              \u001b[34mZhuF_2020\u001b[m\u001b[m\n",
      "\u001b[34mJieZ_2017\u001b[m\u001b[m              \u001b[34mRampelliS_2015\u001b[m\u001b[m         test.py\n",
      "\u001b[34mKarlssonFH_2013\u001b[m\u001b[m        \u001b[34mRaymondF_2016\u001b[m\u001b[m\n",
      "\u001b[34mKartalE_2022\u001b[m\u001b[m           \u001b[34mRosaBA_2018\u001b[m\u001b[m\n"
     ]
    }
   ],
   "source": [
    "!cd /Users/joshij/Desktop/curatedMetagenomicDataCuration/inst/curated/ && ls"
   ]
  },
  {
   "cell_type": "code",
   "execution_count": 165,
   "id": "c2f6d6d9-cfa3-4350-b0b6-ac8addc15bee",
   "metadata": {},
   "outputs": [
    {
     "name": "stdout",
     "output_type": "stream",
     "text": [
      "AsnicarF_2021_metadata.tsv\n"
     ]
    }
   ],
   "source": [
    "!cd /Users/joshij/Desktop/curatedMetagenomicDataCuration/inst/curated/AsnicarF_2021/ && ls"
   ]
  },
  {
   "cell_type": "code",
   "execution_count": 170,
   "id": "c778958b-fe64-4593-a629-007549d77cbe",
   "metadata": {},
   "outputs": [],
   "source": [
    "import pandas as pd\n",
    "df = pd.read_csv(\"/Users/joshij/Desktop/curatedMetagenomicDataCuration/inst/curated/WindTT_2020/WindTT_2020_metadata.tsv\",sep=\"\\t\")"
   ]
  },
  {
   "cell_type": "code",
   "execution_count": 171,
   "id": "bd740643-ecd8-4493-8c54-2c009bb78bfa",
   "metadata": {},
   "outputs": [
    {
     "data": {
      "text/plain": [
       "['study_name',\n",
       " 'sample_id',\n",
       " 'subject_id',\n",
       " 'body_site',\n",
       " 'antibiotics_current_use',\n",
       " 'study_condition',\n",
       " 'disease',\n",
       " 'age',\n",
       " 'age_category',\n",
       " 'gender',\n",
       " 'BMI',\n",
       " 'country',\n",
       " 'non_westernized',\n",
       " 'sequencing_platform',\n",
       " 'DNA_extraction_kit',\n",
       " 'PMID',\n",
       " 'number_reads',\n",
       " 'number_bases',\n",
       " 'minimum_read_length',\n",
       " 'median_read_length',\n",
       " 'RECIST',\n",
       " 'ORR',\n",
       " 'PFS12',\n",
       " 'curator',\n",
       " 'NCBI_accession']"
      ]
     },
     "execution_count": 171,
     "metadata": {},
     "output_type": "execute_result"
    }
   ],
   "source": [
    "df.columns.to_list()"
   ]
  },
  {
   "cell_type": "code",
   "execution_count": 194,
   "id": "b575ccf1-69ea-4d69-95b6-e4b765b55eee",
   "metadata": {},
   "outputs": [
    {
     "data": {
      "text/plain": [
       "20"
      ]
     },
     "execution_count": 194,
     "metadata": {},
     "output_type": "execute_result"
    }
   ],
   "source": [
    "len(set(df['sample_id'].values))"
   ]
  },
  {
   "cell_type": "code",
   "execution_count": 360,
   "id": "21e5cb71-c82b-4df6-9199-c6a32ee8c6ab",
   "metadata": {},
   "outputs": [
    {
     "name": "stdout",
     "output_type": "stream",
     "text": [
      "JSON data written to /Users/joshij/Desktop/curatedMetagenomicDataCuration/inst/data.json\n"
     ]
    }
   ],
   "source": [
    "import os\n",
    "import glob\n",
    "import pandas as pd\n",
    "import json\n",
    "\n",
    "ignore = ['study_name', 'sample_id', 'BMI','minimum_read_length', 'number_bases', 'minimum_read_length', 'DNA_extraction_kit', 'NCBI_accession', 'PMID', 'median_read_length', 'subject_id', 'body_site', 'body_subsite', 'study_condition', 'disease', 'disease_subtype', 'age',  'sequencing_platform', 'number_reads', 'treatment', 'curator']\n",
    "\n",
    "\n",
    "def get_directories(directory_path):\n",
    "    directories = []\n",
    "    for entry in os.scandir(directory_path):\n",
    "        if entry.is_dir():\n",
    "            directories.append(entry.name)\n",
    "    return directories\n",
    "\n",
    "\n",
    "directory_path = '/Users/joshij/Desktop/curatedMetagenomicDataCuration/inst/curated'\n",
    "directories_list = get_directories(directory_path)\n",
    "\n",
    "\n",
    "new_df = []\n",
    "\n",
    "for a in directories_list:\n",
    "    \n",
    "    b = glob.glob('/Users/joshij/Desktop/curatedMetagenomicDataCuration/inst/curated/'+a+\"/*.tsv\")\n",
    "    Class_variable.append(a)\n",
    "    \n",
    "    if len(b) > 0:\n",
    "        n = {}\n",
    "        c = {}\n",
    "\n",
    "        df = pd.read_csv(b[0], sep=\"\\t\")\n",
    "        for i in df.columns.to_list():\n",
    "            if i in ignore:\n",
    "                pass\n",
    "            elif i not in ignore:  \n",
    "                if len(set(df[i].values)) < 8 and len(set(df[i].values)) != 1 :\n",
    "                    # d[a] = {i:len(set(df[i].values))}\n",
    "                    # print(i, len(set(df[i].values)))\n",
    "                    d.append(i)\n",
    "                    v.append(len(set(df[i].values)))\n",
    "                    \n",
    "                    c[i] = len(set(df[i].values))\n",
    "    n[a] = c\n",
    "    \n",
    "    new_df.append(n)\n",
    "                    \n",
    "\n",
    "file_path = '/Users/joshij/Desktop/curatedMetagenomicDataCuration/inst/data.json'\n",
    "\n",
    "\n",
    "with open(file_path, 'w') as json_file:\n",
    "    json.dump(new_df, json_file, indent=4)\n",
    "\n",
    "print(f\"JSON data written to {file_path}\")"
   ]
  },
  {
   "cell_type": "code",
   "execution_count": null,
   "id": "730ccf07-5252-498b-bfdd-2e74418abbf5",
   "metadata": {},
   "outputs": [],
   "source": []
  },
  {
   "cell_type": "code",
   "execution_count": null,
   "id": "39759e72-4405-4bfd-ba31-5d5f5016ed17",
   "metadata": {},
   "outputs": [],
   "source": []
  }
 ],
 "metadata": {
  "kernelspec": {
   "display_name": "Python 3 (ipykernel)",
   "language": "python",
   "name": "python3"
  },
  "language_info": {
   "codemirror_mode": {
    "name": "ipython",
    "version": 3
   },
   "file_extension": ".py",
   "mimetype": "text/x-python",
   "name": "python",
   "nbconvert_exporter": "python",
   "pygments_lexer": "ipython3",
   "version": "3.8.16"
  },
  "widgets": {
   "application/vnd.jupyter.widget-state+json": {
    "state": {},
    "version_major": 2,
    "version_minor": 0
   }
  }
 },
 "nbformat": 4,
 "nbformat_minor": 5
}
